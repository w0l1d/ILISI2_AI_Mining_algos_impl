{
 "cells": [
  {
   "cell_type": "markdown",
   "source": [
    "# Imports"
   ],
   "metadata": {
    "collapsed": false
   }
  },
  {
   "cell_type": "code",
   "execution_count": 5,
   "outputs": [],
   "source": [
    "import numpy as np\n",
    "import matplotlib.pyplot as plt\n",
    "import pandas as pd\n"
   ],
   "metadata": {
    "collapsed": false,
    "ExecuteTime": {
     "start_time": "2023-04-05T01:46:42.738042Z",
     "end_time": "2023-04-05T01:46:43.156451Z"
    }
   }
  },
  {
   "cell_type": "markdown",
   "source": [
    "# K-means Algorithm\n",
    "--------------------"
   ],
   "metadata": {
    "collapsed": false
   }
  },
  {
   "cell_type": "code",
   "execution_count": 13,
   "outputs": [],
   "source": [
    "def kmeans(data, k, initial_centers):\n",
    "    centers = initial_centers\n",
    "    prev_centers = np.zeros_like(centers)\n",
    "    clusters = np.zeros(len(data))\n",
    "\n",
    "    while not np.array_equal(centers, prev_centers):\n",
    "        plt.scatter(data, np.zeros_like(data), c=clusters)\n",
    "        plt.scatter(centers, np.zeros_like(centers), marker='x', c='red')\n",
    "        plt.show()\n",
    "\n",
    "        for i, x in enumerate(data):\n",
    "            distances = np.abs(centers - x)\n",
    "            clusters[i] = np.argmin(distances)\n",
    "            print(f\"x={x} centers={centers} distance de x({x}) de chaque centre : ({distances})  clusters[{i}]={clusters[i]}\")\n",
    "\n",
    "        prev_centers = np.copy(centers)\n",
    "        print(\"@@@@@@@@@@@@ les clustres par centre @@@@@@@@@@@@@\")\n",
    "        for j in range(k):\n",
    "            centers[j] = np.mean(data[clusters == j])\n",
    "            print(f\"C{j}={data[clusters==j]} M{j} =({centers[j]}) \")\n",
    "        print(\"------------------------------------\")\n",
    "\n",
    "\n",
    "\n",
    "    return clusters, centers"
   ],
   "metadata": {
    "collapsed": false,
    "ExecuteTime": {
     "start_time": "2023-04-05T01:46:43.160449Z",
     "end_time": "2023-04-05T01:46:43.166866Z"
    }
   }
  },
  {
   "cell_type": "markdown",
   "source": [
    "#### algorithm Test"
   ],
   "metadata": {
    "collapsed": false
   }
  },
  {
   "cell_type": "code",
   "execution_count": 14,
   "outputs": [
    {
     "data": {
      "text/plain": "<Figure size 640x480 with 1 Axes>",
      "image/png": "[encoded data removed]"
     },
     "metadata": {},
     "output_type": "display_data"
    },
    {
     "name": "stdout",
     "output_type": "stream",
     "text": [
      "x=15 centers=[[15 12 16 10]] distance de x(15) de chaque centre : ([[0 3 1 5]])  clusters[0]=0.0\n",
      "x=12 centers=[[15 12 16 10]] distance de x(12) de chaque centre : ([[3 0 4 2]])  clusters[1]=1.0\n",
      "x=16 centers=[[15 12 16 10]] distance de x(16) de chaque centre : ([[1 4 0 6]])  clusters[2]=2.0\n",
      "x=10 centers=[[15 12 16 10]] distance de x(10) de chaque centre : ([[5 2 6 0]])  clusters[3]=3.0\n",
      "x=11 centers=[[15 12 16 10]] distance de x(11) de chaque centre : ([[4 1 5 1]])  clusters[4]=1.0\n",
      "x=12 centers=[[15 12 16 10]] distance de x(12) de chaque centre : ([[3 0 4 2]])  clusters[5]=1.0\n",
      "@@@@@@@@@@@@ les clustres par centre @@@@@@@@@@@@@\n",
      "C0=[15] M0 =([15 15 15 15]) \n"
     ]
    },
    {
     "ename": "IndexError",
     "evalue": "index 1 is out of bounds for axis 0 with size 1",
     "output_type": "error",
     "traceback": [
      "\u001B[1;31m---------------------------------------------------------------------------\u001B[0m",
      "\u001B[1;31mIndexError\u001B[0m                                Traceback (most recent call last)",
      "Cell \u001B[1;32mIn[14], line 6\u001B[0m\n\u001B[0;32m      4\u001B[0m k \u001B[38;5;241m=\u001B[39m \u001B[38;5;241m3\u001B[39m\n\u001B[0;32m      5\u001B[0m initial_centers \u001B[38;5;241m=\u001B[39m np\u001B[38;5;241m.\u001B[39marray([data[:k\u001B[38;5;241m+\u001B[39m\u001B[38;5;241m1\u001B[39m]])\n\u001B[1;32m----> 6\u001B[0m clusters, centers \u001B[38;5;241m=\u001B[39m \u001B[43mkmeans\u001B[49m\u001B[43m(\u001B[49m\u001B[43mdata\u001B[49m\u001B[43m,\u001B[49m\u001B[43m \u001B[49m\u001B[43mk\u001B[49m\u001B[43m,\u001B[49m\u001B[43m \u001B[49m\u001B[43minitial_centers\u001B[49m\u001B[43m)\u001B[49m\n\u001B[0;32m      8\u001B[0m \u001B[38;5;28mprint\u001B[39m(\u001B[38;5;124m\"\u001B[39m\u001B[38;5;124mResultat fianle: \u001B[39m\u001B[38;5;124m\"\u001B[39m)\n\u001B[0;32m      9\u001B[0m \u001B[38;5;28;01mfor\u001B[39;00m j \u001B[38;5;129;01min\u001B[39;00m \u001B[38;5;28mrange\u001B[39m(k):\n",
      "Cell \u001B[1;32mIn[13], line 19\u001B[0m, in \u001B[0;36mkmeans\u001B[1;34m(data, k, initial_centers)\u001B[0m\n\u001B[0;32m     17\u001B[0m \u001B[38;5;28mprint\u001B[39m(\u001B[38;5;124m\"\u001B[39m\u001B[38;5;124m@@@@@@@@@@@@ les clustres par centre @@@@@@@@@@@@@\u001B[39m\u001B[38;5;124m\"\u001B[39m)\n\u001B[0;32m     18\u001B[0m \u001B[38;5;28;01mfor\u001B[39;00m j \u001B[38;5;129;01min\u001B[39;00m \u001B[38;5;28mrange\u001B[39m(k):\n\u001B[1;32m---> 19\u001B[0m     \u001B[43mcenters\u001B[49m\u001B[43m[\u001B[49m\u001B[43mj\u001B[49m\u001B[43m]\u001B[49m \u001B[38;5;241m=\u001B[39m np\u001B[38;5;241m.\u001B[39mmean(data[clusters \u001B[38;5;241m==\u001B[39m j])\n\u001B[0;32m     20\u001B[0m     \u001B[38;5;28mprint\u001B[39m(\u001B[38;5;124mf\u001B[39m\u001B[38;5;124m\"\u001B[39m\u001B[38;5;124mC\u001B[39m\u001B[38;5;132;01m{\u001B[39;00mj\u001B[38;5;132;01m}\u001B[39;00m\u001B[38;5;124m=\u001B[39m\u001B[38;5;132;01m{\u001B[39;00mdata[clusters\u001B[38;5;241m==\u001B[39mj]\u001B[38;5;132;01m}\u001B[39;00m\u001B[38;5;124m M\u001B[39m\u001B[38;5;132;01m{\u001B[39;00mj\u001B[38;5;132;01m}\u001B[39;00m\u001B[38;5;124m =(\u001B[39m\u001B[38;5;132;01m{\u001B[39;00mcenters[j]\u001B[38;5;132;01m}\u001B[39;00m\u001B[38;5;124m) \u001B[39m\u001B[38;5;124m\"\u001B[39m)\n\u001B[0;32m     21\u001B[0m \u001B[38;5;28mprint\u001B[39m(\u001B[38;5;124m\"\u001B[39m\u001B[38;5;124m------------------------------------\u001B[39m\u001B[38;5;124m\"\u001B[39m)\n",
      "\u001B[1;31mIndexError\u001B[0m: index 1 is out of bounds for axis 0 with size 1"
     ]
    }
   ],
   "source": [
    "df = pd.read_csv(\"etud.csv\")\n",
    "\n",
    "data = df['note1'].values\n",
    "k = 3\n",
    "initial_centers = np.array([data[:k+1]])\n",
    "clusters, centers = kmeans(data, k, initial_centers)\n",
    "\n",
    "print(\"Resultat fianle: \")\n",
    "for j in range(k):\n",
    "    centers[j] = np.mean(data[clusters == j])\n",
    "    print(f\"C{j}={data[clusters == j]} M{j} =({centers[j]}) \")\n",
    "\n"
   ],
   "metadata": {
    "collapsed": false,
    "ExecuteTime": {
     "start_time": "2023-04-05T01:46:43.170869Z",
     "end_time": "2023-04-05T01:46:43.840018Z"
    }
   }
  },
  {
   "cell_type": "markdown",
   "source": [
    "###### clusters [0. 0. 0. 1. 1. 1. 2. 2. 2. ] mean the 1st, 2nd and third are in the same first cluster (see the plots to understand)"
   ],
   "metadata": {
    "collapsed": false
   }
  },
  {
   "cell_type": "code",
   "execution_count": 4,
   "outputs": [
    {
     "name": "stdout",
     "output_type": "stream",
     "text": [
      "[0. 0. 0. 1. 1. 1. 2. 2. 2.]\n"
     ]
    }
   ],
   "source": [
    "print(clusters)"
   ],
   "metadata": {
    "collapsed": false,
    "ExecuteTime": {
     "start_time": "2023-04-05T01:46:43.838506Z",
     "end_time": "2023-04-05T01:46:43.841016Z"
    }
   }
  }
 ],
 "metadata": {
  "kernelspec": {
   "display_name": "Python 3",
   "language": "python",
   "name": "python3"
  },
  "language_info": {
   "codemirror_mode": {
    "name": "ipython",
    "version": 2
   },
   "file_extension": ".py",
   "mimetype": "text/x-python",
   "name": "python",
   "nbconvert_exporter": "python",
   "pygments_lexer": "ipython2",
   "version": "2.7.6"
  }
 },
 "nbformat": 4,
 "nbformat_minor": 0
}
