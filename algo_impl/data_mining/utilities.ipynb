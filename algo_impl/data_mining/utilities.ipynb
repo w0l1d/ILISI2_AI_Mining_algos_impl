{
 "cells": [
  {
   "cell_type": "markdown",
   "source": [
    "## Data Normalization"
   ],
   "metadata": {
    "collapsed": false
   }
  },
  {
   "cell_type": "code",
   "execution_count": null,
   "metadata": {
    "collapsed": true
   },
   "outputs": [],
   "source": [
    "import pandas as pd\n",
    "\n",
    "def normalize_data(df: pd.DataFrame, test_date: pd.DataFrame = None, ignore_cols:list=[]):\n",
    "\n",
    "    ignore_cols.append('class')\n",
    "    ignore_cols.append('id')\n",
    "    numeric_cols = df.select_dtypes(include='number').columns\n",
    "    numeric_cols = [col for col in numeric_cols if col not in ignore_cols]\n",
    "\n",
    "    for col in numeric_cols:\n",
    "        vals = df[col]\n",
    "        mn = min(vals)\n",
    "        mx = max(vals)\n",
    "        if 0 <= mn and mx <= 1:\n",
    "            continue\n",
    "        denom = mx - mn\n",
    "\n",
    "        df[col] = df.apply(lambda row: (row[col] - mn) / denom, axis=1)\n",
    "        if test_date is not None:\n",
    "            test_date[col] = test_date.apply(lambda row: (row[col] - mn) / denom, axis=1)\n",
    "\n",
    "    non_numeric_cols = df.select_dtypes(include='object').columns.tolist()\n",
    "    non_numeric_cols = [col for col in non_numeric_cols if col not in ignore_cols]\n",
    "\n",
    "    for col in non_numeric_cols:\n",
    "        uniq_vals = df[col]\n",
    "        uniq_vals = uniq_vals.unique()\n",
    "        print(f'normilize order of \"{col}\" :: {uniq_vals}')\n",
    "        vals_map = {}\n",
    "        for val in range(len(uniq_vals)):\n",
    "            vals_map[uniq_vals[val]] = [0] * len(uniq_vals)\n",
    "            vals_map[uniq_vals[val]][val] = 1\n",
    "\n",
    "        df[col] = df.apply(lambda row: vals_map[row[col]], axis=1)\n",
    "        if test_date is not None:\n",
    "            test_date[col] = test_date.apply(lambda row: vals_map[row[col]], axis=1)"
   ]
  },
  {
   "cell_type": "markdown",
   "source": [
    "##### Functions that Calculates the distance between two vectors\n"
   ],
   "metadata": {
    "collapsed": false
   }
  },
  {
   "cell_type": "code",
   "execution_count": null,
   "outputs": [],
   "source": [
    "def jaccard_coefficient(l1, l2):\n",
    "    # a is the number combinations of 1 and 0\n",
    "    a = len([1 for i, j in zip(l1, l2) if i == 1 and j == 0])\n",
    "    # b is the number combinations of 0 and 1\n",
    "    b = len([1 for i, j in zip(l1, l2) if i == 0 and j == 1])\n",
    "    # c is the number combinations of 1 and 1\n",
    "    c = len([1 for i, j in zip(l1, l2) if i == j == 1])\n",
    "\n",
    "    return (a + b) / (a + b + c)\n",
    "\n",
    "\n",
    "def appariement_coefficient(l1, l2):\n",
    "    # a is the number combinations of 1 and 0\n",
    "    a = len([1 for i, j in zip(l1, l2) if i == 1 and j == 0])\n",
    "    # b is the number combinations of 0 and 1\n",
    "    b = len([1 for i, j in zip(l1, l2) if i == 0 and j == 1])\n",
    "    # c is the number combinations of 1 and 1\n",
    "    c = len([1 for i, j in zip(l1, l2) if i == j == 1])\n",
    "    # d is the number combinations of 0 and 0\n",
    "    d = len([1 for i, j in zip(l1, l2) if i == j == 0])\n",
    "\n",
    "    return (a + b) / (a + b + c + d)"
   ],
   "metadata": {
    "collapsed": false
   }
  },
  {
   "cell_type": "markdown",
   "source": [],
   "metadata": {
    "collapsed": false
   }
  },
  {
   "cell_type": "code",
   "execution_count": null,
   "outputs": [],
   "source": [
    "\"\"\"\n",
    "    Calculates the distance between two rows\n",
    "    :param row: the row to calculate the distance from\n",
    "    :param test_data: the row to calculate the distance to\n",
    "    :param ignore_columns: columns to ignore in the calculation\n",
    "    :param options: options for the distance calculation\n",
    "    :               options['class'] = the class column name\n",
    "    :               options['col'] = the distance calculation method for the column\n",
    "    :               options['col'] = 'jaccard' for jaccard coefficient\n",
    "    :\n",
    "    :                   1  0\n",
    "    :               1   a  b\n",
    "    :               0   c  d\n",
    "    :           symitrique attribut :     distance_jaccard = (b + c) / (a + b + c)\n",
    "    :       non symetrique attribut : distance_appariement = (b + c) / (a + b + c + d)  **** (default)\n",
    "    :\n",
    "    :return: the distance between the two rows\n",
    "\"\"\"\n",
    "import numbers\n",
    "\n",
    "def distance(row_a: pd.Series, row_b: pd.Series, columns: list, options: dict = []) -> float:\n",
    "    # calculate distance between row and test_data\n",
    "    rest_dist = {}\n",
    "    for col in columns:\n",
    "        if col == 'class' or col == 'id':\n",
    "            continue\n",
    "        if type(row_a[col]) == list:\n",
    "            if col in options and options[col] == 'jaccard':\n",
    "                rest_dist[col] = jaccard_coefficient(row_a[col], row_b[col])\n",
    "            else:\n",
    "                rest_dist[col] = appariement_coefficient(row_a[col], row_b[col])\n",
    "        elif isinstance(row_a[col],  numbers.Number):\n",
    "            rest_dist[col] = abs(row_a[col] - row_b[col])\n",
    "        else:\n",
    "            print(f'error :: {col} is not a number or a list : ',type(row_a[col]),  row_a[col], row_b[col])\n",
    "\n",
    "    dist = sum(rest_dist.values()) / len(rest_dist)\n",
    "    print(f'distance of each column ::  {rest_dist} / {len(rest_dist)} -- result = {dist}')\n",
    "    return dist"
   ],
   "metadata": {
    "collapsed": false
   }
  }
 ],
 "metadata": {
  "kernelspec": {
   "display_name": "Python 3",
   "language": "python",
   "name": "python3"
  },
  "language_info": {
   "codemirror_mode": {
    "name": "ipython",
    "version": 2
   },
   "file_extension": ".py",
   "mimetype": "text/x-python",
   "name": "python",
   "nbconvert_exporter": "python",
   "pygments_lexer": "ipython2",
   "version": "2.7.6"
  }
 },
 "nbformat": 4,
 "nbformat_minor": 0
}
