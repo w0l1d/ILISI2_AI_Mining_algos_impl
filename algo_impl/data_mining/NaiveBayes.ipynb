{
 "cells": [
  {
   "cell_type": "code",
   "execution_count": 1,
   "metadata": {
    "collapsed": true,
    "ExecuteTime": {
     "start_time": "2023-04-04T21:13:08.845472Z",
     "end_time": "2023-04-04T21:13:08.849862Z"
    }
   },
   "outputs": [],
   "source": [
    "from typing import List\n",
    "from collections import defaultdict"
   ]
  },
  {
   "cell_type": "markdown",
   "source": [
    "# Naive Bayes Algorithm\n",
    "-----------------------"
   ],
   "metadata": {
    "collapsed": false
   }
  },
  {
   "cell_type": "code",
   "execution_count": 2,
   "outputs": [],
   "source": [
    "def naive_bayes(training_data: List[List[str]], ids: List[str], classes: List[str],\n",
    "                test_data: List[str]) -> str:\n",
    "    nbr_features = len(ids)\n",
    "    nbr_classes = len(classes)\n",
    "\n",
    "    classe_counts = defaultdict(int)\n",
    "    feature_counts = defaultdict(lambda: defaultdict(int))\n",
    "\n",
    "    # Compter les occurrences de chaque label et caractéristique\n",
    "    for data in training_data:\n",
    "        classe = data[nbr_features]  # recuperer la valeur du classe\n",
    "        classe_counts[classe] += 1  # incrementer le nbr occur de la classe\n",
    "        # pour chaque ligne\n",
    "        for i in range(nbr_features):\n",
    "            feature = data[i]  # recuperer valuer propriete de la ligne\n",
    "            feature_classe_key = ids[i] + \"_\" + classe  # stocker nomPropriete_valeurClasse ex: Temps_Oui\n",
    "            feature_counts[feature_classe_key][feature] += 1  # ajouter <\"Soleil\" , 2 + 1>\n",
    "\n",
    "    # Calculer les probabilités pour chaque classe\n",
    "    classes_probabilities = [0] * nbr_classes\n",
    "    for i in range(nbr_classes):\n",
    "        classe = classes[i]\n",
    "\n",
    "        print(f\"-------------------------Pour la Classe: ({classe})-------------------------\")\n",
    "        probability = classe_counts[classe] / len(training_data)  # probabilite de la classe\n",
    "        print(f\"P({classe})= {classe_counts[classe]}/{len(training_data)} = {probability}\")\n",
    "        for j in range(nbr_features):  # pour chaque valeur propreite\n",
    "            feature = test_data[j]\n",
    "            feature_label_key = ids[j] + \"_\" + classe\n",
    "            feature_classe_counts = feature_counts[feature_label_key]\n",
    "            feature_count = feature_classe_counts.get(feature, 0)  # recuperer ls\n",
    "            feature_classe_prob = feature_count / classe_counts[classe]\n",
    "            print(f\"propriete: {ids[j]}, valeur: ({feature}), nombre pour la classe:({classe}): {feature_count}\\n\\t P({feature}|{classe}) = {feature_count}/{classe_counts[classe]} ={feature_classe_prob}\")\n",
    "            probability *= feature_classe_prob\n",
    "\n",
    "        print(f\"\\t\\t==========Probabilite de la classe ({classe}): {probability} ==========\")\n",
    "        print()\n",
    "        classes_probabilities[i] = probability\n",
    "\n",
    "    # Trouver la classe avec la probabilité la plus élevée\n",
    "    max_index = 0\n",
    "    for i in range(1, nbr_classes):\n",
    "        if classes_probabilities[i] > classes_probabilities[max_index]:\n",
    "            max_index = i\n",
    "\n",
    "    return classes[max_index]"
   ],
   "metadata": {
    "collapsed": false,
    "ExecuteTime": {
     "start_time": "2023-04-04T21:13:08.854295Z",
     "end_time": "2023-04-04T21:13:08.858017Z"
    }
   }
  },
  {
   "cell_type": "markdown",
   "source": [
    "##### Naive Bayes algorithm Test\n",
    "----------------------------"
   ],
   "metadata": {
    "collapsed": false
   }
  },
  {
   "cell_type": "code",
   "execution_count": 3,
   "outputs": [
    {
     "name": "stdout",
     "output_type": "stream",
     "text": [
      "-------------------------Pour la Classe: (C1)-------------------------\n",
      "P(C1)= 5/10 = 0.5\n",
      "propriete: x1, valeur: (0), nombre pour la classe:(C1): 1\n",
      "\t P(0|C1) = 1/5 =0.2\n",
      "propriete: x2, valeur: (0), nombre pour la classe:(C1): 3\n",
      "\t P(0|C1) = 3/5 =0.6\n",
      "propriete: x3, valeur: (1), nombre pour la classe:(C1): 3\n",
      "\t P(1|C1) = 3/5 =0.6\n",
      "propriete: x4, valeur: (1), nombre pour la classe:(C1): 2\n",
      "\t P(1|C1) = 2/5 =0.4\n",
      "propriete: x5, valeur: (1), nombre pour la classe:(C1): 2\n",
      "\t P(1|C1) = 2/5 =0.4\n",
      "\t\t==========Probabilite de la classe (C1): 0.00576 ==========\n",
      "\n",
      "-------------------------Pour la Classe: (C2)-------------------------\n",
      "P(C2)= 5/10 = 0.5\n",
      "propriete: x1, valeur: (0), nombre pour la classe:(C2): 1\n",
      "\t P(0|C2) = 1/5 =0.2\n",
      "propriete: x2, valeur: (0), nombre pour la classe:(C2): 1\n",
      "\t P(0|C2) = 1/5 =0.2\n",
      "propriete: x3, valeur: (1), nombre pour la classe:(C2): 3\n",
      "\t P(1|C2) = 3/5 =0.6\n",
      "propriete: x4, valeur: (1), nombre pour la classe:(C2): 3\n",
      "\t P(1|C2) = 3/5 =0.6\n",
      "propriete: x5, valeur: (1), nombre pour la classe:(C2): 3\n",
      "\t P(1|C2) = 3/5 =0.6\n",
      "\t\t==========Probabilite de la classe (C2): 0.00432 ==========\n",
      "\n",
      "La prédiction pour les données de test ['0', '0', '1', '1', '1'] est: C1\n"
     ]
    }
   ],
   "source": [
    "training_data = [\n",
    "    [\"0\", \"1\", \"1\", \"0\", \"0\", \"C1\"],\n",
    "    [\"1\", \"1\", \"0\", \"0\", \"1\", \"C1\"],\n",
    "    [\"1\", \"0\", \"1\", \"1\", \"0\", \"C1\"],\n",
    "    [\"1\", \"0\", \"1\", \"0\", \"1\", \"C1\"],\n",
    "    [\"1\", \"0\", \"0\", \"1\", \"0\", \"C1\"],\n",
    "    [\"0\", \"1\", \"0\", \"1\", \"0\", \"C2\"],\n",
    "    [\"1\", \"1\", \"1\", \"1\", \"1\", \"C2\"],\n",
    "    [\"1\", \"1\", \"0\", \"1\", \"0\", \"C2\"],\n",
    "    [\"1\", \"1\", \"1\", \"0\", \"1\", \"C2\"],\n",
    "    [\"1\", \"0\", \"1\", \"0\", \"1\", \"C2\"]\n",
    "]\n",
    "\n",
    "ids = [\"x1\", \"x2\", \"x3\", \"x4\", \"x5\"]\n",
    "classes = [\"C1\", \"C2\"]\n",
    "\n",
    "test_data = [\"0\", \"0\", \"1\", \"1\", \"1\"]\n",
    "\n",
    "result = naive_bayes(training_data, ids, classes, test_data)\n",
    "print(f\"La prédiction pour les données de test {test_data} est: {result}\")"
   ],
   "metadata": {
    "collapsed": false,
    "ExecuteTime": {
     "start_time": "2023-04-04T21:13:08.862543Z",
     "end_time": "2023-04-04T21:13:08.869741Z"
    }
   }
  }
 ],
 "metadata": {
  "kernelspec": {
   "display_name": "Python 3",
   "language": "python",
   "name": "python3"
  },
  "language_info": {
   "codemirror_mode": {
    "name": "ipython",
    "version": 2
   },
   "file_extension": ".py",
   "mimetype": "text/x-python",
   "name": "python",
   "nbconvert_exporter": "python",
   "pygments_lexer": "ipython2",
   "version": "2.7.6"
  }
 },
 "nbformat": 4,
 "nbformat_minor": 0
}
