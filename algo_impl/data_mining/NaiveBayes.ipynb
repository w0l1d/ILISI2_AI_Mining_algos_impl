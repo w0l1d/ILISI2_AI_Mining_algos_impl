{
 "cells": [
  {
   "cell_type": "code",
   "execution_count": 1,
   "metadata": {
    "collapsed": true,
    "ExecuteTime": {
     "start_time": "2023-04-05T14:03:22.918648Z",
     "end_time": "2023-04-05T14:03:22.936505Z"
    }
   },
   "outputs": [],
   "source": [
    "from typing import List\n",
    "import statistics\n",
    "import numpy as np\n",
    "from collections import defaultdict"
   ]
  },
  {
   "cell_type": "markdown",
   "source": [
    "### continues vars formulat"
   ],
   "metadata": {
    "collapsed": false
   }
  },
  {
   "cell_type": "code",
   "execution_count": 2,
   "outputs": [],
   "source": [
    "def cont_proba(lst,x):\n",
    "    moyen = sum(lst) / len(lst)\n",
    "    ecartype = statistics.pstdev(lst)**2\n",
    "    print(moyen)\n",
    "    print(ecartype)\n",
    "    p = (1/np.sqrt(2*np.pi*ecartype))*np.exp(np.power((x-moyen),2)/(2*ecartype))\n",
    "    return round(p,6)"
   ],
   "metadata": {
    "collapsed": false,
    "ExecuteTime": {
     "start_time": "2023-04-05T14:03:22.925997Z",
     "end_time": "2023-04-05T14:03:22.936505Z"
    }
   }
  },
  {
   "cell_type": "markdown",
   "source": [
    "# Naive Bayes Algorithm\n",
    "-----------------------"
   ],
   "metadata": {
    "collapsed": false
   }
  },
  {
   "cell_type": "code",
   "execution_count": 3,
   "outputs": [],
   "source": [
    "def naive_bayes(training_data: List[List[str]], ids: List[str], classes: List[str],\n",
    "                test_data: List[str], var_continue:List[int]) -> str:\n",
    "    nbr_features = len(ids)\n",
    "    nbr_classes = len(classes)\n",
    "\n",
    "    classe_counts = defaultdict(int)\n",
    "    feature_counts = defaultdict(lambda: defaultdict(int))\n",
    "\n",
    "    # Compter les occurrences de chaque label et caractéristique\n",
    "    for data in training_data:\n",
    "        classe = data[nbr_features]  # recuperer la valeur du classe\n",
    "        classe_counts[classe] += 1  # incrementer le nbr occur de la classe\n",
    "        # pour chaque ligne\n",
    "        for i in range(nbr_features):\n",
    "            feature = data[i]  # recuperer valuer propriete de la ligne\n",
    "            feature_classe_key = ids[i] + \"_\" + classe  # stocker nomPropriete_valeurClasse ex: Temps_Oui\n",
    "            feature_counts[feature_classe_key][feature] += 1  # ajouter <\"Soleil\" , 2 + 1>\n",
    "\n",
    "    # Calculer les probabilités pour chaque classe\n",
    "    classes_probabilities = [0] * nbr_classes\n",
    "    for i in range(nbr_classes):\n",
    "        classe = classes[i]\n",
    "\n",
    "        print(f\"-------------------------Pour la Classe: ({classe})-------------------------\")\n",
    "        probability = classe_counts[classe] / len(training_data)  # probabilite de la classe\n",
    "        print(f\"P({classe})= {classe_counts[classe]}/{len(training_data)} = {probability}\")\n",
    "        for j in range(nbr_features):  # pour chaque valeur propreite\n",
    "            feature = test_data[j]\n",
    "            feature_label_key = ids[j] + \"_\" + classe\n",
    "            feature_classe_counts = feature_counts[feature_label_key]\n",
    "            feature_count = feature_classe_counts.get(feature, 0)  # recuperer ls\n",
    "            if var_continue.__contains__(j):\n",
    "                column_values = [float(row[j]) for row in training_data if row[-1] == classe]\n",
    "                feature_classe_prob=cont_proba(column_values,float(feature ))\n",
    "            else:\n",
    "                feature_classe_prob = (feature_count+1 ) /( classe_counts[classe]+ feature_classe_counts.__len__() )\n",
    "            print(f\"propriete: {ids[j]}, valeur: ({feature}), nombre pour la classe:({classe}): {feature_count}\\n\\t P({feature}|{classe}) = {feature_count}/{classe_counts[classe]} ={feature_classe_prob}\")\n",
    "            probability *= feature_classe_prob\n",
    "\n",
    "        print(f\"\\t\\t==========Probabilite de la classe ({classe}): {probability} ==========\")\n",
    "        print()\n",
    "        classes_probabilities[i] = probability\n",
    "\n",
    "    # Trouver la classe avec la probabilité la plus élevée\n",
    "    max_index = 0\n",
    "    for i in range(1, nbr_classes):\n",
    "        if classes_probabilities[i] > classes_probabilities[max_index]:\n",
    "            max_index = i\n",
    "\n",
    "    return classes[max_index]"
   ],
   "metadata": {
    "collapsed": false,
    "ExecuteTime": {
     "start_time": "2023-04-05T14:03:22.933855Z",
     "end_time": "2023-04-05T14:03:22.958219Z"
    }
   }
  },
  {
   "cell_type": "markdown",
   "source": [
    "##### Naive Bayes algorithm Test\n",
    "----------------------------"
   ],
   "metadata": {
    "collapsed": false
   }
  },
  {
   "cell_type": "code",
   "execution_count": 4,
   "outputs": [
    {
     "name": "stdout",
     "output_type": "stream",
     "text": [
      "-------------------------Pour la Classe: (A)-------------------------\n",
      "P(A)= 3/8 = 0.375\n",
      "propriete: cheveux, valeur: (brune), nombre pour la classe:(A): 0\n",
      "\t P(brune|A) = 0/3 =0.2\n",
      "propriete: taille, valeur: (petit), nombre pour la classe:(A): 1\n",
      "\t P(petit|A) = 1/3 =0.4\n",
      "61.666666666666664\n",
      "155.55555555555554\n",
      "propriete: poinds, valeur: (43), nombre pour la classe:(A): 0\n",
      "\t P(43|A) = 0/3 =0.098034\n",
      "propriete: vegeterien, valeur: (oui), nombre pour la classe:(A): 0\n",
      "\t P(oui|A) = 0/3 =0.25\n",
      "\t\t==========Probabilite de la classe (A): 0.0007352550000000001 ==========\n",
      "\n",
      "-------------------------Pour la Classe: (NA)-------------------------\n",
      "P(NA)= 5/8 = 0.625\n",
      "propriete: cheveux, valeur: (brune), nombre pour la classe:(NA): 3\n",
      "\t P(brune|NA) = 3/5 =0.5714285714285714\n",
      "propriete: taille, valeur: (petit), nombre pour la classe:(NA): 2\n",
      "\t P(petit|NA) = 2/5 =0.375\n",
      "64.0\n",
      "274.0\n",
      "propriete: poinds, valeur: (43), nombre pour la classe:(NA): 0\n",
      "\t P(43|NA) = 0/5 =0.053893\n",
      "propriete: vegeterien, valeur: (oui), nombre pour la classe:(NA): 3\n",
      "\t P(oui|NA) = 3/5 =0.5714285714285714\n",
      "\t\t==========Probabilite de la classe (NA): 0.004124464285714284 ==========\n",
      "\n",
      "La prédiction pour les données de test ['brune', 'petit', '43', 'oui'] est: NA\n"
     ]
    }
   ],
   "source": [
    "training_data = [\n",
    "    [\"blond\", \"moyen\", \"45\", \"non\",  \"A\"],\n",
    "    [\"blond\", \"grand\", \"60\", \"oui\",  \"NA\"],\n",
    "    [\"brune\", \"petit\", \"55\", \"oui\",  \"NA\"],\n",
    "    [\"blond\", \"petit\", \"65\", \"non\",  \"A\"],\n",
    "    [\"rousse\", \"moyen\", \"75\", \"non\", \"A\"],\n",
    "    [\"brune\", \"grand\", \"80\", \"non\",  \"NA\"],\n",
    "    [\"brune\", \"moyen\", \"85\", \"non\",  \"NA\"],\n",
    "    [\"blond\", \"petit\", \"40\", \"oui\",  \"NA\"]\n",
    "]\n",
    "\n",
    "ids = [\"cheveux\", \"taille\", \"poinds\", \"vegeterien\"]\n",
    "classes = [\"A\", \"NA\"]\n",
    "\n",
    "test_data = [\"brune\", \"petit\", \"43\", \"oui\"]\n",
    "\n",
    "result = naive_bayes(training_data, ids, classes, test_data,[2])\n",
    "print(f\"La prédiction pour les données de test {test_data} est: {result}\")"
   ],
   "metadata": {
    "collapsed": false,
    "ExecuteTime": {
     "start_time": "2023-04-05T14:03:22.940511Z",
     "end_time": "2023-04-05T14:03:22.958219Z"
    }
   }
  },
  {
   "cell_type": "code",
   "execution_count": 5,
   "outputs": [
    {
     "name": "stdout",
     "output_type": "stream",
     "text": [
      "-------------------------Pour la Classe: (S)-------------------------\n",
      "P(S)= 3/6 = 0.5\n",
      "propriete: football, valeur: (0), nombre pour la classe:(S): 0\n",
      "\t P(0|S) = 0/3 =0.25\n",
      "propriete: sport, valeur: (0), nombre pour la classe:(S): 2\n",
      "\t P(0|S) = 2/3 =0.6\n",
      "propriete: fifa, valeur: (1), nombre pour la classe:(S): 1\n",
      "\t P(1|S) = 1/3 =0.4\n",
      "propriete: match, valeur: (0), nombre pour la classe:(S): 2\n",
      "\t P(0|S) = 2/3 =0.6\n",
      "propriete: resultats, valeur: (0), nombre pour la classe:(S): 3\n",
      "\t P(0|S) = 3/3 =1.0\n",
      "propriete: populaire, valeur: (0), nombre pour la classe:(S): 2\n",
      "\t P(0|S) = 2/3 =0.6\n",
      "propriete: peuple, valeur: (0), nombre pour la classe:(S): 3\n",
      "\t P(0|S) = 3/3 =1.0\n",
      "propriete: buts, valeur: (0), nombre pour la classe:(S): 2\n",
      "\t P(0|S) = 2/3 =0.6\n",
      "propriete: president, valeur: (1), nombre pour la classe:(S): 0\n",
      "\t P(1|S) = 0/3 =0.25\n",
      "propriete: parlement, valeur: (0), nombre pour la classe:(S): 3\n",
      "\t P(0|S) = 3/3 =1.0\n",
      "propriete: election, valeur: (1), nombre pour la classe:(S): 0\n",
      "\t P(1|S) = 0/3 =0.25\n",
      "\t\t==========Probabilite de la classe (S): 0.0004049999999999999 ==========\n",
      "\n",
      "-------------------------Pour la Classe: (P)-------------------------\n",
      "P(P)= 3/6 = 0.5\n",
      "propriete: football, valeur: (0), nombre pour la classe:(P): 3\n",
      "\t P(0|P) = 3/3 =1.0\n",
      "propriete: sport, valeur: (0), nombre pour la classe:(P): 3\n",
      "\t P(0|P) = 3/3 =1.0\n",
      "propriete: fifa, valeur: (1), nombre pour la classe:(P): 0\n",
      "\t P(1|P) = 0/3 =0.25\n",
      "propriete: match, valeur: (0), nombre pour la classe:(P): 3\n",
      "\t P(0|P) = 3/3 =1.0\n",
      "propriete: resultats, valeur: (0), nombre pour la classe:(P): 3\n",
      "\t P(0|P) = 3/3 =1.0\n",
      "propriete: populaire, valeur: (0), nombre pour la classe:(P): 2\n",
      "\t P(0|P) = 2/3 =0.6\n",
      "propriete: peuple, valeur: (0), nombre pour la classe:(P): 2\n",
      "\t P(0|P) = 2/3 =0.6\n",
      "propriete: buts, valeur: (0), nombre pour la classe:(P): 3\n",
      "\t P(0|P) = 3/3 =1.0\n",
      "propriete: president, valeur: (1), nombre pour la classe:(P): 2\n",
      "\t P(1|P) = 2/3 =0.6\n",
      "propriete: parlement, valeur: (0), nombre pour la classe:(P): 1\n",
      "\t P(0|P) = 1/3 =0.4\n",
      "propriete: election, valeur: (1), nombre pour la classe:(P): 1\n",
      "\t P(1|P) = 1/3 =0.4\n",
      "\t\t==========Probabilite de la classe (P): 0.00432 ==========\n",
      "\n",
      "La prédiction pour les données de test ['0', '0', '1', '0', '0', '0', '0', '0', '1', '0', '1'] est: P\n"
     ]
    }
   ],
   "source": [
    "training_data2 = [\n",
    "    [\"1\", \"1\", \"0\", \"0\", \"0\", \"1\",\"0\",\"0\",\"0\",\"0\",\"0\",\"S\"],\n",
    "    [\"1\", \"0\", \"0\", \"1\", \"0\", \"0\",\"0\",\"1\",\"0\",\"0\",\"0\",\"S\"],\n",
    "    [\"1\", \"0\", \"1\", \"0\", \"0\", \"0\",\"0\",\"0\",\"0\",\"0\",\"0\",\"S\"],\n",
    "    [\"0\", \"0\", \"0\", \"0\", \"0\", \"0\",\"0\",\"0\",\"1\",\"1\",\"1\",\"P\"],\n",
    "    [\"0\", \"0\", \"0\", \"0\", \"0\", \"1\",\"0\",\"0\",\"1\",\"0\",\"0\",\"P\"],\n",
    "    [\"0\", \"0\", \"0\", \"0\", \"0\", \"0\",\"1\",\"0\",\"0\",\"1\",\"0\",\"P\"]\n",
    "]\n",
    "\n",
    "ids2 = [\"football\", \"sport\", \"fifa\", \"match\", \"resultats\",\"populaire\",\"peuple\",\"buts\",\"president\",\"parlement\",\"election\"]\n",
    "test_data2 = [\"0\", \"0\", \"1\", \"0\", \"0\",\"0\",\"0\",\"0\",\"1\",\"0\",\"1\"]\n",
    "classes2 = [\"S\", \"P\"]\n",
    "result2 = naive_bayes(training_data2, ids2, classes2, test_data2,[])\n",
    "print(f\"La prédiction pour les données de test {test_data2} est: {result2}\")\n"
   ],
   "metadata": {
    "collapsed": false,
    "ExecuteTime": {
     "start_time": "2023-04-05T23:39:28.466889Z",
     "end_time": "2023-04-05T23:39:28.474827Z"
    }
   }
  },
  {
   "cell_type": "code",
   "execution_count": 5,
   "outputs": [],
   "source": [],
   "metadata": {
    "collapsed": false
   }
  }
 ],
 "metadata": {
  "kernelspec": {
   "display_name": "Python 3",
   "language": "python",
   "name": "python3"
  },
  "language_info": {
   "codemirror_mode": {
    "name": "ipython",
    "version": 2
   },
   "file_extension": ".py",
   "mimetype": "text/x-python",
   "name": "python",
   "nbconvert_exporter": "python",
   "pygments_lexer": "ipython2",
   "version": "2.7.6"
  }
 },
 "nbformat": 4,
 "nbformat_minor": 0
}
