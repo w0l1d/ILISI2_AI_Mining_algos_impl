{
 "cells": [
  {
   "cell_type": "markdown",
   "source": [
    "## Import utilities"
   ],
   "metadata": {
    "collapsed": false
   }
  },
  {
   "cell_type": "code",
   "execution_count": 41,
   "outputs": [],
   "source": [
    "# import import_ipynb\n",
    "from my_library import *\n",
    "import pandas as pd\n",
    "import numpy as np"
   ],
   "metadata": {
    "collapsed": false
   }
  },
  {
   "cell_type": "code",
   "execution_count": 42,
   "outputs": [],
   "source": [
    "def jaccard_coefficient(l1, l2):\n",
    "    print(f'jaccard_coefficient :: {l1} -- {l2}')\n",
    "    # a is the number combinations of 1 and 0\n",
    "    a = len([1 for i, j in zip(l1, l2) if i == 1 and j == 0])\n",
    "    # b is the number combinations of 0 and 1\n",
    "    b = len([1 for i, j in zip(l1, l2) if i == 0 and j == 1])\n",
    "    # c is the number combinations of 1 and 1\n",
    "    c = len([1 for i, j in zip(l1, l2) if i == j == 1])\n",
    "\n",
    "    return (a + b) / (a + b + c)"
   ],
   "metadata": {
    "collapsed": false
   }
  },
  {
   "cell_type": "markdown",
   "source": [
    "# K-NN algorithm implementation"
   ],
   "metadata": {
    "collapsed": false
   }
  },
  {
   "cell_type": "code",
   "execution_count": 43,
   "outputs": [],
   "source": [
    "def knn_algo(df: pd.DataFrame, test_data: pd.DataFrame, options: dict = {}, ignore_columns: list = []):\n",
    "    ignore_columns.append('id')\n",
    "    ignore_columns.append('class')\n",
    "    jaccard = True\n",
    "    for col in df.columns:\n",
    "        if col in ignore_columns:\n",
    "            continue\n",
    "        if not df[col].isin([0, 1]).all():\n",
    "            jaccard = False\n",
    "            break\n",
    "\n",
    "    if not jaccard:\n",
    "        # normalize data\n",
    "        normalize_data(df, test_data, ignore_columns)\n",
    "\n",
    "        print(f'test_data :')\n",
    "        print(test_data)\n",
    "\n",
    "        print(f'df :')\n",
    "        print(df, end='\\n\\n')\n",
    "\n",
    "        # calculate distance\n",
    "        df['distance'] = df.apply(\n",
    "            lambda row: distance(row, test_data.loc[0], columns=test_data.columns, options=options), axis=1)\n",
    "    else:\n",
    "        # calculate distance\n",
    "        print(f'test_data :', test_data.values[0])\n",
    "        ids = df['id']\n",
    "        classes = df['class']\n",
    "        df2 = df.drop(columns=['id', 'class'])\n",
    "        df['distance'] = df2.apply(lambda row: jaccard_coefficient(row.values, test_data.values[0]), axis=1)\n",
    "\n",
    "    # sort by distance\n",
    "    df = df.sort_values(by=['distance'])\n",
    "\n",
    "    print(df)"
   ],
   "metadata": {
    "collapsed": false
   }
  },
  {
   "cell_type": "markdown",
   "source": [
    "### Test the algorithm with the data"
   ],
   "metadata": {
    "collapsed": false
   }
  },
  {
   "cell_type": "code",
   "execution_count": 44,
   "outputs": [
    {
     "name": "stdout",
     "output_type": "stream",
     "text": [
      "test_data : [0 0 1 0 0 0 0 0 1 0 1]\n",
      "jaccard_coefficient :: [1 1 0 0 0 1 0 0 0 0 0] -- [0 0 1 0 0 0 0 0 1 0 1]\n",
      "jaccard_coefficient :: [1 0 0 1 0 0 0 1 0 0 0] -- [0 0 1 0 0 0 0 0 1 0 1]\n",
      "jaccard_coefficient :: [1 0 1 0 0 0 0 0 0 0 0] -- [0 0 1 0 0 0 0 0 1 0 1]\n",
      "jaccard_coefficient :: [0 0 0 0 0 0 0 0 1 1 1] -- [0 0 1 0 0 0 0 0 1 0 1]\n",
      "jaccard_coefficient :: [0 0 0 0 0 1 0 0 1 0 0] -- [0 0 1 0 0 0 0 0 1 0 1]\n",
      "jaccard_coefficient :: [0 0 0 0 0 0 1 0 0 1 0] -- [0 0 1 0 0 0 0 0 1 0 1]\n",
      "   id  c1  c2  c3  c4  c5  c6  c7  c8  c9  c10  c11      class  distance\n",
      "3   4   0   0   0   0   0   0   0   0   1    1    1  Politique      0.50\n",
      "2   3   1   0   1   0   0   0   0   0   0    0    0      Sport      0.75\n",
      "4   5   0   0   0   0   0   1   0   0   1    0    0  Politique      0.75\n",
      "0   1   1   1   0   0   0   1   0   0   0    0    0      Sport      1.00\n",
      "1   2   1   0   0   1   0   0   0   1   0    0    0      Sport      1.00\n",
      "5   6   0   0   0   0   0   0   1   0   0    1    0  Politique      1.00\n"
     ]
    }
   ],
   "source": [
    "import numpy as np\n",
    "import pandas as pd\n",
    "\n",
    "data = pd.read_csv('testText.csv')\n",
    "# test_data = {\n",
    "#     'poids': [43],\n",
    "#     'cheveux': ['brun'],\n",
    "#     'taile': [1],\n",
    "#     'vegetarien': [1]\n",
    "# }\n",
    "test_data = {\n",
    "    'c1': [0],\n",
    "    'c2': [0],\n",
    "    'c3': [1],\n",
    "    'c4': [0],\n",
    "    'c5': [0],\n",
    "    'c6': [0],\n",
    "    'c7': [0],\n",
    "    'c8': [0],\n",
    "    'c9': [1],\n",
    "    'c10': [0],\n",
    "    'c11': [1]\n",
    "}\n",
    "test_data = pd.DataFrame(test_data)\n",
    "\n",
    "knn_algo(data, test_data=test_data)\n"
   ],
   "metadata": {
    "collapsed": false
   }
  }
 ],
 "metadata": {
  "kernelspec": {
   "display_name": "Python 3",
   "language": "python",
   "name": "python3"
  },
  "language_info": {
   "codemirror_mode": {
    "name": "ipython",
    "version": 2
   },
   "file_extension": ".py",
   "mimetype": "text/x-python",
   "name": "python",
   "nbconvert_exporter": "python",
   "pygments_lexer": "ipython2",
   "version": "2.7.6"
  }
 },
 "nbformat": 4,
 "nbformat_minor": 0
}
