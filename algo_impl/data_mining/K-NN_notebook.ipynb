{
 "cells": [
  {
   "cell_type": "code",
   "execution_count": 122,
   "outputs": [],
   "source": [
    "import math\n",
    "\n",
    "\n",
    "def entropy(prob_dist):\n",
    "    \"\"\"\n",
    "    Calculates the entropy of a probability distribution.\n",
    "\n",
    "    Arguments:\n",
    "    prob_dist -- a list or dictionary containing the probabilities of each outcome\n",
    "\n",
    "    Returns:\n",
    "    The entropy of the probability distribution\n",
    "    \"\"\"\n",
    "    entropy = 0\n",
    "    for p in prob_dist:\n",
    "        if p > 0:\n",
    "            entropy -= p * math.log2(p)\n",
    "    return entropy\n"
   ],
   "metadata": {
    "collapsed": false
   }
  },
  {
   "cell_type": "code",
   "execution_count": 123,
   "outputs": [
    {
     "name": "stdout",
     "output_type": "stream",
     "text": [
      "Entropy =  1.0\n"
     ]
    }
   ],
   "source": [
    "prob_dist = [1 / 2, 1 / 2]\n",
    "e = entropy(prob_dist)\n",
    "print(\"Entropy = \", e)\n"
   ],
   "metadata": {
    "collapsed": false
   }
  },
  {
   "cell_type": "markdown",
   "source": [
    "## Import utilities"
   ],
   "metadata": {
    "collapsed": false
   }
  },
  {
   "cell_type": "code",
   "execution_count": 2,
   "outputs": [],
   "source": [
    "# import import_ipynb\n",
    "from my_library import *\n",
    "import pandas as pd\n",
    "import numpy as np"
   ],
   "metadata": {
    "collapsed": false
   }
  },
  {
   "cell_type": "markdown",
   "source": [
    "# K-NN algorithm implementation"
   ],
   "metadata": {
    "collapsed": false
   }
  },
  {
   "cell_type": "code",
   "execution_count": 3,
   "outputs": [],
   "source": [
    "def knn_algo(df: pd.DataFrame, test_data: pd.DataFrame, options: dict = {}, ignore_columns: list = []):\n",
    "    ignore_columns.append('id')\n",
    "    ignore_columns.append('class')\n",
    "    jaccard = True\n",
    "    for col in df.columns:\n",
    "        if col in ignore_columns:\n",
    "            continue\n",
    "        if not df[col].isin([0, 1]).all():\n",
    "            jaccard = False\n",
    "            break\n",
    "\n",
    "    if jaccard:\n",
    "        # normalize data\n",
    "        normalize_data(df, test_data, ignore_columns)\n",
    "\n",
    "        print(f'test_data :')\n",
    "        print(test_data)\n",
    "\n",
    "        print(f'df :')\n",
    "        print(df, end='\\n\\n')\n",
    "\n",
    "        # calculate distance\n",
    "        df['distance'] = df.apply(\n",
    "            lambda row: distance(row, test_data.loc[0], columns=test_data.columns, options=options), axis=1)\n",
    "    else:\n",
    "        # calculate distance\n",
    "        df['distance'] = df.apply(\n",
    "            lambda row: jaccard_coefficient(row.values, test_data[0].values), axis=1)\n",
    "\n",
    "    # sort by distance\n",
    "    df = df.sort_values(by=['distance'])\n",
    "\n",
    "    print(df)"
   ],
   "metadata": {
    "collapsed": false
   }
  },
  {
   "cell_type": "markdown",
   "source": [
    "### Test the algorithm with the data"
   ],
   "metadata": {
    "collapsed": false
   }
  },
  {
   "cell_type": "code",
   "execution_count": 5,
   "outputs": [
    {
     "name": "stdout",
     "output_type": "stream",
     "text": [
      "test_data :\n",
      "   c1  c2  c3  c4  c5  c6  c7  c8  c9  c10  c11\n",
      "0   0   0   0   0   0   0   1   0   0    1    0\n",
      "df :\n",
      "   id  c1  c2  c3  c4  c5  c6  c7  c8  c9  c10  c11      class\n",
      "0   1   1   1   0   0   0   1   0   0   0    0    0      Sport\n",
      "1   2   1   0   0   1   0   0   0   1   0    0    0      Sport\n",
      "2   3   1   0   1   0   0   0   0   0   0    0    0      Sport\n",
      "3   4   0   0   0   0   0   0   0   0   1    1    1  Politique\n",
      "4   5   0   0   0   0   0   1   0   0   1    0    0  Politique\n",
      "5   6   0   0   0   0   0   0   1   0   0    1    0  Politique\n",
      "\n",
      "distance of each column ::  {'c1': 1, 'c2': 1, 'c3': 0, 'c4': 0, 'c5': 0, 'c6': 1, 'c7': 1, 'c8': 0, 'c9': 0, 'c10': 1, 'c11': 0} / 11 -- result = 0.45454545454545453\n",
      "distance of each column ::  {'c1': 1, 'c2': 0, 'c3': 0, 'c4': 1, 'c5': 0, 'c6': 0, 'c7': 1, 'c8': 1, 'c9': 0, 'c10': 1, 'c11': 0} / 11 -- result = 0.45454545454545453\n",
      "distance of each column ::  {'c1': 1, 'c2': 0, 'c3': 1, 'c4': 0, 'c5': 0, 'c6': 0, 'c7': 1, 'c8': 0, 'c9': 0, 'c10': 1, 'c11': 0} / 11 -- result = 0.36363636363636365\n",
      "distance of each column ::  {'c1': 0, 'c2': 0, 'c3': 0, 'c4': 0, 'c5': 0, 'c6': 0, 'c7': 1, 'c8': 0, 'c9': 1, 'c10': 0, 'c11': 1} / 11 -- result = 0.2727272727272727\n",
      "distance of each column ::  {'c1': 0, 'c2': 0, 'c3': 0, 'c4': 0, 'c5': 0, 'c6': 1, 'c7': 1, 'c8': 0, 'c9': 1, 'c10': 1, 'c11': 0} / 11 -- result = 0.36363636363636365\n",
      "distance of each column ::  {'c1': 0, 'c2': 0, 'c3': 0, 'c4': 0, 'c5': 0, 'c6': 0, 'c7': 0, 'c8': 0, 'c9': 0, 'c10': 0, 'c11': 0} / 11 -- result = 0.0\n",
      "   id  c1  c2  c3  c4  c5  c6  c7  c8  c9  c10  c11      class  distance\n",
      "5   6   0   0   0   0   0   0   1   0   0    1    0  Politique  0.000000\n",
      "3   4   0   0   0   0   0   0   0   0   1    1    1  Politique  0.272727\n",
      "2   3   1   0   1   0   0   0   0   0   0    0    0      Sport  0.363636\n",
      "4   5   0   0   0   0   0   1   0   0   1    0    0  Politique  0.363636\n",
      "0   1   1   1   0   0   0   1   0   0   0    0    0      Sport  0.454545\n",
      "1   2   1   0   0   1   0   0   0   1   0    0    0      Sport  0.454545\n"
     ]
    }
   ],
   "source": [
    "import numpy as np\n",
    "import pandas as pd\n",
    "\n",
    "data = pd.read_csv('testText.csv')\n",
    "# test_data = {\n",
    "#     'poids': [43],\n",
    "#     'cheveux': ['brun'],\n",
    "#     'taile': [1],\n",
    "#     'vegetarien': [1]\n",
    "# }\n",
    "test_data = {\n",
    "    'c1':[0],\n",
    "    'c2':[0],\n",
    "    'c3':[0],\n",
    "    'c4':[0],\n",
    "    'c5':[0],\n",
    "    'c6':[0],\n",
    "    'c7':[1],\n",
    "    'c8':[0],\n",
    "    'c9':[0],\n",
    "    'c10':[1],\n",
    "    'c11':[0]\n",
    "}\n",
    "test_data = pd.DataFrame(test_data)\n",
    "\n",
    "knn_algo(data, test_data=test_data, ignore_columns=['name'])\n"
   ],
   "metadata": {
    "collapsed": false
   }
  },
  {
   "cell_type": "markdown",
   "source": [
    "# Hierarchical clustering algorithm implementation AGNES"
   ],
   "metadata": {
    "collapsed": false
   }
  },
  {
   "cell_type": "code",
   "execution_count": 13,
   "outputs": [
    {
     "name": "stdout",
     "output_type": "stream",
     "text": [
      "normilize order of \"cheveux\" :: ['blond' 'brun' 'rousse']\n",
      "df :\n",
      "      id     poids    cheveux  taile  vegetarien  class\n",
      "0  Sarah  0.111111  [1, 0, 0]    0.5           0      1\n",
      "1   Dana  0.444444  [1, 0, 0]    1.0           1      0\n",
      "2   Alex  0.333333  [0, 1, 0]    0.0           1      0\n",
      "3  Annie  0.555556  [1, 0, 0]    0.0           0      1\n",
      "4  Emily  0.777778  [0, 0, 1]    0.5           0      1\n",
      "5    Ali  0.888889  [0, 1, 0]    1.0           0      0\n",
      "6   John  1.000000  [0, 1, 0]    0.5           0      0\n",
      "7  Katie  0.000000  [1, 0, 0]    0.0           1      0\n",
      "\n",
      "distance of each column ::  {'poids': 0.3333333333333333, 'cheveux': 0.0, 'taile': 0.5, 'vegetarien': 1} / 4 -- result = 0.4583333333333333\n",
      "distance of each column ::  {'poids': 0.2222222222222222, 'cheveux': 0.6666666666666666, 'taile': 0.5, 'vegetarien': 1} / 4 -- result = 0.5972222222222222\n",
      "distance of each column ::  {'poids': 0.4444444444444445, 'cheveux': 0.0, 'taile': 0.5, 'vegetarien': 0} / 4 -- result = 0.2361111111111111\n",
      "distance of each column ::  {'poids': 0.6666666666666667, 'cheveux': 0.6666666666666666, 'taile': 0.0, 'vegetarien': 0} / 4 -- result = 0.33333333333333337\n",
      "distance of each column ::  {'poids': 0.7777777777777777, 'cheveux': 0.6666666666666666, 'taile': 0.5, 'vegetarien': 0} / 4 -- result = 0.48611111111111105\n",
      "distance of each column ::  {'poids': 0.8888888888888888, 'cheveux': 0.6666666666666666, 'taile': 0.0, 'vegetarien': 0} / 4 -- result = 0.38888888888888884\n",
      "distance of each column ::  {'poids': 0.1111111111111111, 'cheveux': 0.0, 'taile': 0.5, 'vegetarien': 1} / 4 -- result = 0.4027777777777778\n",
      "distance of each column ::  {'poids': 0.1111111111111111, 'cheveux': 0.6666666666666666, 'taile': 1.0, 'vegetarien': 0} / 4 -- result = 0.4444444444444444\n",
      "distance of each column ::  {'poids': 0.11111111111111116, 'cheveux': 0.0, 'taile': 1.0, 'vegetarien': 1} / 4 -- result = 0.5277777777777778\n",
      "distance of each column ::  {'poids': 0.33333333333333337, 'cheveux': 0.6666666666666666, 'taile': 0.5, 'vegetarien': 1} / 4 -- result = 0.625\n",
      "distance of each column ::  {'poids': 0.4444444444444444, 'cheveux': 0.6666666666666666, 'taile': 0.0, 'vegetarien': 1} / 4 -- result = 0.5277777777777778\n",
      "distance of each column ::  {'poids': 0.5555555555555556, 'cheveux': 0.6666666666666666, 'taile': 0.5, 'vegetarien': 1} / 4 -- result = 0.6805555555555556\n",
      "distance of each column ::  {'poids': 0.4444444444444444, 'cheveux': 0.0, 'taile': 1.0, 'vegetarien': 0} / 4 -- result = 0.3611111111111111\n",
      "distance of each column ::  {'poids': 0.22222222222222227, 'cheveux': 0.6666666666666666, 'taile': 0.0, 'vegetarien': 1} / 4 -- result = 0.4722222222222222\n",
      "distance of each column ::  {'poids': 0.4444444444444445, 'cheveux': 0.6666666666666666, 'taile': 0.5, 'vegetarien': 1} / 4 -- result = 0.6527777777777778\n",
      "distance of each column ::  {'poids': 0.5555555555555556, 'cheveux': 0.0, 'taile': 1.0, 'vegetarien': 1} / 4 -- result = 0.6388888888888888\n",
      "distance of each column ::  {'poids': 0.6666666666666667, 'cheveux': 0.0, 'taile': 0.5, 'vegetarien': 1} / 4 -- result = 0.5416666666666667\n",
      "distance of each column ::  {'poids': 0.3333333333333333, 'cheveux': 0.6666666666666666, 'taile': 0.0, 'vegetarien': 0} / 4 -- result = 0.25\n",
      "distance of each column ::  {'poids': 0.2222222222222222, 'cheveux': 0.6666666666666666, 'taile': 0.5, 'vegetarien': 0} / 4 -- result = 0.3472222222222222\n",
      "distance of each column ::  {'poids': 0.33333333333333326, 'cheveux': 0.6666666666666666, 'taile': 1.0, 'vegetarien': 0} / 4 -- result = 0.5\n",
      "distance of each column ::  {'poids': 0.4444444444444444, 'cheveux': 0.6666666666666666, 'taile': 0.5, 'vegetarien': 0} / 4 -- result = 0.4027777777777778\n",
      "distance of each column ::  {'poids': 0.5555555555555556, 'cheveux': 0.0, 'taile': 0.0, 'vegetarien': 1} / 4 -- result = 0.3888888888888889\n",
      "distance of each column ::  {'poids': 0.11111111111111105, 'cheveux': 0.6666666666666666, 'taile': 0.5, 'vegetarien': 0} / 4 -- result = 0.3194444444444444\n",
      "distance of each column ::  {'poids': 0.2222222222222222, 'cheveux': 0.6666666666666666, 'taile': 0.0, 'vegetarien': 0} / 4 -- result = 0.2222222222222222\n",
      "distance of each column ::  {'poids': 0.7777777777777778, 'cheveux': 0.6666666666666666, 'taile': 0.5, 'vegetarien': 1} / 4 -- result = 0.7361111111111112\n",
      "distance of each column ::  {'poids': 0.11111111111111116, 'cheveux': 0.0, 'taile': 0.5, 'vegetarien': 0} / 4 -- result = 0.1527777777777778\n",
      "distance of each column ::  {'poids': 0.8888888888888888, 'cheveux': 0.6666666666666666, 'taile': 1.0, 'vegetarien': 1} / 4 -- result = 0.8888888888888888\n",
      "distance of each column ::  {'poids': 1.0, 'cheveux': 0.6666666666666666, 'taile': 0.5, 'vegetarien': 1} / 4 -- result = 0.7916666666666666\n",
      "Distance matrix : \n"
     ]
    },
    {
     "data": {
      "text/plain": "<pandas.io.formats.style.Styler at 0x1f8cf25d090>",
      "text/html": "<style type=\"text/css\">\n#T_59e1b th {\n  font-size: 14px;\n}\n#T_59e1b_row0_col0, #T_59e1b_row0_col1, #T_59e1b_row0_col2, #T_59e1b_row0_col3, #T_59e1b_row0_col4, #T_59e1b_row0_col5, #T_59e1b_row0_col6, #T_59e1b_row0_col7, #T_59e1b_row1_col0, #T_59e1b_row1_col1, #T_59e1b_row1_col2, #T_59e1b_row1_col3, #T_59e1b_row1_col4, #T_59e1b_row1_col5, #T_59e1b_row1_col6, #T_59e1b_row1_col7, #T_59e1b_row2_col0, #T_59e1b_row2_col1, #T_59e1b_row2_col2, #T_59e1b_row2_col3, #T_59e1b_row2_col4, #T_59e1b_row2_col5, #T_59e1b_row2_col6, #T_59e1b_row2_col7, #T_59e1b_row3_col0, #T_59e1b_row3_col1, #T_59e1b_row3_col2, #T_59e1b_row3_col3, #T_59e1b_row3_col4, #T_59e1b_row3_col5, #T_59e1b_row3_col6, #T_59e1b_row3_col7, #T_59e1b_row4_col0, #T_59e1b_row4_col1, #T_59e1b_row4_col2, #T_59e1b_row4_col3, #T_59e1b_row4_col4, #T_59e1b_row4_col5, #T_59e1b_row4_col6, #T_59e1b_row4_col7, #T_59e1b_row5_col0, #T_59e1b_row5_col1, #T_59e1b_row5_col2, #T_59e1b_row5_col3, #T_59e1b_row5_col4, #T_59e1b_row5_col5, #T_59e1b_row5_col6, #T_59e1b_row5_col7, #T_59e1b_row6_col0, #T_59e1b_row6_col1, #T_59e1b_row6_col2, #T_59e1b_row6_col3, #T_59e1b_row6_col4, #T_59e1b_row6_col5, #T_59e1b_row6_col6, #T_59e1b_row6_col7, #T_59e1b_row7_col0, #T_59e1b_row7_col1, #T_59e1b_row7_col2, #T_59e1b_row7_col3, #T_59e1b_row7_col4, #T_59e1b_row7_col5, #T_59e1b_row7_col6, #T_59e1b_row7_col7 {\n  text-align: center;\n  font-size: 12px;\n}\n</style>\n<table id=\"T_59e1b\" border=\"1\">\n  <caption>My Matrix</caption>\n  <thead>\n    <tr>\n      <th class=\"blank level0\" >&nbsp;</th>\n      <th id=\"T_59e1b_level0_col0\" class=\"col_heading level0 col0\" >Sarah</th>\n      <th id=\"T_59e1b_level0_col1\" class=\"col_heading level0 col1\" >Dana</th>\n      <th id=\"T_59e1b_level0_col2\" class=\"col_heading level0 col2\" >Alex</th>\n      <th id=\"T_59e1b_level0_col3\" class=\"col_heading level0 col3\" >Annie</th>\n      <th id=\"T_59e1b_level0_col4\" class=\"col_heading level0 col4\" >Emily</th>\n      <th id=\"T_59e1b_level0_col5\" class=\"col_heading level0 col5\" >Ali</th>\n      <th id=\"T_59e1b_level0_col6\" class=\"col_heading level0 col6\" >John</th>\n      <th id=\"T_59e1b_level0_col7\" class=\"col_heading level0 col7\" >Katie</th>\n    </tr>\n  </thead>\n  <tbody>\n    <tr>\n      <th id=\"T_59e1b_level0_row0\" class=\"row_heading level0 row0\" >Sarah</th>\n      <td id=\"T_59e1b_row0_col0\" class=\"data row0 col0\" >0.000000</td>\n      <td id=\"T_59e1b_row0_col1\" class=\"data row0 col1\" >0.458333</td>\n      <td id=\"T_59e1b_row0_col2\" class=\"data row0 col2\" >0.597222</td>\n      <td id=\"T_59e1b_row0_col3\" class=\"data row0 col3\" >0.236111</td>\n      <td id=\"T_59e1b_row0_col4\" class=\"data row0 col4\" >0.333333</td>\n      <td id=\"T_59e1b_row0_col5\" class=\"data row0 col5\" >0.486111</td>\n      <td id=\"T_59e1b_row0_col6\" class=\"data row0 col6\" >0.388889</td>\n      <td id=\"T_59e1b_row0_col7\" class=\"data row0 col7\" >0.402778</td>\n    </tr>\n    <tr>\n      <th id=\"T_59e1b_level0_row1\" class=\"row_heading level0 row1\" >Dana</th>\n      <td id=\"T_59e1b_row1_col0\" class=\"data row1 col0\" >0.458333</td>\n      <td id=\"T_59e1b_row1_col1\" class=\"data row1 col1\" >0.000000</td>\n      <td id=\"T_59e1b_row1_col2\" class=\"data row1 col2\" >0.444444</td>\n      <td id=\"T_59e1b_row1_col3\" class=\"data row1 col3\" >0.527778</td>\n      <td id=\"T_59e1b_row1_col4\" class=\"data row1 col4\" >0.625000</td>\n      <td id=\"T_59e1b_row1_col5\" class=\"data row1 col5\" >0.527778</td>\n      <td id=\"T_59e1b_row1_col6\" class=\"data row1 col6\" >0.680556</td>\n      <td id=\"T_59e1b_row1_col7\" class=\"data row1 col7\" >0.361111</td>\n    </tr>\n    <tr>\n      <th id=\"T_59e1b_level0_row2\" class=\"row_heading level0 row2\" >Alex</th>\n      <td id=\"T_59e1b_row2_col0\" class=\"data row2 col0\" >0.597222</td>\n      <td id=\"T_59e1b_row2_col1\" class=\"data row2 col1\" >0.444444</td>\n      <td id=\"T_59e1b_row2_col2\" class=\"data row2 col2\" >0.000000</td>\n      <td id=\"T_59e1b_row2_col3\" class=\"data row2 col3\" >0.472222</td>\n      <td id=\"T_59e1b_row2_col4\" class=\"data row2 col4\" >0.652778</td>\n      <td id=\"T_59e1b_row2_col5\" class=\"data row2 col5\" >0.638889</td>\n      <td id=\"T_59e1b_row2_col6\" class=\"data row2 col6\" >0.541667</td>\n      <td id=\"T_59e1b_row2_col7\" class=\"data row2 col7\" >0.250000</td>\n    </tr>\n    <tr>\n      <th id=\"T_59e1b_level0_row3\" class=\"row_heading level0 row3\" >Annie</th>\n      <td id=\"T_59e1b_row3_col0\" class=\"data row3 col0\" >0.236111</td>\n      <td id=\"T_59e1b_row3_col1\" class=\"data row3 col1\" >0.527778</td>\n      <td id=\"T_59e1b_row3_col2\" class=\"data row3 col2\" >0.472222</td>\n      <td id=\"T_59e1b_row3_col3\" class=\"data row3 col3\" >0.000000</td>\n      <td id=\"T_59e1b_row3_col4\" class=\"data row3 col4\" >0.347222</td>\n      <td id=\"T_59e1b_row3_col5\" class=\"data row3 col5\" >0.500000</td>\n      <td id=\"T_59e1b_row3_col6\" class=\"data row3 col6\" >0.402778</td>\n      <td id=\"T_59e1b_row3_col7\" class=\"data row3 col7\" >0.388889</td>\n    </tr>\n    <tr>\n      <th id=\"T_59e1b_level0_row4\" class=\"row_heading level0 row4\" >Emily</th>\n      <td id=\"T_59e1b_row4_col0\" class=\"data row4 col0\" >0.333333</td>\n      <td id=\"T_59e1b_row4_col1\" class=\"data row4 col1\" >0.625000</td>\n      <td id=\"T_59e1b_row4_col2\" class=\"data row4 col2\" >0.652778</td>\n      <td id=\"T_59e1b_row4_col3\" class=\"data row4 col3\" >0.347222</td>\n      <td id=\"T_59e1b_row4_col4\" class=\"data row4 col4\" >0.000000</td>\n      <td id=\"T_59e1b_row4_col5\" class=\"data row4 col5\" >0.319444</td>\n      <td id=\"T_59e1b_row4_col6\" class=\"data row4 col6\" >0.222222</td>\n      <td id=\"T_59e1b_row4_col7\" class=\"data row4 col7\" >0.736111</td>\n    </tr>\n    <tr>\n      <th id=\"T_59e1b_level0_row5\" class=\"row_heading level0 row5\" >Ali</th>\n      <td id=\"T_59e1b_row5_col0\" class=\"data row5 col0\" >0.486111</td>\n      <td id=\"T_59e1b_row5_col1\" class=\"data row5 col1\" >0.527778</td>\n      <td id=\"T_59e1b_row5_col2\" class=\"data row5 col2\" >0.638889</td>\n      <td id=\"T_59e1b_row5_col3\" class=\"data row5 col3\" >0.500000</td>\n      <td id=\"T_59e1b_row5_col4\" class=\"data row5 col4\" >0.319444</td>\n      <td id=\"T_59e1b_row5_col5\" class=\"data row5 col5\" >0.000000</td>\n      <td id=\"T_59e1b_row5_col6\" class=\"data row5 col6\" >0.152778</td>\n      <td id=\"T_59e1b_row5_col7\" class=\"data row5 col7\" >0.888889</td>\n    </tr>\n    <tr>\n      <th id=\"T_59e1b_level0_row6\" class=\"row_heading level0 row6\" >John</th>\n      <td id=\"T_59e1b_row6_col0\" class=\"data row6 col0\" >0.388889</td>\n      <td id=\"T_59e1b_row6_col1\" class=\"data row6 col1\" >0.680556</td>\n      <td id=\"T_59e1b_row6_col2\" class=\"data row6 col2\" >0.541667</td>\n      <td id=\"T_59e1b_row6_col3\" class=\"data row6 col3\" >0.402778</td>\n      <td id=\"T_59e1b_row6_col4\" class=\"data row6 col4\" >0.222222</td>\n      <td id=\"T_59e1b_row6_col5\" class=\"data row6 col5\" >0.152778</td>\n      <td id=\"T_59e1b_row6_col6\" class=\"data row6 col6\" >0.000000</td>\n      <td id=\"T_59e1b_row6_col7\" class=\"data row6 col7\" >0.791667</td>\n    </tr>\n    <tr>\n      <th id=\"T_59e1b_level0_row7\" class=\"row_heading level0 row7\" >Katie</th>\n      <td id=\"T_59e1b_row7_col0\" class=\"data row7 col0\" >0.402778</td>\n      <td id=\"T_59e1b_row7_col1\" class=\"data row7 col1\" >0.361111</td>\n      <td id=\"T_59e1b_row7_col2\" class=\"data row7 col2\" >0.250000</td>\n      <td id=\"T_59e1b_row7_col3\" class=\"data row7 col3\" >0.388889</td>\n      <td id=\"T_59e1b_row7_col4\" class=\"data row7 col4\" >0.736111</td>\n      <td id=\"T_59e1b_row7_col5\" class=\"data row7 col5\" >0.888889</td>\n      <td id=\"T_59e1b_row7_col6\" class=\"data row7 col6\" >0.791667</td>\n      <td id=\"T_59e1b_row7_col7\" class=\"data row7 col7\" >0.000000</td>\n    </tr>\n  </tbody>\n</table>\n"
     },
     "metadata": {},
     "output_type": "display_data"
    },
    {
     "data": {
      "text/plain": "<pandas.io.formats.style.Styler at 0x1f8cf25c6a0>",
      "text/html": "<style type=\"text/css\">\n#T_eec1a th {\n  font-size: 14px;\n}\n#T_eec1a_row0_col0, #T_eec1a_row0_col1, #T_eec1a_row0_col2, #T_eec1a_row0_col3, #T_eec1a_row0_col4, #T_eec1a_row0_col5, #T_eec1a_row0_col6, #T_eec1a_row1_col0, #T_eec1a_row1_col1, #T_eec1a_row1_col2, #T_eec1a_row1_col3, #T_eec1a_row1_col4, #T_eec1a_row1_col5, #T_eec1a_row1_col6, #T_eec1a_row2_col0, #T_eec1a_row2_col1, #T_eec1a_row2_col2, #T_eec1a_row2_col3, #T_eec1a_row2_col4, #T_eec1a_row2_col5, #T_eec1a_row2_col6, #T_eec1a_row3_col0, #T_eec1a_row3_col1, #T_eec1a_row3_col2, #T_eec1a_row3_col3, #T_eec1a_row3_col4, #T_eec1a_row3_col5, #T_eec1a_row3_col6, #T_eec1a_row4_col0, #T_eec1a_row4_col1, #T_eec1a_row4_col2, #T_eec1a_row4_col3, #T_eec1a_row4_col4, #T_eec1a_row4_col5, #T_eec1a_row4_col6, #T_eec1a_row5_col0, #T_eec1a_row5_col1, #T_eec1a_row5_col2, #T_eec1a_row5_col3, #T_eec1a_row5_col4, #T_eec1a_row5_col5, #T_eec1a_row5_col6, #T_eec1a_row6_col0, #T_eec1a_row6_col1, #T_eec1a_row6_col2, #T_eec1a_row6_col3, #T_eec1a_row6_col4, #T_eec1a_row6_col5, #T_eec1a_row6_col6 {\n  text-align: center;\n  font-size: 12px;\n}\n</style>\n<table id=\"T_eec1a\" border=\"1\">\n  <caption>My Matrix</caption>\n  <thead>\n    <tr>\n      <th class=\"blank level0\" >&nbsp;</th>\n      <th id=\"T_eec1a_level0_col0\" class=\"col_heading level0 col0\" >Sarah</th>\n      <th id=\"T_eec1a_level0_col1\" class=\"col_heading level0 col1\" >Dana</th>\n      <th id=\"T_eec1a_level0_col2\" class=\"col_heading level0 col2\" >Alex</th>\n      <th id=\"T_eec1a_level0_col3\" class=\"col_heading level0 col3\" >Annie</th>\n      <th id=\"T_eec1a_level0_col4\" class=\"col_heading level0 col4\" >Emily</th>\n      <th id=\"T_eec1a_level0_col5\" class=\"col_heading level0 col5\" >Ali-John</th>\n      <th id=\"T_eec1a_level0_col6\" class=\"col_heading level0 col6\" >Katie</th>\n    </tr>\n  </thead>\n  <tbody>\n    <tr>\n      <th id=\"T_eec1a_level0_row0\" class=\"row_heading level0 row0\" >Sarah</th>\n      <td id=\"T_eec1a_row0_col0\" class=\"data row0 col0\" >0.000000</td>\n      <td id=\"T_eec1a_row0_col1\" class=\"data row0 col1\" >0.458333</td>\n      <td id=\"T_eec1a_row0_col2\" class=\"data row0 col2\" >0.597222</td>\n      <td id=\"T_eec1a_row0_col3\" class=\"data row0 col3\" >0.236111</td>\n      <td id=\"T_eec1a_row0_col4\" class=\"data row0 col4\" >0.333333</td>\n      <td id=\"T_eec1a_row0_col5\" class=\"data row0 col5\" >0.388889</td>\n      <td id=\"T_eec1a_row0_col6\" class=\"data row0 col6\" >0.402778</td>\n    </tr>\n    <tr>\n      <th id=\"T_eec1a_level0_row1\" class=\"row_heading level0 row1\" >Dana</th>\n      <td id=\"T_eec1a_row1_col0\" class=\"data row1 col0\" >0.458333</td>\n      <td id=\"T_eec1a_row1_col1\" class=\"data row1 col1\" >0.000000</td>\n      <td id=\"T_eec1a_row1_col2\" class=\"data row1 col2\" >0.444444</td>\n      <td id=\"T_eec1a_row1_col3\" class=\"data row1 col3\" >0.527778</td>\n      <td id=\"T_eec1a_row1_col4\" class=\"data row1 col4\" >0.625000</td>\n      <td id=\"T_eec1a_row1_col5\" class=\"data row1 col5\" >0.527778</td>\n      <td id=\"T_eec1a_row1_col6\" class=\"data row1 col6\" >0.361111</td>\n    </tr>\n    <tr>\n      <th id=\"T_eec1a_level0_row2\" class=\"row_heading level0 row2\" >Alex</th>\n      <td id=\"T_eec1a_row2_col0\" class=\"data row2 col0\" >0.597222</td>\n      <td id=\"T_eec1a_row2_col1\" class=\"data row2 col1\" >0.444444</td>\n      <td id=\"T_eec1a_row2_col2\" class=\"data row2 col2\" >0.000000</td>\n      <td id=\"T_eec1a_row2_col3\" class=\"data row2 col3\" >0.472222</td>\n      <td id=\"T_eec1a_row2_col4\" class=\"data row2 col4\" >0.652778</td>\n      <td id=\"T_eec1a_row2_col5\" class=\"data row2 col5\" >0.541667</td>\n      <td id=\"T_eec1a_row2_col6\" class=\"data row2 col6\" >0.250000</td>\n    </tr>\n    <tr>\n      <th id=\"T_eec1a_level0_row3\" class=\"row_heading level0 row3\" >Annie</th>\n      <td id=\"T_eec1a_row3_col0\" class=\"data row3 col0\" >0.236111</td>\n      <td id=\"T_eec1a_row3_col1\" class=\"data row3 col1\" >0.527778</td>\n      <td id=\"T_eec1a_row3_col2\" class=\"data row3 col2\" >0.472222</td>\n      <td id=\"T_eec1a_row3_col3\" class=\"data row3 col3\" >0.000000</td>\n      <td id=\"T_eec1a_row3_col4\" class=\"data row3 col4\" >0.347222</td>\n      <td id=\"T_eec1a_row3_col5\" class=\"data row3 col5\" >0.402778</td>\n      <td id=\"T_eec1a_row3_col6\" class=\"data row3 col6\" >0.388889</td>\n    </tr>\n    <tr>\n      <th id=\"T_eec1a_level0_row4\" class=\"row_heading level0 row4\" >Emily</th>\n      <td id=\"T_eec1a_row4_col0\" class=\"data row4 col0\" >0.333333</td>\n      <td id=\"T_eec1a_row4_col1\" class=\"data row4 col1\" >0.625000</td>\n      <td id=\"T_eec1a_row4_col2\" class=\"data row4 col2\" >0.652778</td>\n      <td id=\"T_eec1a_row4_col3\" class=\"data row4 col3\" >0.347222</td>\n      <td id=\"T_eec1a_row4_col4\" class=\"data row4 col4\" >0.000000</td>\n      <td id=\"T_eec1a_row4_col5\" class=\"data row4 col5\" >0.222222</td>\n      <td id=\"T_eec1a_row4_col6\" class=\"data row4 col6\" >0.736111</td>\n    </tr>\n    <tr>\n      <th id=\"T_eec1a_level0_row5\" class=\"row_heading level0 row5\" >Ali-John</th>\n      <td id=\"T_eec1a_row5_col0\" class=\"data row5 col0\" >0.388889</td>\n      <td id=\"T_eec1a_row5_col1\" class=\"data row5 col1\" >0.527778</td>\n      <td id=\"T_eec1a_row5_col2\" class=\"data row5 col2\" >0.541667</td>\n      <td id=\"T_eec1a_row5_col3\" class=\"data row5 col3\" >0.402778</td>\n      <td id=\"T_eec1a_row5_col4\" class=\"data row5 col4\" >0.222222</td>\n      <td id=\"T_eec1a_row5_col5\" class=\"data row5 col5\" >0.000000</td>\n      <td id=\"T_eec1a_row5_col6\" class=\"data row5 col6\" >0.791667</td>\n    </tr>\n    <tr>\n      <th id=\"T_eec1a_level0_row6\" class=\"row_heading level0 row6\" >Katie</th>\n      <td id=\"T_eec1a_row6_col0\" class=\"data row6 col0\" >0.402778</td>\n      <td id=\"T_eec1a_row6_col1\" class=\"data row6 col1\" >0.361111</td>\n      <td id=\"T_eec1a_row6_col2\" class=\"data row6 col2\" >0.250000</td>\n      <td id=\"T_eec1a_row6_col3\" class=\"data row6 col3\" >0.388889</td>\n      <td id=\"T_eec1a_row6_col4\" class=\"data row6 col4\" >0.736111</td>\n      <td id=\"T_eec1a_row6_col5\" class=\"data row6 col5\" >0.791667</td>\n      <td id=\"T_eec1a_row6_col6\" class=\"data row6 col6\" >0.000000</td>\n    </tr>\n  </tbody>\n</table>\n"
     },
     "metadata": {},
     "output_type": "display_data"
    },
    {
     "data": {
      "text/plain": "<pandas.io.formats.style.Styler at 0x1f8cf25d1b0>",
      "text/html": "<style type=\"text/css\">\n#T_c4e49 th {\n  font-size: 14px;\n}\n#T_c4e49_row0_col0, #T_c4e49_row0_col1, #T_c4e49_row0_col2, #T_c4e49_row0_col3, #T_c4e49_row0_col4, #T_c4e49_row0_col5, #T_c4e49_row1_col0, #T_c4e49_row1_col1, #T_c4e49_row1_col2, #T_c4e49_row1_col3, #T_c4e49_row1_col4, #T_c4e49_row1_col5, #T_c4e49_row2_col0, #T_c4e49_row2_col1, #T_c4e49_row2_col2, #T_c4e49_row2_col3, #T_c4e49_row2_col4, #T_c4e49_row2_col5, #T_c4e49_row3_col0, #T_c4e49_row3_col1, #T_c4e49_row3_col2, #T_c4e49_row3_col3, #T_c4e49_row3_col4, #T_c4e49_row3_col5, #T_c4e49_row4_col0, #T_c4e49_row4_col1, #T_c4e49_row4_col2, #T_c4e49_row4_col3, #T_c4e49_row4_col4, #T_c4e49_row4_col5, #T_c4e49_row5_col0, #T_c4e49_row5_col1, #T_c4e49_row5_col2, #T_c4e49_row5_col3, #T_c4e49_row5_col4, #T_c4e49_row5_col5 {\n  text-align: center;\n  font-size: 12px;\n}\n</style>\n<table id=\"T_c4e49\" border=\"1\">\n  <caption>My Matrix</caption>\n  <thead>\n    <tr>\n      <th class=\"blank level0\" >&nbsp;</th>\n      <th id=\"T_c4e49_level0_col0\" class=\"col_heading level0 col0\" >Sarah</th>\n      <th id=\"T_c4e49_level0_col1\" class=\"col_heading level0 col1\" >Dana</th>\n      <th id=\"T_c4e49_level0_col2\" class=\"col_heading level0 col2\" >Alex</th>\n      <th id=\"T_c4e49_level0_col3\" class=\"col_heading level0 col3\" >Annie</th>\n      <th id=\"T_c4e49_level0_col4\" class=\"col_heading level0 col4\" >Emily-Ali-John</th>\n      <th id=\"T_c4e49_level0_col5\" class=\"col_heading level0 col5\" >Katie</th>\n    </tr>\n  </thead>\n  <tbody>\n    <tr>\n      <th id=\"T_c4e49_level0_row0\" class=\"row_heading level0 row0\" >Sarah</th>\n      <td id=\"T_c4e49_row0_col0\" class=\"data row0 col0\" >0.000000</td>\n      <td id=\"T_c4e49_row0_col1\" class=\"data row0 col1\" >0.458333</td>\n      <td id=\"T_c4e49_row0_col2\" class=\"data row0 col2\" >0.597222</td>\n      <td id=\"T_c4e49_row0_col3\" class=\"data row0 col3\" >0.236111</td>\n      <td id=\"T_c4e49_row0_col4\" class=\"data row0 col4\" >0.333333</td>\n      <td id=\"T_c4e49_row0_col5\" class=\"data row0 col5\" >0.402778</td>\n    </tr>\n    <tr>\n      <th id=\"T_c4e49_level0_row1\" class=\"row_heading level0 row1\" >Dana</th>\n      <td id=\"T_c4e49_row1_col0\" class=\"data row1 col0\" >0.458333</td>\n      <td id=\"T_c4e49_row1_col1\" class=\"data row1 col1\" >0.000000</td>\n      <td id=\"T_c4e49_row1_col2\" class=\"data row1 col2\" >0.444444</td>\n      <td id=\"T_c4e49_row1_col3\" class=\"data row1 col3\" >0.527778</td>\n      <td id=\"T_c4e49_row1_col4\" class=\"data row1 col4\" >0.527778</td>\n      <td id=\"T_c4e49_row1_col5\" class=\"data row1 col5\" >0.361111</td>\n    </tr>\n    <tr>\n      <th id=\"T_c4e49_level0_row2\" class=\"row_heading level0 row2\" >Alex</th>\n      <td id=\"T_c4e49_row2_col0\" class=\"data row2 col0\" >0.597222</td>\n      <td id=\"T_c4e49_row2_col1\" class=\"data row2 col1\" >0.444444</td>\n      <td id=\"T_c4e49_row2_col2\" class=\"data row2 col2\" >0.000000</td>\n      <td id=\"T_c4e49_row2_col3\" class=\"data row2 col3\" >0.472222</td>\n      <td id=\"T_c4e49_row2_col4\" class=\"data row2 col4\" >0.541667</td>\n      <td id=\"T_c4e49_row2_col5\" class=\"data row2 col5\" >0.250000</td>\n    </tr>\n    <tr>\n      <th id=\"T_c4e49_level0_row3\" class=\"row_heading level0 row3\" >Annie</th>\n      <td id=\"T_c4e49_row3_col0\" class=\"data row3 col0\" >0.236111</td>\n      <td id=\"T_c4e49_row3_col1\" class=\"data row3 col1\" >0.527778</td>\n      <td id=\"T_c4e49_row3_col2\" class=\"data row3 col2\" >0.472222</td>\n      <td id=\"T_c4e49_row3_col3\" class=\"data row3 col3\" >0.000000</td>\n      <td id=\"T_c4e49_row3_col4\" class=\"data row3 col4\" >0.347222</td>\n      <td id=\"T_c4e49_row3_col5\" class=\"data row3 col5\" >0.388889</td>\n    </tr>\n    <tr>\n      <th id=\"T_c4e49_level0_row4\" class=\"row_heading level0 row4\" >Emily-Ali-John</th>\n      <td id=\"T_c4e49_row4_col0\" class=\"data row4 col0\" >0.333333</td>\n      <td id=\"T_c4e49_row4_col1\" class=\"data row4 col1\" >0.527778</td>\n      <td id=\"T_c4e49_row4_col2\" class=\"data row4 col2\" >0.541667</td>\n      <td id=\"T_c4e49_row4_col3\" class=\"data row4 col3\" >0.347222</td>\n      <td id=\"T_c4e49_row4_col4\" class=\"data row4 col4\" >0.000000</td>\n      <td id=\"T_c4e49_row4_col5\" class=\"data row4 col5\" >0.736111</td>\n    </tr>\n    <tr>\n      <th id=\"T_c4e49_level0_row5\" class=\"row_heading level0 row5\" >Katie</th>\n      <td id=\"T_c4e49_row5_col0\" class=\"data row5 col0\" >0.402778</td>\n      <td id=\"T_c4e49_row5_col1\" class=\"data row5 col1\" >0.361111</td>\n      <td id=\"T_c4e49_row5_col2\" class=\"data row5 col2\" >0.250000</td>\n      <td id=\"T_c4e49_row5_col3\" class=\"data row5 col3\" >0.388889</td>\n      <td id=\"T_c4e49_row5_col4\" class=\"data row5 col4\" >0.736111</td>\n      <td id=\"T_c4e49_row5_col5\" class=\"data row5 col5\" >0.000000</td>\n    </tr>\n  </tbody>\n</table>\n"
     },
     "metadata": {},
     "output_type": "display_data"
    },
    {
     "data": {
      "text/plain": "<pandas.io.formats.style.Styler at 0x1f8cf25d1b0>",
      "text/html": "<style type=\"text/css\">\n#T_525f5 th {\n  font-size: 14px;\n}\n#T_525f5_row0_col0, #T_525f5_row0_col1, #T_525f5_row0_col2, #T_525f5_row0_col3, #T_525f5_row0_col4, #T_525f5_row1_col0, #T_525f5_row1_col1, #T_525f5_row1_col2, #T_525f5_row1_col3, #T_525f5_row1_col4, #T_525f5_row2_col0, #T_525f5_row2_col1, #T_525f5_row2_col2, #T_525f5_row2_col3, #T_525f5_row2_col4, #T_525f5_row3_col0, #T_525f5_row3_col1, #T_525f5_row3_col2, #T_525f5_row3_col3, #T_525f5_row3_col4, #T_525f5_row4_col0, #T_525f5_row4_col1, #T_525f5_row4_col2, #T_525f5_row4_col3, #T_525f5_row4_col4 {\n  text-align: center;\n  font-size: 12px;\n}\n</style>\n<table id=\"T_525f5\" border=\"1\">\n  <caption>My Matrix</caption>\n  <thead>\n    <tr>\n      <th class=\"blank level0\" >&nbsp;</th>\n      <th id=\"T_525f5_level0_col0\" class=\"col_heading level0 col0\" >Sarah-Annie</th>\n      <th id=\"T_525f5_level0_col1\" class=\"col_heading level0 col1\" >Dana</th>\n      <th id=\"T_525f5_level0_col2\" class=\"col_heading level0 col2\" >Alex</th>\n      <th id=\"T_525f5_level0_col3\" class=\"col_heading level0 col3\" >Emily-Ali-John</th>\n      <th id=\"T_525f5_level0_col4\" class=\"col_heading level0 col4\" >Katie</th>\n    </tr>\n  </thead>\n  <tbody>\n    <tr>\n      <th id=\"T_525f5_level0_row0\" class=\"row_heading level0 row0\" >Sarah-Annie</th>\n      <td id=\"T_525f5_row0_col0\" class=\"data row0 col0\" >0.000000</td>\n      <td id=\"T_525f5_row0_col1\" class=\"data row0 col1\" >0.458333</td>\n      <td id=\"T_525f5_row0_col2\" class=\"data row0 col2\" >0.472222</td>\n      <td id=\"T_525f5_row0_col3\" class=\"data row0 col3\" >0.333333</td>\n      <td id=\"T_525f5_row0_col4\" class=\"data row0 col4\" >0.388889</td>\n    </tr>\n    <tr>\n      <th id=\"T_525f5_level0_row1\" class=\"row_heading level0 row1\" >Dana</th>\n      <td id=\"T_525f5_row1_col0\" class=\"data row1 col0\" >0.458333</td>\n      <td id=\"T_525f5_row1_col1\" class=\"data row1 col1\" >0.000000</td>\n      <td id=\"T_525f5_row1_col2\" class=\"data row1 col2\" >0.444444</td>\n      <td id=\"T_525f5_row1_col3\" class=\"data row1 col3\" >0.527778</td>\n      <td id=\"T_525f5_row1_col4\" class=\"data row1 col4\" >0.361111</td>\n    </tr>\n    <tr>\n      <th id=\"T_525f5_level0_row2\" class=\"row_heading level0 row2\" >Alex</th>\n      <td id=\"T_525f5_row2_col0\" class=\"data row2 col0\" >0.472222</td>\n      <td id=\"T_525f5_row2_col1\" class=\"data row2 col1\" >0.444444</td>\n      <td id=\"T_525f5_row2_col2\" class=\"data row2 col2\" >0.000000</td>\n      <td id=\"T_525f5_row2_col3\" class=\"data row2 col3\" >0.541667</td>\n      <td id=\"T_525f5_row2_col4\" class=\"data row2 col4\" >0.250000</td>\n    </tr>\n    <tr>\n      <th id=\"T_525f5_level0_row3\" class=\"row_heading level0 row3\" >Emily-Ali-John</th>\n      <td id=\"T_525f5_row3_col0\" class=\"data row3 col0\" >0.333333</td>\n      <td id=\"T_525f5_row3_col1\" class=\"data row3 col1\" >0.527778</td>\n      <td id=\"T_525f5_row3_col2\" class=\"data row3 col2\" >0.541667</td>\n      <td id=\"T_525f5_row3_col3\" class=\"data row3 col3\" >0.000000</td>\n      <td id=\"T_525f5_row3_col4\" class=\"data row3 col4\" >0.736111</td>\n    </tr>\n    <tr>\n      <th id=\"T_525f5_level0_row4\" class=\"row_heading level0 row4\" >Katie</th>\n      <td id=\"T_525f5_row4_col0\" class=\"data row4 col0\" >0.388889</td>\n      <td id=\"T_525f5_row4_col1\" class=\"data row4 col1\" >0.361111</td>\n      <td id=\"T_525f5_row4_col2\" class=\"data row4 col2\" >0.250000</td>\n      <td id=\"T_525f5_row4_col3\" class=\"data row4 col3\" >0.736111</td>\n      <td id=\"T_525f5_row4_col4\" class=\"data row4 col4\" >0.000000</td>\n    </tr>\n  </tbody>\n</table>\n"
     },
     "metadata": {},
     "output_type": "display_data"
    },
    {
     "data": {
      "text/plain": "<pandas.io.formats.style.Styler at 0x1f8cf25d1b0>",
      "text/html": "<style type=\"text/css\">\n#T_0a738 th {\n  font-size: 14px;\n}\n#T_0a738_row0_col0, #T_0a738_row0_col1, #T_0a738_row0_col2, #T_0a738_row0_col3, #T_0a738_row1_col0, #T_0a738_row1_col1, #T_0a738_row1_col2, #T_0a738_row1_col3, #T_0a738_row2_col0, #T_0a738_row2_col1, #T_0a738_row2_col2, #T_0a738_row2_col3, #T_0a738_row3_col0, #T_0a738_row3_col1, #T_0a738_row3_col2, #T_0a738_row3_col3 {\n  text-align: center;\n  font-size: 12px;\n}\n</style>\n<table id=\"T_0a738\" border=\"1\">\n  <caption>My Matrix</caption>\n  <thead>\n    <tr>\n      <th class=\"blank level0\" >&nbsp;</th>\n      <th id=\"T_0a738_level0_col0\" class=\"col_heading level0 col0\" >Sarah-Annie</th>\n      <th id=\"T_0a738_level0_col1\" class=\"col_heading level0 col1\" >Dana</th>\n      <th id=\"T_0a738_level0_col2\" class=\"col_heading level0 col2\" >Alex-Katie</th>\n      <th id=\"T_0a738_level0_col3\" class=\"col_heading level0 col3\" >Emily-Ali-John</th>\n    </tr>\n  </thead>\n  <tbody>\n    <tr>\n      <th id=\"T_0a738_level0_row0\" class=\"row_heading level0 row0\" >Sarah-Annie</th>\n      <td id=\"T_0a738_row0_col0\" class=\"data row0 col0\" >0.000000</td>\n      <td id=\"T_0a738_row0_col1\" class=\"data row0 col1\" >0.458333</td>\n      <td id=\"T_0a738_row0_col2\" class=\"data row0 col2\" >0.388889</td>\n      <td id=\"T_0a738_row0_col3\" class=\"data row0 col3\" >0.333333</td>\n    </tr>\n    <tr>\n      <th id=\"T_0a738_level0_row1\" class=\"row_heading level0 row1\" >Dana</th>\n      <td id=\"T_0a738_row1_col0\" class=\"data row1 col0\" >0.458333</td>\n      <td id=\"T_0a738_row1_col1\" class=\"data row1 col1\" >0.000000</td>\n      <td id=\"T_0a738_row1_col2\" class=\"data row1 col2\" >0.361111</td>\n      <td id=\"T_0a738_row1_col3\" class=\"data row1 col3\" >0.527778</td>\n    </tr>\n    <tr>\n      <th id=\"T_0a738_level0_row2\" class=\"row_heading level0 row2\" >Alex-Katie</th>\n      <td id=\"T_0a738_row2_col0\" class=\"data row2 col0\" >0.388889</td>\n      <td id=\"T_0a738_row2_col1\" class=\"data row2 col1\" >0.361111</td>\n      <td id=\"T_0a738_row2_col2\" class=\"data row2 col2\" >0.000000</td>\n      <td id=\"T_0a738_row2_col3\" class=\"data row2 col3\" >0.541667</td>\n    </tr>\n    <tr>\n      <th id=\"T_0a738_level0_row3\" class=\"row_heading level0 row3\" >Emily-Ali-John</th>\n      <td id=\"T_0a738_row3_col0\" class=\"data row3 col0\" >0.333333</td>\n      <td id=\"T_0a738_row3_col1\" class=\"data row3 col1\" >0.527778</td>\n      <td id=\"T_0a738_row3_col2\" class=\"data row3 col2\" >0.541667</td>\n      <td id=\"T_0a738_row3_col3\" class=\"data row3 col3\" >0.000000</td>\n    </tr>\n  </tbody>\n</table>\n"
     },
     "metadata": {},
     "output_type": "display_data"
    },
    {
     "data": {
      "text/plain": "<pandas.io.formats.style.Styler at 0x1f8cf25d1b0>",
      "text/html": "<style type=\"text/css\">\n#T_da666 th {\n  font-size: 14px;\n}\n#T_da666_row0_col0, #T_da666_row0_col1, #T_da666_row0_col2, #T_da666_row1_col0, #T_da666_row1_col1, #T_da666_row1_col2, #T_da666_row2_col0, #T_da666_row2_col1, #T_da666_row2_col2 {\n  text-align: center;\n  font-size: 12px;\n}\n</style>\n<table id=\"T_da666\" border=\"1\">\n  <caption>My Matrix</caption>\n  <thead>\n    <tr>\n      <th class=\"blank level0\" >&nbsp;</th>\n      <th id=\"T_da666_level0_col0\" class=\"col_heading level0 col0\" >Sarah-Annie-Emily-Ali-John</th>\n      <th id=\"T_da666_level0_col1\" class=\"col_heading level0 col1\" >Dana</th>\n      <th id=\"T_da666_level0_col2\" class=\"col_heading level0 col2\" >Alex-Katie</th>\n    </tr>\n  </thead>\n  <tbody>\n    <tr>\n      <th id=\"T_da666_level0_row0\" class=\"row_heading level0 row0\" >Sarah-Annie-Emily-Ali-John</th>\n      <td id=\"T_da666_row0_col0\" class=\"data row0 col0\" >0.000000</td>\n      <td id=\"T_da666_row0_col1\" class=\"data row0 col1\" >0.458333</td>\n      <td id=\"T_da666_row0_col2\" class=\"data row0 col2\" >0.388889</td>\n    </tr>\n    <tr>\n      <th id=\"T_da666_level0_row1\" class=\"row_heading level0 row1\" >Dana</th>\n      <td id=\"T_da666_row1_col0\" class=\"data row1 col0\" >0.458333</td>\n      <td id=\"T_da666_row1_col1\" class=\"data row1 col1\" >0.000000</td>\n      <td id=\"T_da666_row1_col2\" class=\"data row1 col2\" >0.361111</td>\n    </tr>\n    <tr>\n      <th id=\"T_da666_level0_row2\" class=\"row_heading level0 row2\" >Alex-Katie</th>\n      <td id=\"T_da666_row2_col0\" class=\"data row2 col0\" >0.388889</td>\n      <td id=\"T_da666_row2_col1\" class=\"data row2 col1\" >0.361111</td>\n      <td id=\"T_da666_row2_col2\" class=\"data row2 col2\" >0.000000</td>\n    </tr>\n  </tbody>\n</table>\n"
     },
     "metadata": {},
     "output_type": "display_data"
    },
    {
     "data": {
      "text/plain": "<pandas.io.formats.style.Styler at 0x1f8cf25d1b0>",
      "text/html": "<style type=\"text/css\">\n#T_b68fa th {\n  font-size: 14px;\n}\n#T_b68fa_row0_col0, #T_b68fa_row0_col1, #T_b68fa_row1_col0, #T_b68fa_row1_col1 {\n  text-align: center;\n  font-size: 12px;\n}\n</style>\n<table id=\"T_b68fa\" border=\"1\">\n  <caption>My Matrix</caption>\n  <thead>\n    <tr>\n      <th class=\"blank level0\" >&nbsp;</th>\n      <th id=\"T_b68fa_level0_col0\" class=\"col_heading level0 col0\" >Sarah-Annie-Emily-Ali-John</th>\n      <th id=\"T_b68fa_level0_col1\" class=\"col_heading level0 col1\" >Dana-Alex-Katie</th>\n    </tr>\n  </thead>\n  <tbody>\n    <tr>\n      <th id=\"T_b68fa_level0_row0\" class=\"row_heading level0 row0\" >Sarah-Annie-Emily-Ali-John</th>\n      <td id=\"T_b68fa_row0_col0\" class=\"data row0 col0\" >0.000000</td>\n      <td id=\"T_b68fa_row0_col1\" class=\"data row0 col1\" >0.388889</td>\n    </tr>\n    <tr>\n      <th id=\"T_b68fa_level0_row1\" class=\"row_heading level0 row1\" >Dana-Alex-Katie</th>\n      <td id=\"T_b68fa_row1_col0\" class=\"data row1 col0\" >0.388889</td>\n      <td id=\"T_b68fa_row1_col1\" class=\"data row1 col1\" >0.000000</td>\n    </tr>\n  </tbody>\n</table>\n"
     },
     "metadata": {},
     "output_type": "display_data"
    },
    {
     "name": "stdout",
     "output_type": "stream",
     "text": [
      "      poids    cheveux  taile  vegetarien\n",
      "0  0.111111  [1, 0, 0]    0.5           0\n",
      "1  0.444444  [1, 0, 0]    1.0           1\n",
      "2  0.333333  [0, 1, 0]    0.0           1\n",
      "3  0.555556  [1, 0, 0]    0.0           0\n",
      "4  0.777778  [0, 0, 1]    0.5           0\n",
      "5  0.888889  [0, 1, 0]    1.0           0\n",
      "6  1.000000  [0, 1, 0]    0.5           0\n",
      "7  0.000000  [1, 0, 0]    0.0           1\n"
     ]
    }
   ],
   "source": [
    "\n",
    "def np_min_ign_diagonal(z: np.ndarray):\n",
    "    row_index, col_index = 0, 1\n",
    "    for i in range(len(z)):\n",
    "        for j in range(len(z)):\n",
    "            if i == j:\n",
    "                continue\n",
    "            if z[i, j] < z[row_index, col_index]:\n",
    "                row_index = i\n",
    "                col_index = j\n",
    "    return row_index, col_index\n",
    "\n",
    "\n",
    "def hierarchical_clustering_algo_agnes(df: pd.DataFrame, options: dict = {}):\n",
    "    # normalize data\n",
    "    normalize_data(df, None)\n",
    "\n",
    "    print(f'df :')\n",
    "    print(df, end='\\n\\n')\n",
    "    # l = dict['label']\n",
    "    labels = df['id'].values\n",
    "    df = df.drop(columns=['id', 'class'])\n",
    "    Z = calcul_distances(df, labels)\n",
    "\n",
    "    while len(Z) > 1:\n",
    "        display_dist_matrix(labels, Z)\n",
    "        # get the index of the minimum value of the matrix\n",
    "        row_index, col_index = np_min_ign_diagonal(Z)\n",
    "\n",
    "        # update the matrix\n",
    "        for j in range(len(Z)):\n",
    "            if j == col_index:\n",
    "                Z[row_index, j] = 0\n",
    "            elif j != row_index:\n",
    "                Z[row_index, j] = min(Z[row_index, j], Z[col_index, j])\n",
    "                Z[j, row_index] = Z[row_index, j]\n",
    "        Z = np.delete(Z, col_index, 0)\n",
    "        Z = np.delete(Z, col_index, 1)\n",
    "\n",
    "        labels[row_index] = f'{labels[row_index]}-{labels[col_index]}'\n",
    "        labels = np.delete(labels, col_index, 0)\n",
    "\n",
    "    print(df)\n",
    "\n",
    "\n",
    "data = pd.read_csv('data.csv')\n",
    "labels = data['id'].values\n",
    "\n",
    "hierarchical_clustering_algo_agnes(data)"
   ],
   "metadata": {
    "collapsed": false,
    "pycharm": {
     "name": "#%%% md\n"
    }
   }
  }
 ],
 "metadata": {
  "kernelspec": {
   "display_name": "Python 3",
   "language": "python",
   "name": "python3"
  },
  "language_info": {
   "codemirror_mode": {
    "name": "ipython",
    "version": 2
   },
   "file_extension": ".py",
   "mimetype": "text/x-python",
   "name": "python",
   "nbconvert_exporter": "python",
   "pygments_lexer": "ipython2",
   "version": "2.7.6"
  }
 },
 "nbformat": 4,
 "nbformat_minor": 0
}
