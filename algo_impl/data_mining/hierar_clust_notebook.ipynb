{
 "cells": [
  {
   "cell_type": "markdown",
   "source": [
    "##### import libraries"
   ],
   "metadata": {
    "collapsed": false
   }
  },
  {
   "cell_type": "code",
   "execution_count": 1,
   "outputs": [],
   "source": [
    "import pandas as pd\n",
    "import numpy as np\n",
    "\n",
    "from my_library import normalize_data, distance, jaccard_coefficient, display_dist_matrix"
   ],
   "metadata": {
    "collapsed": false
   }
  },
  {
   "cell_type": "markdown",
   "source": [
    "# Hierarchical clustering algorithm implementation AGNES"
   ],
   "metadata": {
    "collapsed": false
   }
  },
  {
   "cell_type": "markdown",
   "source": [
    "##### Get the index of the minimum value of the matrix"
   ],
   "metadata": {
    "collapsed": false
   }
  },
  {
   "cell_type": "code",
   "execution_count": 2,
   "outputs": [],
   "source": [
    "def calcul_distances(df: pd.DataFrame, labels: list):\n",
    "    # calculate distance\n",
    "\n",
    "    ignore_columns = []\n",
    "    ignore_columns.append('id')\n",
    "    ignore_columns.append('class')\n",
    "    jaccard = True\n",
    "    for col in df.columns:\n",
    "        if col in ignore_columns:\n",
    "            continue\n",
    "        if not df[col].isin([0, 1]).all():\n",
    "            jaccard = False\n",
    "            break\n",
    "\n",
    "    Z = np.zeros((len(labels), len(labels)))\n",
    "    for i in range(len(df)):\n",
    "        for j in range(i + 1, len(df)):\n",
    "            if not jaccard:\n",
    "                Z[i, j] = distance(df.iloc[i], df.iloc[j], columns=df.columns)\n",
    "            else:\n",
    "                Z[i, j] = jaccard_coefficient(df.iloc[i], df.iloc[j])\n",
    "            Z[j, i] = Z[i, j]\n",
    "    return Z"
   ],
   "metadata": {
    "collapsed": false
   }
  },
  {
   "cell_type": "code",
   "execution_count": 3,
   "outputs": [],
   "source": [
    "def np_min_ign_diagonal(z: np.ndarray):\n",
    "    row_index , col_index = 0, 1\n",
    "    for i in range(len(z)):\n",
    "        for j in range(len(z)):\n",
    "            if i == j:\n",
    "                continue\n",
    "            if z[i, j] < z[row_index, col_index]:\n",
    "                row_index = i\n",
    "                col_index = j\n",
    "    return row_index, col_index"
   ],
   "metadata": {
    "collapsed": false
   }
  },
  {
   "cell_type": "markdown",
   "source": [
    "# AGNES algorithm"
   ],
   "metadata": {
    "collapsed": false
   }
  },
  {
   "cell_type": "code",
   "execution_count": 4,
   "metadata": {
    "collapsed": true
   },
   "outputs": [],
   "source": [
    "def hierarchical_clustering_algo_agnes(df: pd.DataFrame, options: dict={}):\n",
    "    # normalize data\n",
    "    normalize_data(df, None)\n",
    "\n",
    "    print(f'df :')\n",
    "    print(df, end='\\n\\n')\n",
    "    # l = dict['label']\n",
    "    labels = df['id'].values\n",
    "    if 'class' in df.columns:\n",
    "        df = df.drop(columns=['id', 'class'])\n",
    "    else:\n",
    "        df = df.drop(columns=['id'])\n",
    "    Z= calcul_distances(df, labels)\n",
    "\n",
    "    while len(Z) > 1:\n",
    "        display_dist_matrix(labels, Z)\n",
    "        # get the index of the minimum value of the matrix\n",
    "        row_index, col_index = np_min_ign_diagonal(Z)\n",
    "\n",
    "        # update the matrix\n",
    "        for j in range(len(Z)):\n",
    "            if j == col_index:\n",
    "                Z[row_index, j] = 0\n",
    "            elif j != row_index:\n",
    "                Z[row_index, j] = min(Z[row_index, j], Z[col_index, j])\n",
    "                Z[j, row_index] = Z[row_index, j]\n",
    "        Z = np.delete(Z, col_index, 0)\n",
    "        Z = np.delete(Z, col_index, 1)\n",
    "\n",
    "        labels[row_index] = f'{labels[row_index]}-{labels[col_index]}'\n",
    "        labels = np.delete(labels, col_index, 0)\n",
    "\n",
    "    print(df)\n"
   ]
  },
  {
   "cell_type": "markdown",
   "source": [
    "# Test"
   ],
   "metadata": {
    "collapsed": false
   }
  },
  {
   "cell_type": "code",
   "execution_count": 5,
   "outputs": [
    {
     "name": "stdout",
     "output_type": "stream",
     "text": [
      "df :\n",
      "   id  c1  c2  c3  c4  c5  c6  c7  class\n",
      "0  L1   1   0   0   0   1   1   1      1\n",
      "1  L2   0   0   1   0   1   0   0      1\n",
      "2  L3   0   0   1   0   1   0   0      1\n",
      "3  L4   1   0   0   1   1   0   0      1\n",
      "4  L5   0   1   0   0   0   0   0      1\n",
      "5  L6   1   1   0   0   1   0   1      1\n",
      "\n",
      "jaccard_coefficient :: c1    1\n",
      "c2    0\n",
      "c3    0\n",
      "c4    0\n",
      "c5    1\n",
      "c6    1\n",
      "c7    1\n",
      "Name: 0, dtype: int64 -- c1    0\n",
      "c2    0\n",
      "c3    1\n",
      "c4    0\n",
      "c5    1\n",
      "c6    0\n",
      "c7    0\n",
      "Name: 1, dtype: int64\n",
      "jaccard_coefficient :: c1    1\n",
      "c2    0\n",
      "c3    0\n",
      "c4    0\n",
      "c5    1\n",
      "c6    1\n",
      "c7    1\n",
      "Name: 0, dtype: int64 -- c1    0\n",
      "c2    0\n",
      "c3    1\n",
      "c4    0\n",
      "c5    1\n",
      "c6    0\n",
      "c7    0\n",
      "Name: 2, dtype: int64\n",
      "jaccard_coefficient :: c1    1\n",
      "c2    0\n",
      "c3    0\n",
      "c4    0\n",
      "c5    1\n",
      "c6    1\n",
      "c7    1\n",
      "Name: 0, dtype: int64 -- c1    1\n",
      "c2    0\n",
      "c3    0\n",
      "c4    1\n",
      "c5    1\n",
      "c6    0\n",
      "c7    0\n",
      "Name: 3, dtype: int64\n",
      "jaccard_coefficient :: c1    1\n",
      "c2    0\n",
      "c3    0\n",
      "c4    0\n",
      "c5    1\n",
      "c6    1\n",
      "c7    1\n",
      "Name: 0, dtype: int64 -- c1    0\n",
      "c2    1\n",
      "c3    0\n",
      "c4    0\n",
      "c5    0\n",
      "c6    0\n",
      "c7    0\n",
      "Name: 4, dtype: int64\n",
      "jaccard_coefficient :: c1    1\n",
      "c2    0\n",
      "c3    0\n",
      "c4    0\n",
      "c5    1\n",
      "c6    1\n",
      "c7    1\n",
      "Name: 0, dtype: int64 -- c1    1\n",
      "c2    1\n",
      "c3    0\n",
      "c4    0\n",
      "c5    1\n",
      "c6    0\n",
      "c7    1\n",
      "Name: 5, dtype: int64\n",
      "jaccard_coefficient :: c1    0\n",
      "c2    0\n",
      "c3    1\n",
      "c4    0\n",
      "c5    1\n",
      "c6    0\n",
      "c7    0\n",
      "Name: 1, dtype: int64 -- c1    0\n",
      "c2    0\n",
      "c3    1\n",
      "c4    0\n",
      "c5    1\n",
      "c6    0\n",
      "c7    0\n",
      "Name: 2, dtype: int64\n",
      "jaccard_coefficient :: c1    0\n",
      "c2    0\n",
      "c3    1\n",
      "c4    0\n",
      "c5    1\n",
      "c6    0\n",
      "c7    0\n",
      "Name: 1, dtype: int64 -- c1    1\n",
      "c2    0\n",
      "c3    0\n",
      "c4    1\n",
      "c5    1\n",
      "c6    0\n",
      "c7    0\n",
      "Name: 3, dtype: int64\n",
      "jaccard_coefficient :: c1    0\n",
      "c2    0\n",
      "c3    1\n",
      "c4    0\n",
      "c5    1\n",
      "c6    0\n",
      "c7    0\n",
      "Name: 1, dtype: int64 -- c1    0\n",
      "c2    1\n",
      "c3    0\n",
      "c4    0\n",
      "c5    0\n",
      "c6    0\n",
      "c7    0\n",
      "Name: 4, dtype: int64\n",
      "jaccard_coefficient :: c1    0\n",
      "c2    0\n",
      "c3    1\n",
      "c4    0\n",
      "c5    1\n",
      "c6    0\n",
      "c7    0\n",
      "Name: 1, dtype: int64 -- c1    1\n",
      "c2    1\n",
      "c3    0\n",
      "c4    0\n",
      "c5    1\n",
      "c6    0\n",
      "c7    1\n",
      "Name: 5, dtype: int64\n",
      "jaccard_coefficient :: c1    0\n",
      "c2    0\n",
      "c3    1\n",
      "c4    0\n",
      "c5    1\n",
      "c6    0\n",
      "c7    0\n",
      "Name: 2, dtype: int64 -- c1    1\n",
      "c2    0\n",
      "c3    0\n",
      "c4    1\n",
      "c5    1\n",
      "c6    0\n",
      "c7    0\n",
      "Name: 3, dtype: int64\n",
      "jaccard_coefficient :: c1    0\n",
      "c2    0\n",
      "c3    1\n",
      "c4    0\n",
      "c5    1\n",
      "c6    0\n",
      "c7    0\n",
      "Name: 2, dtype: int64 -- c1    0\n",
      "c2    1\n",
      "c3    0\n",
      "c4    0\n",
      "c5    0\n",
      "c6    0\n",
      "c7    0\n",
      "Name: 4, dtype: int64\n",
      "jaccard_coefficient :: c1    0\n",
      "c2    0\n",
      "c3    1\n",
      "c4    0\n",
      "c5    1\n",
      "c6    0\n",
      "c7    0\n",
      "Name: 2, dtype: int64 -- c1    1\n",
      "c2    1\n",
      "c3    0\n",
      "c4    0\n",
      "c5    1\n",
      "c6    0\n",
      "c7    1\n",
      "Name: 5, dtype: int64\n",
      "jaccard_coefficient :: c1    1\n",
      "c2    0\n",
      "c3    0\n",
      "c4    1\n",
      "c5    1\n",
      "c6    0\n",
      "c7    0\n",
      "Name: 3, dtype: int64 -- c1    0\n",
      "c2    1\n",
      "c3    0\n",
      "c4    0\n",
      "c5    0\n",
      "c6    0\n",
      "c7    0\n",
      "Name: 4, dtype: int64\n",
      "jaccard_coefficient :: c1    1\n",
      "c2    0\n",
      "c3    0\n",
      "c4    1\n",
      "c5    1\n",
      "c6    0\n",
      "c7    0\n",
      "Name: 3, dtype: int64 -- c1    1\n",
      "c2    1\n",
      "c3    0\n",
      "c4    0\n",
      "c5    1\n",
      "c6    0\n",
      "c7    1\n",
      "Name: 5, dtype: int64\n",
      "jaccard_coefficient :: c1    0\n",
      "c2    1\n",
      "c3    0\n",
      "c4    0\n",
      "c5    0\n",
      "c6    0\n",
      "c7    0\n",
      "Name: 4, dtype: int64 -- c1    1\n",
      "c2    1\n",
      "c3    0\n",
      "c4    0\n",
      "c5    1\n",
      "c6    0\n",
      "c7    1\n",
      "Name: 5, dtype: int64\n"
     ]
    },
    {
     "data": {
      "text/plain": "<pandas.io.formats.style.Styler at 0x208082b2ce0>",
      "text/html": "<style type=\"text/css\">\n#T_6e49f th {\n  font-size: 14px;\n}\n#T_6e49f_row0_col0, #T_6e49f_row0_col1, #T_6e49f_row0_col2, #T_6e49f_row0_col3, #T_6e49f_row0_col4, #T_6e49f_row0_col5, #T_6e49f_row1_col0, #T_6e49f_row1_col1, #T_6e49f_row1_col2, #T_6e49f_row1_col3, #T_6e49f_row1_col4, #T_6e49f_row1_col5, #T_6e49f_row2_col0, #T_6e49f_row2_col1, #T_6e49f_row2_col2, #T_6e49f_row2_col3, #T_6e49f_row2_col4, #T_6e49f_row2_col5, #T_6e49f_row3_col0, #T_6e49f_row3_col1, #T_6e49f_row3_col2, #T_6e49f_row3_col3, #T_6e49f_row3_col4, #T_6e49f_row3_col5, #T_6e49f_row4_col0, #T_6e49f_row4_col1, #T_6e49f_row4_col2, #T_6e49f_row4_col3, #T_6e49f_row4_col4, #T_6e49f_row4_col5, #T_6e49f_row5_col0, #T_6e49f_row5_col1, #T_6e49f_row5_col2, #T_6e49f_row5_col3, #T_6e49f_row5_col4, #T_6e49f_row5_col5 {\n  text-align: center;\n  font-size: 12px;\n}\n</style>\n<table id=\"T_6e49f\" border=\"1\">\n  <caption>My Matrix</caption>\n  <thead>\n    <tr>\n      <th class=\"blank level0\" >&nbsp;</th>\n      <th id=\"T_6e49f_level0_col0\" class=\"col_heading level0 col0\" >L1</th>\n      <th id=\"T_6e49f_level0_col1\" class=\"col_heading level0 col1\" >L2</th>\n      <th id=\"T_6e49f_level0_col2\" class=\"col_heading level0 col2\" >L3</th>\n      <th id=\"T_6e49f_level0_col3\" class=\"col_heading level0 col3\" >L4</th>\n      <th id=\"T_6e49f_level0_col4\" class=\"col_heading level0 col4\" >L5</th>\n      <th id=\"T_6e49f_level0_col5\" class=\"col_heading level0 col5\" >L6</th>\n    </tr>\n  </thead>\n  <tbody>\n    <tr>\n      <th id=\"T_6e49f_level0_row0\" class=\"row_heading level0 row0\" >L1</th>\n      <td id=\"T_6e49f_row0_col0\" class=\"data row0 col0\" >0.000000</td>\n      <td id=\"T_6e49f_row0_col1\" class=\"data row0 col1\" >0.800000</td>\n      <td id=\"T_6e49f_row0_col2\" class=\"data row0 col2\" >0.800000</td>\n      <td id=\"T_6e49f_row0_col3\" class=\"data row0 col3\" >0.600000</td>\n      <td id=\"T_6e49f_row0_col4\" class=\"data row0 col4\" >1.000000</td>\n      <td id=\"T_6e49f_row0_col5\" class=\"data row0 col5\" >0.400000</td>\n    </tr>\n    <tr>\n      <th id=\"T_6e49f_level0_row1\" class=\"row_heading level0 row1\" >L2</th>\n      <td id=\"T_6e49f_row1_col0\" class=\"data row1 col0\" >0.800000</td>\n      <td id=\"T_6e49f_row1_col1\" class=\"data row1 col1\" >0.000000</td>\n      <td id=\"T_6e49f_row1_col2\" class=\"data row1 col2\" >0.000000</td>\n      <td id=\"T_6e49f_row1_col3\" class=\"data row1 col3\" >0.750000</td>\n      <td id=\"T_6e49f_row1_col4\" class=\"data row1 col4\" >1.000000</td>\n      <td id=\"T_6e49f_row1_col5\" class=\"data row1 col5\" >0.800000</td>\n    </tr>\n    <tr>\n      <th id=\"T_6e49f_level0_row2\" class=\"row_heading level0 row2\" >L3</th>\n      <td id=\"T_6e49f_row2_col0\" class=\"data row2 col0\" >0.800000</td>\n      <td id=\"T_6e49f_row2_col1\" class=\"data row2 col1\" >0.000000</td>\n      <td id=\"T_6e49f_row2_col2\" class=\"data row2 col2\" >0.000000</td>\n      <td id=\"T_6e49f_row2_col3\" class=\"data row2 col3\" >0.750000</td>\n      <td id=\"T_6e49f_row2_col4\" class=\"data row2 col4\" >1.000000</td>\n      <td id=\"T_6e49f_row2_col5\" class=\"data row2 col5\" >0.800000</td>\n    </tr>\n    <tr>\n      <th id=\"T_6e49f_level0_row3\" class=\"row_heading level0 row3\" >L4</th>\n      <td id=\"T_6e49f_row3_col0\" class=\"data row3 col0\" >0.600000</td>\n      <td id=\"T_6e49f_row3_col1\" class=\"data row3 col1\" >0.750000</td>\n      <td id=\"T_6e49f_row3_col2\" class=\"data row3 col2\" >0.750000</td>\n      <td id=\"T_6e49f_row3_col3\" class=\"data row3 col3\" >0.000000</td>\n      <td id=\"T_6e49f_row3_col4\" class=\"data row3 col4\" >1.000000</td>\n      <td id=\"T_6e49f_row3_col5\" class=\"data row3 col5\" >0.600000</td>\n    </tr>\n    <tr>\n      <th id=\"T_6e49f_level0_row4\" class=\"row_heading level0 row4\" >L5</th>\n      <td id=\"T_6e49f_row4_col0\" class=\"data row4 col0\" >1.000000</td>\n      <td id=\"T_6e49f_row4_col1\" class=\"data row4 col1\" >1.000000</td>\n      <td id=\"T_6e49f_row4_col2\" class=\"data row4 col2\" >1.000000</td>\n      <td id=\"T_6e49f_row4_col3\" class=\"data row4 col3\" >1.000000</td>\n      <td id=\"T_6e49f_row4_col4\" class=\"data row4 col4\" >0.000000</td>\n      <td id=\"T_6e49f_row4_col5\" class=\"data row4 col5\" >0.750000</td>\n    </tr>\n    <tr>\n      <th id=\"T_6e49f_level0_row5\" class=\"row_heading level0 row5\" >L6</th>\n      <td id=\"T_6e49f_row5_col0\" class=\"data row5 col0\" >0.400000</td>\n      <td id=\"T_6e49f_row5_col1\" class=\"data row5 col1\" >0.800000</td>\n      <td id=\"T_6e49f_row5_col2\" class=\"data row5 col2\" >0.800000</td>\n      <td id=\"T_6e49f_row5_col3\" class=\"data row5 col3\" >0.600000</td>\n      <td id=\"T_6e49f_row5_col4\" class=\"data row5 col4\" >0.750000</td>\n      <td id=\"T_6e49f_row5_col5\" class=\"data row5 col5\" >0.000000</td>\n    </tr>\n  </tbody>\n</table>\n"
     },
     "metadata": {},
     "output_type": "display_data"
    },
    {
     "data": {
      "text/plain": "<pandas.io.formats.style.Styler at 0x208082b1cf0>",
      "text/html": "<style type=\"text/css\">\n#T_19876 th {\n  font-size: 14px;\n}\n#T_19876_row0_col0, #T_19876_row0_col1, #T_19876_row0_col2, #T_19876_row0_col3, #T_19876_row0_col4, #T_19876_row1_col0, #T_19876_row1_col1, #T_19876_row1_col2, #T_19876_row1_col3, #T_19876_row1_col4, #T_19876_row2_col0, #T_19876_row2_col1, #T_19876_row2_col2, #T_19876_row2_col3, #T_19876_row2_col4, #T_19876_row3_col0, #T_19876_row3_col1, #T_19876_row3_col2, #T_19876_row3_col3, #T_19876_row3_col4, #T_19876_row4_col0, #T_19876_row4_col1, #T_19876_row4_col2, #T_19876_row4_col3, #T_19876_row4_col4 {\n  text-align: center;\n  font-size: 12px;\n}\n</style>\n<table id=\"T_19876\" border=\"1\">\n  <caption>My Matrix</caption>\n  <thead>\n    <tr>\n      <th class=\"blank level0\" >&nbsp;</th>\n      <th id=\"T_19876_level0_col0\" class=\"col_heading level0 col0\" >L1</th>\n      <th id=\"T_19876_level0_col1\" class=\"col_heading level0 col1\" >L2-L3</th>\n      <th id=\"T_19876_level0_col2\" class=\"col_heading level0 col2\" >L4</th>\n      <th id=\"T_19876_level0_col3\" class=\"col_heading level0 col3\" >L5</th>\n      <th id=\"T_19876_level0_col4\" class=\"col_heading level0 col4\" >L6</th>\n    </tr>\n  </thead>\n  <tbody>\n    <tr>\n      <th id=\"T_19876_level0_row0\" class=\"row_heading level0 row0\" >L1</th>\n      <td id=\"T_19876_row0_col0\" class=\"data row0 col0\" >0.000000</td>\n      <td id=\"T_19876_row0_col1\" class=\"data row0 col1\" >0.800000</td>\n      <td id=\"T_19876_row0_col2\" class=\"data row0 col2\" >0.600000</td>\n      <td id=\"T_19876_row0_col3\" class=\"data row0 col3\" >1.000000</td>\n      <td id=\"T_19876_row0_col4\" class=\"data row0 col4\" >0.400000</td>\n    </tr>\n    <tr>\n      <th id=\"T_19876_level0_row1\" class=\"row_heading level0 row1\" >L2-L3</th>\n      <td id=\"T_19876_row1_col0\" class=\"data row1 col0\" >0.800000</td>\n      <td id=\"T_19876_row1_col1\" class=\"data row1 col1\" >0.000000</td>\n      <td id=\"T_19876_row1_col2\" class=\"data row1 col2\" >0.750000</td>\n      <td id=\"T_19876_row1_col3\" class=\"data row1 col3\" >1.000000</td>\n      <td id=\"T_19876_row1_col4\" class=\"data row1 col4\" >0.800000</td>\n    </tr>\n    <tr>\n      <th id=\"T_19876_level0_row2\" class=\"row_heading level0 row2\" >L4</th>\n      <td id=\"T_19876_row2_col0\" class=\"data row2 col0\" >0.600000</td>\n      <td id=\"T_19876_row2_col1\" class=\"data row2 col1\" >0.750000</td>\n      <td id=\"T_19876_row2_col2\" class=\"data row2 col2\" >0.000000</td>\n      <td id=\"T_19876_row2_col3\" class=\"data row2 col3\" >1.000000</td>\n      <td id=\"T_19876_row2_col4\" class=\"data row2 col4\" >0.600000</td>\n    </tr>\n    <tr>\n      <th id=\"T_19876_level0_row3\" class=\"row_heading level0 row3\" >L5</th>\n      <td id=\"T_19876_row3_col0\" class=\"data row3 col0\" >1.000000</td>\n      <td id=\"T_19876_row3_col1\" class=\"data row3 col1\" >1.000000</td>\n      <td id=\"T_19876_row3_col2\" class=\"data row3 col2\" >1.000000</td>\n      <td id=\"T_19876_row3_col3\" class=\"data row3 col3\" >0.000000</td>\n      <td id=\"T_19876_row3_col4\" class=\"data row3 col4\" >0.750000</td>\n    </tr>\n    <tr>\n      <th id=\"T_19876_level0_row4\" class=\"row_heading level0 row4\" >L6</th>\n      <td id=\"T_19876_row4_col0\" class=\"data row4 col0\" >0.400000</td>\n      <td id=\"T_19876_row4_col1\" class=\"data row4 col1\" >0.800000</td>\n      <td id=\"T_19876_row4_col2\" class=\"data row4 col2\" >0.600000</td>\n      <td id=\"T_19876_row4_col3\" class=\"data row4 col3\" >0.750000</td>\n      <td id=\"T_19876_row4_col4\" class=\"data row4 col4\" >0.000000</td>\n    </tr>\n  </tbody>\n</table>\n"
     },
     "metadata": {},
     "output_type": "display_data"
    },
    {
     "data": {
      "text/plain": "<pandas.io.formats.style.Styler at 0x208082b09a0>",
      "text/html": "<style type=\"text/css\">\n#T_42766 th {\n  font-size: 14px;\n}\n#T_42766_row0_col0, #T_42766_row0_col1, #T_42766_row0_col2, #T_42766_row0_col3, #T_42766_row1_col0, #T_42766_row1_col1, #T_42766_row1_col2, #T_42766_row1_col3, #T_42766_row2_col0, #T_42766_row2_col1, #T_42766_row2_col2, #T_42766_row2_col3, #T_42766_row3_col0, #T_42766_row3_col1, #T_42766_row3_col2, #T_42766_row3_col3 {\n  text-align: center;\n  font-size: 12px;\n}\n</style>\n<table id=\"T_42766\" border=\"1\">\n  <caption>My Matrix</caption>\n  <thead>\n    <tr>\n      <th class=\"blank level0\" >&nbsp;</th>\n      <th id=\"T_42766_level0_col0\" class=\"col_heading level0 col0\" >L1-L6</th>\n      <th id=\"T_42766_level0_col1\" class=\"col_heading level0 col1\" >L2-L3</th>\n      <th id=\"T_42766_level0_col2\" class=\"col_heading level0 col2\" >L4</th>\n      <th id=\"T_42766_level0_col3\" class=\"col_heading level0 col3\" >L5</th>\n    </tr>\n  </thead>\n  <tbody>\n    <tr>\n      <th id=\"T_42766_level0_row0\" class=\"row_heading level0 row0\" >L1-L6</th>\n      <td id=\"T_42766_row0_col0\" class=\"data row0 col0\" >0.000000</td>\n      <td id=\"T_42766_row0_col1\" class=\"data row0 col1\" >0.800000</td>\n      <td id=\"T_42766_row0_col2\" class=\"data row0 col2\" >0.600000</td>\n      <td id=\"T_42766_row0_col3\" class=\"data row0 col3\" >0.750000</td>\n    </tr>\n    <tr>\n      <th id=\"T_42766_level0_row1\" class=\"row_heading level0 row1\" >L2-L3</th>\n      <td id=\"T_42766_row1_col0\" class=\"data row1 col0\" >0.800000</td>\n      <td id=\"T_42766_row1_col1\" class=\"data row1 col1\" >0.000000</td>\n      <td id=\"T_42766_row1_col2\" class=\"data row1 col2\" >0.750000</td>\n      <td id=\"T_42766_row1_col3\" class=\"data row1 col3\" >1.000000</td>\n    </tr>\n    <tr>\n      <th id=\"T_42766_level0_row2\" class=\"row_heading level0 row2\" >L4</th>\n      <td id=\"T_42766_row2_col0\" class=\"data row2 col0\" >0.600000</td>\n      <td id=\"T_42766_row2_col1\" class=\"data row2 col1\" >0.750000</td>\n      <td id=\"T_42766_row2_col2\" class=\"data row2 col2\" >0.000000</td>\n      <td id=\"T_42766_row2_col3\" class=\"data row2 col3\" >1.000000</td>\n    </tr>\n    <tr>\n      <th id=\"T_42766_level0_row3\" class=\"row_heading level0 row3\" >L5</th>\n      <td id=\"T_42766_row3_col0\" class=\"data row3 col0\" >0.750000</td>\n      <td id=\"T_42766_row3_col1\" class=\"data row3 col1\" >1.000000</td>\n      <td id=\"T_42766_row3_col2\" class=\"data row3 col2\" >1.000000</td>\n      <td id=\"T_42766_row3_col3\" class=\"data row3 col3\" >0.000000</td>\n    </tr>\n  </tbody>\n</table>\n"
     },
     "metadata": {},
     "output_type": "display_data"
    },
    {
     "data": {
      "text/plain": "<pandas.io.formats.style.Styler at 0x208082b2dd0>",
      "text/html": "<style type=\"text/css\">\n#T_73551 th {\n  font-size: 14px;\n}\n#T_73551_row0_col0, #T_73551_row0_col1, #T_73551_row0_col2, #T_73551_row1_col0, #T_73551_row1_col1, #T_73551_row1_col2, #T_73551_row2_col0, #T_73551_row2_col1, #T_73551_row2_col2 {\n  text-align: center;\n  font-size: 12px;\n}\n</style>\n<table id=\"T_73551\" border=\"1\">\n  <caption>My Matrix</caption>\n  <thead>\n    <tr>\n      <th class=\"blank level0\" >&nbsp;</th>\n      <th id=\"T_73551_level0_col0\" class=\"col_heading level0 col0\" >L1-L6-L4</th>\n      <th id=\"T_73551_level0_col1\" class=\"col_heading level0 col1\" >L2-L3</th>\n      <th id=\"T_73551_level0_col2\" class=\"col_heading level0 col2\" >L5</th>\n    </tr>\n  </thead>\n  <tbody>\n    <tr>\n      <th id=\"T_73551_level0_row0\" class=\"row_heading level0 row0\" >L1-L6-L4</th>\n      <td id=\"T_73551_row0_col0\" class=\"data row0 col0\" >0.000000</td>\n      <td id=\"T_73551_row0_col1\" class=\"data row0 col1\" >0.750000</td>\n      <td id=\"T_73551_row0_col2\" class=\"data row0 col2\" >0.750000</td>\n    </tr>\n    <tr>\n      <th id=\"T_73551_level0_row1\" class=\"row_heading level0 row1\" >L2-L3</th>\n      <td id=\"T_73551_row1_col0\" class=\"data row1 col0\" >0.750000</td>\n      <td id=\"T_73551_row1_col1\" class=\"data row1 col1\" >0.000000</td>\n      <td id=\"T_73551_row1_col2\" class=\"data row1 col2\" >1.000000</td>\n    </tr>\n    <tr>\n      <th id=\"T_73551_level0_row2\" class=\"row_heading level0 row2\" >L5</th>\n      <td id=\"T_73551_row2_col0\" class=\"data row2 col0\" >0.750000</td>\n      <td id=\"T_73551_row2_col1\" class=\"data row2 col1\" >1.000000</td>\n      <td id=\"T_73551_row2_col2\" class=\"data row2 col2\" >0.000000</td>\n    </tr>\n  </tbody>\n</table>\n"
     },
     "metadata": {},
     "output_type": "display_data"
    },
    {
     "data": {
      "text/plain": "<pandas.io.formats.style.Styler at 0x208082b0cd0>",
      "text/html": "<style type=\"text/css\">\n#T_026c3 th {\n  font-size: 14px;\n}\n#T_026c3_row0_col0, #T_026c3_row0_col1, #T_026c3_row1_col0, #T_026c3_row1_col1 {\n  text-align: center;\n  font-size: 12px;\n}\n</style>\n<table id=\"T_026c3\" border=\"1\">\n  <caption>My Matrix</caption>\n  <thead>\n    <tr>\n      <th class=\"blank level0\" >&nbsp;</th>\n      <th id=\"T_026c3_level0_col0\" class=\"col_heading level0 col0\" >L1-L6-L4-L2-L3</th>\n      <th id=\"T_026c3_level0_col1\" class=\"col_heading level0 col1\" >L5</th>\n    </tr>\n  </thead>\n  <tbody>\n    <tr>\n      <th id=\"T_026c3_level0_row0\" class=\"row_heading level0 row0\" >L1-L6-L4-L2-L3</th>\n      <td id=\"T_026c3_row0_col0\" class=\"data row0 col0\" >0.000000</td>\n      <td id=\"T_026c3_row0_col1\" class=\"data row0 col1\" >0.750000</td>\n    </tr>\n    <tr>\n      <th id=\"T_026c3_level0_row1\" class=\"row_heading level0 row1\" >L5</th>\n      <td id=\"T_026c3_row1_col0\" class=\"data row1 col0\" >0.750000</td>\n      <td id=\"T_026c3_row1_col1\" class=\"data row1 col1\" >0.000000</td>\n    </tr>\n  </tbody>\n</table>\n"
     },
     "metadata": {},
     "output_type": "display_data"
    },
    {
     "name": "stdout",
     "output_type": "stream",
     "text": [
      "   c1  c2  c3  c4  c5  c6  c7\n",
      "0   1   0   0   0   1   1   1\n",
      "1   0   0   1   0   1   0   0\n",
      "2   0   0   1   0   1   0   0\n",
      "3   1   0   0   1   1   0   0\n",
      "4   0   1   0   0   0   0   0\n",
      "5   1   1   0   0   1   0   1\n"
     ]
    }
   ],
   "source": [
    "data = pd.read_csv('testText.csv')\n",
    "labels = data['id'].values\n",
    "\n",
    "hierarchical_clustering_algo_agnes(data)"
   ],
   "metadata": {
    "collapsed": false
   }
  }
 ],
 "metadata": {
  "kernelspec": {
   "display_name": "Python 3",
   "language": "python",
   "name": "python3"
  },
  "language_info": {
   "codemirror_mode": {
    "name": "ipython",
    "version": 2
   },
   "file_extension": ".py",
   "mimetype": "text/x-python",
   "name": "python",
   "nbconvert_exporter": "python",
   "pygments_lexer": "ipython2",
   "version": "2.7.6"
  }
 },
 "nbformat": 4,
 "nbformat_minor": 0
}
