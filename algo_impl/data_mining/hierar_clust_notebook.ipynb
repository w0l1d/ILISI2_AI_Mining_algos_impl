{
 "cells": [
  {
   "cell_type": "markdown",
   "source": [
    "##### import libraries"
   ],
   "metadata": {
    "collapsed": false
   }
  },
  {
   "cell_type": "code",
   "execution_count": 66,
   "outputs": [],
   "source": [
    "import pandas as pd\n",
    "import numpy as np"
   ],
   "metadata": {
    "collapsed": false
   }
  },
  {
   "cell_type": "code",
   "execution_count": 67,
   "outputs": [],
   "source": [
    "import pandas as pd\n",
    "import numpy as np\n",
    "import numbers\n",
    "\n",
    "from IPython.core.display_functions import display\n",
    "\n",
    "\n",
    "def normalize_data(df: pd.DataFrame, test_date: pd.DataFrame = None, ignore_cols: list = []):\n",
    "    ignore_cols.append('class')\n",
    "    ignore_cols.append('id')\n",
    "    numeric_cols = df.select_dtypes(include='number').columns\n",
    "    numeric_cols = [col for col in numeric_cols if col not in ignore_cols]\n",
    "\n",
    "    for col in numeric_cols:\n",
    "        vals = df[col]\n",
    "        mn = min(vals)\n",
    "        mx = max(vals)\n",
    "        if 0 <= mn and mx <= 1:\n",
    "            continue\n",
    "        denom = mx - mn\n",
    "\n",
    "        df[col] = df.apply(lambda row: (row[col] - mn) / denom, axis=1)\n",
    "        if test_date is not None:\n",
    "            test_date[col] = test_date.apply(lambda row: (row[col] - mn) / denom, axis=1)\n",
    "\n",
    "    non_numeric_cols = df.select_dtypes(include='object').columns.tolist()\n",
    "    non_numeric_cols = [col for col in non_numeric_cols if col not in ignore_cols]\n",
    "\n",
    "    for col in non_numeric_cols:\n",
    "        uniq_vals = df[col]\n",
    "        uniq_vals = uniq_vals.unique()\n",
    "        print(f'normilize order of \"{col}\" :: {uniq_vals}')\n",
    "        vals_map = {}\n",
    "        for val in range(len(uniq_vals)):\n",
    "            vals_map[uniq_vals[val]] = [0] * len(uniq_vals)\n",
    "            vals_map[uniq_vals[val]][val] = 1\n",
    "\n",
    "        df[col] = df.apply(lambda row: vals_map[row[col]], axis=1)\n",
    "        if test_date is not None:\n",
    "            test_date[col] = test_date.apply(lambda row: vals_map[row[col]], axis=1)\n",
    "\n",
    "\n",
    "def jaccard_coefficient(l1, l2):\n",
    "    # a is the number combinations of 1 and 0\n",
    "    a = len([1 for i, j in zip(l1, l2) if i == 1 and j == 0])\n",
    "    # b is the number combinations of 0 and 1\n",
    "    b = len([1 for i, j in zip(l1, l2) if i == 0 and j == 1])\n",
    "    # c is the number combinations of 1 and 1\n",
    "    c = len([1 for i, j in zip(l1, l2) if i == j == 1])\n",
    "\n",
    "    return (a + b) / (a + b + c)\n",
    "\n",
    "\n",
    "def appariement_coefficient(l1, l2):\n",
    "    # a is the number combinations of 1 and 0\n",
    "    a = len([1 for i, j in zip(l1, l2) if i == 1 and j == 0])\n",
    "    # b is the number combinations of 0 and 1\n",
    "    b = len([1 for i, j in zip(l1, l2) if i == 0 and j == 1])\n",
    "    # c is the number combinations of 1 and 1\n",
    "    c = len([1 for i, j in zip(l1, l2) if i == j == 1])\n",
    "    # d is the number combinations of 0 and 0\n",
    "    d = len([1 for i, j in zip(l1, l2) if i == j == 0])\n",
    "\n",
    "    return (a + b) / (a + b + c + d)\n",
    "\n",
    "\n",
    "def distance(row_a: pd.Series, row_b: pd.Series, columns: list, options: dict = {}) -> float:\n",
    "    \"\"\"\n",
    "        Calculates the distance between two rows\n",
    "        :param row: the row to calculate the distance from\n",
    "        :param test_data: the row to calculate the distance to\n",
    "        :param ignore_columns: columns to ignore in the calculation\n",
    "        :param options: options for the distance calculation\n",
    "        :               options['class'] = the class column name\n",
    "        :               options['col'] = the distance calculation method for the column\n",
    "        :               options['col'] = 'jaccard' for jaccard coefficient\n",
    "        :\n",
    "        :                   1  0\n",
    "        :               1   a  b\n",
    "        :               0   c  d\n",
    "        :           symitrique attribut :     distance_jaccard = (b + c) / (a + b + c)\n",
    "        :       non symetrique attribut : distance_appariement = (b + c) / (a + b + c + d)  **** (default)\n",
    "        :\n",
    "        :return: the distance between the two rows\n",
    "    \"\"\"\n",
    "    # calculate distance between row and test_data\n",
    "    rest_dist = {}\n",
    "    for col in columns:\n",
    "        if col == 'class' or col == 'id':\n",
    "            continue\n",
    "        if type(row_a[col]) == list:\n",
    "            if col in options and options[col] == 'jaccard':\n",
    "                rest_dist[col] = jaccard_coefficient(row_a[col], row_b[col])\n",
    "            else:\n",
    "                rest_dist[col] = appariement_coefficient(row_a[col], row_b[col])\n",
    "        elif isinstance(row_a[col], numbers.Number):\n",
    "            rest_dist[col] = abs(row_a[col] - row_b[col])\n",
    "        else:\n",
    "            print(f'error :: {col} is not a number or a list : ', type(row_a[col]), row_a[col], row_b[col])\n",
    "\n",
    "    dist = sum(rest_dist.values()) / len(rest_dist)\n",
    "    print(f'distance of each column ::  {rest_dist} / {len(rest_dist)} -- result = {dist}')\n",
    "    return dist\n",
    "\n",
    "\n",
    "# def calcul_distances(df: pd.DataFrame, labels: list):\n",
    "#     # calculate distance\n",
    "#     Z = np.zeros((len(labels), len(labels)))\n",
    "#     for i in range(len(df)):\n",
    "#         for j in range(i + 1, len(df)):\n",
    "#             Z[i, j] = distance(df.iloc[i], df.iloc[j], columns=df.columns)\n",
    "#             Z[j, i] = Z[i, j]\n",
    "#     return Z\n",
    "\n",
    "\n",
    "def calcul_distances(df: pd.DataFrame, labels: list):\n",
    "    # calculate distance\n",
    "\n",
    "    ignore_columns = []\n",
    "    ignore_columns.append('id')\n",
    "    ignore_columns.append('class')\n",
    "    jaccard = True\n",
    "    for col in df.columns:\n",
    "        if col in ignore_columns:\n",
    "            continue\n",
    "        if not df[col].isin([0, 1]).all():\n",
    "            jaccard = False\n",
    "            break\n",
    "\n",
    "    Z = np.zeros((len(labels), len(labels)))\n",
    "    for i in range(len(df)):\n",
    "        for j in range(i + 1, len(df)):\n",
    "            if not jaccard:\n",
    "                Z[i, j] = distance(df.iloc[i], df.iloc[j], columns=df.columns)\n",
    "            else:\n",
    "                Z[i, j] = jaccard_coefficient(df.iloc[i], df.iloc[j])\n",
    "            Z[j, i] = Z[i, j]\n",
    "    return Z\n",
    "\n",
    "\n",
    "def display_dist_matrix(labels: list, matrix: np.ndarray):\n",
    "    # create a pandas dataframe from the numpy matrix with row and column labels\n",
    "    df = pd.DataFrame(matrix, index=labels, columns=labels)\n",
    "\n",
    "    # display the dataframe with labels for rows and columns\n",
    "    styled_df = df.style.set_caption('My Matrix').set_table_styles(\n",
    "        [{'selector': 'th', 'props': [('font-size', '14px')]}]).set_properties(\n",
    "        **{'text-align': 'center', 'font-size': '12px'}).set_table_attributes('border=\"1\"')\n",
    "\n",
    "    display(styled_df)\n"
   ],
   "metadata": {
    "collapsed": false
   }
  },
  {
   "cell_type": "markdown",
   "source": [
    "# Hierarchical clustering algorithm implementation AGNES"
   ],
   "metadata": {
    "collapsed": false
   }
  },
  {
   "cell_type": "markdown",
   "source": [
    "##### Get the index of the minimum value of the matrix"
   ],
   "metadata": {
    "collapsed": false
   }
  },
  {
   "cell_type": "code",
   "execution_count": 68,
   "outputs": [],
   "source": [
    "def np_min_ign_diagonal(z: np.ndarray):\n",
    "    row_index , col_index = 0, 1\n",
    "    for i in range(len(z)):\n",
    "        for j in range(len(z)):\n",
    "            if i == j:\n",
    "                continue\n",
    "            if z[i, j] < z[row_index, col_index]:\n",
    "                row_index = i\n",
    "                col_index = j\n",
    "    return row_index, col_index"
   ],
   "metadata": {
    "collapsed": false
   }
  },
  {
   "cell_type": "markdown",
   "source": [
    "# AGNES algorithm"
   ],
   "metadata": {
    "collapsed": false
   }
  },
  {
   "cell_type": "code",
   "execution_count": 69,
   "metadata": {
    "collapsed": true
   },
   "outputs": [],
   "source": [
    "def hierarchical_clustering_algo_agnes(df: pd.DataFrame, options: dict={}):\n",
    "    # normalize data\n",
    "    normalize_data(df, None)\n",
    "\n",
    "    print(f'df :')\n",
    "    print(df, end='\\n\\n')\n",
    "    # l = dict['label']\n",
    "    labels = list(map(str, df['id'].values))\n",
    "    if 'class' in df.columns:\n",
    "        df = df.drop(columns=['id', 'class'])\n",
    "    else:\n",
    "        df = df.drop(columns=['id'])\n",
    "    Z= calcul_distances(df, labels)\n",
    "\n",
    "    while len(Z) > 1:\n",
    "        display_dist_matrix(labels, Z)\n",
    "        # get the index of the minimum value of the matrix\n",
    "        row_index, col_index = np_min_ign_diagonal(Z)\n",
    "\n",
    "        # update the matrix\n",
    "        for j in range(len(Z)):\n",
    "            if j == col_index:\n",
    "                Z[row_index, j] = 0\n",
    "            elif j != row_index:\n",
    "                Z[row_index, j] = min(Z[row_index, j], Z[col_index, j])\n",
    "                Z[j, row_index] = Z[row_index, j]\n",
    "        Z = np.delete(Z, col_index, 0)\n",
    "        Z = np.delete(Z, col_index, 1)\n",
    "\n",
    "        labels[row_index] = f'{labels[row_index]}-{labels[col_index]}'\n",
    "        labels = list(np.delete(labels, col_index, 0))\n",
    "\n",
    "    print(df)\n"
   ]
  },
  {
   "cell_type": "markdown",
   "source": [
    "# Test"
   ],
   "metadata": {
    "collapsed": false
   }
  },
  {
   "cell_type": "code",
   "execution_count": 70,
   "outputs": [
    {
     "name": "stdout",
     "output_type": "stream",
     "text": [
      "normilize order of \"cheveux\" :: ['blond' 'brun' 'rousse']\n",
      "df :\n",
      "      id     poids    cheveux  taile  vegetarien  class\n",
      "0  Sarah  0.111111  [1, 0, 0]    0.5           0      1\n",
      "1   Dana  0.444444  [1, 0, 0]    1.0           1      0\n",
      "2   Alex  0.333333  [0, 1, 0]    0.0           1      0\n",
      "3  Annie  0.555556  [1, 0, 0]    0.0           0      1\n",
      "4  Emily  0.777778  [0, 0, 1]    0.5           0      1\n",
      "5    Ali  0.888889  [0, 1, 0]    1.0           0      0\n",
      "6   John  1.000000  [0, 1, 0]    0.5           0      0\n",
      "7  Katie  0.000000  [1, 0, 0]    0.0           1      0\n",
      "\n",
      "distance of each column ::  {'poids': 0.3333333333333333, 'cheveux': 0.0, 'taile': 0.5, 'vegetarien': 1} / 4 -- result = 0.4583333333333333\n",
      "distance of each column ::  {'poids': 0.2222222222222222, 'cheveux': 0.6666666666666666, 'taile': 0.5, 'vegetarien': 1} / 4 -- result = 0.5972222222222222\n",
      "distance of each column ::  {'poids': 0.4444444444444445, 'cheveux': 0.0, 'taile': 0.5, 'vegetarien': 0} / 4 -- result = 0.2361111111111111\n",
      "distance of each column ::  {'poids': 0.6666666666666667, 'cheveux': 0.6666666666666666, 'taile': 0.0, 'vegetarien': 0} / 4 -- result = 0.33333333333333337\n",
      "distance of each column ::  {'poids': 0.7777777777777777, 'cheveux': 0.6666666666666666, 'taile': 0.5, 'vegetarien': 0} / 4 -- result = 0.48611111111111105\n",
      "distance of each column ::  {'poids': 0.8888888888888888, 'cheveux': 0.6666666666666666, 'taile': 0.0, 'vegetarien': 0} / 4 -- result = 0.38888888888888884\n",
      "distance of each column ::  {'poids': 0.1111111111111111, 'cheveux': 0.0, 'taile': 0.5, 'vegetarien': 1} / 4 -- result = 0.4027777777777778\n",
      "distance of each column ::  {'poids': 0.1111111111111111, 'cheveux': 0.6666666666666666, 'taile': 1.0, 'vegetarien': 0} / 4 -- result = 0.4444444444444444\n",
      "distance of each column ::  {'poids': 0.11111111111111116, 'cheveux': 0.0, 'taile': 1.0, 'vegetarien': 1} / 4 -- result = 0.5277777777777778\n",
      "distance of each column ::  {'poids': 0.33333333333333337, 'cheveux': 0.6666666666666666, 'taile': 0.5, 'vegetarien': 1} / 4 -- result = 0.625\n",
      "distance of each column ::  {'poids': 0.4444444444444444, 'cheveux': 0.6666666666666666, 'taile': 0.0, 'vegetarien': 1} / 4 -- result = 0.5277777777777778\n",
      "distance of each column ::  {'poids': 0.5555555555555556, 'cheveux': 0.6666666666666666, 'taile': 0.5, 'vegetarien': 1} / 4 -- result = 0.6805555555555556\n",
      "distance of each column ::  {'poids': 0.4444444444444444, 'cheveux': 0.0, 'taile': 1.0, 'vegetarien': 0} / 4 -- result = 0.3611111111111111\n",
      "distance of each column ::  {'poids': 0.22222222222222227, 'cheveux': 0.6666666666666666, 'taile': 0.0, 'vegetarien': 1} / 4 -- result = 0.4722222222222222\n",
      "distance of each column ::  {'poids': 0.4444444444444445, 'cheveux': 0.6666666666666666, 'taile': 0.5, 'vegetarien': 1} / 4 -- result = 0.6527777777777778\n",
      "distance of each column ::  {'poids': 0.5555555555555556, 'cheveux': 0.0, 'taile': 1.0, 'vegetarien': 1} / 4 -- result = 0.6388888888888888\n",
      "distance of each column ::  {'poids': 0.6666666666666667, 'cheveux': 0.0, 'taile': 0.5, 'vegetarien': 1} / 4 -- result = 0.5416666666666667\n",
      "distance of each column ::  {'poids': 0.3333333333333333, 'cheveux': 0.6666666666666666, 'taile': 0.0, 'vegetarien': 0} / 4 -- result = 0.25\n",
      "distance of each column ::  {'poids': 0.2222222222222222, 'cheveux': 0.6666666666666666, 'taile': 0.5, 'vegetarien': 0} / 4 -- result = 0.3472222222222222\n",
      "distance of each column ::  {'poids': 0.33333333333333326, 'cheveux': 0.6666666666666666, 'taile': 1.0, 'vegetarien': 0} / 4 -- result = 0.5\n",
      "distance of each column ::  {'poids': 0.4444444444444444, 'cheveux': 0.6666666666666666, 'taile': 0.5, 'vegetarien': 0} / 4 -- result = 0.4027777777777778\n",
      "distance of each column ::  {'poids': 0.5555555555555556, 'cheveux': 0.0, 'taile': 0.0, 'vegetarien': 1} / 4 -- result = 0.3888888888888889\n",
      "distance of each column ::  {'poids': 0.11111111111111105, 'cheveux': 0.6666666666666666, 'taile': 0.5, 'vegetarien': 0} / 4 -- result = 0.3194444444444444\n",
      "distance of each column ::  {'poids': 0.2222222222222222, 'cheveux': 0.6666666666666666, 'taile': 0.0, 'vegetarien': 0} / 4 -- result = 0.2222222222222222\n",
      "distance of each column ::  {'poids': 0.7777777777777778, 'cheveux': 0.6666666666666666, 'taile': 0.5, 'vegetarien': 1} / 4 -- result = 0.7361111111111112\n",
      "distance of each column ::  {'poids': 0.11111111111111116, 'cheveux': 0.0, 'taile': 0.5, 'vegetarien': 0} / 4 -- result = 0.1527777777777778\n",
      "distance of each column ::  {'poids': 0.8888888888888888, 'cheveux': 0.6666666666666666, 'taile': 1.0, 'vegetarien': 1} / 4 -- result = 0.8888888888888888\n",
      "distance of each column ::  {'poids': 1.0, 'cheveux': 0.6666666666666666, 'taile': 0.5, 'vegetarien': 1} / 4 -- result = 0.7916666666666666\n"
     ]
    },
    {
     "data": {
      "text/plain": "<pandas.io.formats.style.Styler at 0x2a5c3cb0880>",
      "text/html": "<style type=\"text/css\">\n#T_faaf4 th {\n  font-size: 14px;\n}\n#T_faaf4_row0_col0, #T_faaf4_row0_col1, #T_faaf4_row0_col2, #T_faaf4_row0_col3, #T_faaf4_row0_col4, #T_faaf4_row0_col5, #T_faaf4_row0_col6, #T_faaf4_row0_col7, #T_faaf4_row1_col0, #T_faaf4_row1_col1, #T_faaf4_row1_col2, #T_faaf4_row1_col3, #T_faaf4_row1_col4, #T_faaf4_row1_col5, #T_faaf4_row1_col6, #T_faaf4_row1_col7, #T_faaf4_row2_col0, #T_faaf4_row2_col1, #T_faaf4_row2_col2, #T_faaf4_row2_col3, #T_faaf4_row2_col4, #T_faaf4_row2_col5, #T_faaf4_row2_col6, #T_faaf4_row2_col7, #T_faaf4_row3_col0, #T_faaf4_row3_col1, #T_faaf4_row3_col2, #T_faaf4_row3_col3, #T_faaf4_row3_col4, #T_faaf4_row3_col5, #T_faaf4_row3_col6, #T_faaf4_row3_col7, #T_faaf4_row4_col0, #T_faaf4_row4_col1, #T_faaf4_row4_col2, #T_faaf4_row4_col3, #T_faaf4_row4_col4, #T_faaf4_row4_col5, #T_faaf4_row4_col6, #T_faaf4_row4_col7, #T_faaf4_row5_col0, #T_faaf4_row5_col1, #T_faaf4_row5_col2, #T_faaf4_row5_col3, #T_faaf4_row5_col4, #T_faaf4_row5_col5, #T_faaf4_row5_col6, #T_faaf4_row5_col7, #T_faaf4_row6_col0, #T_faaf4_row6_col1, #T_faaf4_row6_col2, #T_faaf4_row6_col3, #T_faaf4_row6_col4, #T_faaf4_row6_col5, #T_faaf4_row6_col6, #T_faaf4_row6_col7, #T_faaf4_row7_col0, #T_faaf4_row7_col1, #T_faaf4_row7_col2, #T_faaf4_row7_col3, #T_faaf4_row7_col4, #T_faaf4_row7_col5, #T_faaf4_row7_col6, #T_faaf4_row7_col7 {\n  text-align: center;\n  font-size: 12px;\n}\n</style>\n<table id=\"T_faaf4\" border=\"1\">\n  <caption>My Matrix</caption>\n  <thead>\n    <tr>\n      <th class=\"blank level0\" >&nbsp;</th>\n      <th id=\"T_faaf4_level0_col0\" class=\"col_heading level0 col0\" >Sarah</th>\n      <th id=\"T_faaf4_level0_col1\" class=\"col_heading level0 col1\" >Dana</th>\n      <th id=\"T_faaf4_level0_col2\" class=\"col_heading level0 col2\" >Alex</th>\n      <th id=\"T_faaf4_level0_col3\" class=\"col_heading level0 col3\" >Annie</th>\n      <th id=\"T_faaf4_level0_col4\" class=\"col_heading level0 col4\" >Emily</th>\n      <th id=\"T_faaf4_level0_col5\" class=\"col_heading level0 col5\" >Ali</th>\n      <th id=\"T_faaf4_level0_col6\" class=\"col_heading level0 col6\" >John</th>\n      <th id=\"T_faaf4_level0_col7\" class=\"col_heading level0 col7\" >Katie</th>\n    </tr>\n  </thead>\n  <tbody>\n    <tr>\n      <th id=\"T_faaf4_level0_row0\" class=\"row_heading level0 row0\" >Sarah</th>\n      <td id=\"T_faaf4_row0_col0\" class=\"data row0 col0\" >0.000000</td>\n      <td id=\"T_faaf4_row0_col1\" class=\"data row0 col1\" >0.458333</td>\n      <td id=\"T_faaf4_row0_col2\" class=\"data row0 col2\" >0.597222</td>\n      <td id=\"T_faaf4_row0_col3\" class=\"data row0 col3\" >0.236111</td>\n      <td id=\"T_faaf4_row0_col4\" class=\"data row0 col4\" >0.333333</td>\n      <td id=\"T_faaf4_row0_col5\" class=\"data row0 col5\" >0.486111</td>\n      <td id=\"T_faaf4_row0_col6\" class=\"data row0 col6\" >0.388889</td>\n      <td id=\"T_faaf4_row0_col7\" class=\"data row0 col7\" >0.402778</td>\n    </tr>\n    <tr>\n      <th id=\"T_faaf4_level0_row1\" class=\"row_heading level0 row1\" >Dana</th>\n      <td id=\"T_faaf4_row1_col0\" class=\"data row1 col0\" >0.458333</td>\n      <td id=\"T_faaf4_row1_col1\" class=\"data row1 col1\" >0.000000</td>\n      <td id=\"T_faaf4_row1_col2\" class=\"data row1 col2\" >0.444444</td>\n      <td id=\"T_faaf4_row1_col3\" class=\"data row1 col3\" >0.527778</td>\n      <td id=\"T_faaf4_row1_col4\" class=\"data row1 col4\" >0.625000</td>\n      <td id=\"T_faaf4_row1_col5\" class=\"data row1 col5\" >0.527778</td>\n      <td id=\"T_faaf4_row1_col6\" class=\"data row1 col6\" >0.680556</td>\n      <td id=\"T_faaf4_row1_col7\" class=\"data row1 col7\" >0.361111</td>\n    </tr>\n    <tr>\n      <th id=\"T_faaf4_level0_row2\" class=\"row_heading level0 row2\" >Alex</th>\n      <td id=\"T_faaf4_row2_col0\" class=\"data row2 col0\" >0.597222</td>\n      <td id=\"T_faaf4_row2_col1\" class=\"data row2 col1\" >0.444444</td>\n      <td id=\"T_faaf4_row2_col2\" class=\"data row2 col2\" >0.000000</td>\n      <td id=\"T_faaf4_row2_col3\" class=\"data row2 col3\" >0.472222</td>\n      <td id=\"T_faaf4_row2_col4\" class=\"data row2 col4\" >0.652778</td>\n      <td id=\"T_faaf4_row2_col5\" class=\"data row2 col5\" >0.638889</td>\n      <td id=\"T_faaf4_row2_col6\" class=\"data row2 col6\" >0.541667</td>\n      <td id=\"T_faaf4_row2_col7\" class=\"data row2 col7\" >0.250000</td>\n    </tr>\n    <tr>\n      <th id=\"T_faaf4_level0_row3\" class=\"row_heading level0 row3\" >Annie</th>\n      <td id=\"T_faaf4_row3_col0\" class=\"data row3 col0\" >0.236111</td>\n      <td id=\"T_faaf4_row3_col1\" class=\"data row3 col1\" >0.527778</td>\n      <td id=\"T_faaf4_row3_col2\" class=\"data row3 col2\" >0.472222</td>\n      <td id=\"T_faaf4_row3_col3\" class=\"data row3 col3\" >0.000000</td>\n      <td id=\"T_faaf4_row3_col4\" class=\"data row3 col4\" >0.347222</td>\n      <td id=\"T_faaf4_row3_col5\" class=\"data row3 col5\" >0.500000</td>\n      <td id=\"T_faaf4_row3_col6\" class=\"data row3 col6\" >0.402778</td>\n      <td id=\"T_faaf4_row3_col7\" class=\"data row3 col7\" >0.388889</td>\n    </tr>\n    <tr>\n      <th id=\"T_faaf4_level0_row4\" class=\"row_heading level0 row4\" >Emily</th>\n      <td id=\"T_faaf4_row4_col0\" class=\"data row4 col0\" >0.333333</td>\n      <td id=\"T_faaf4_row4_col1\" class=\"data row4 col1\" >0.625000</td>\n      <td id=\"T_faaf4_row4_col2\" class=\"data row4 col2\" >0.652778</td>\n      <td id=\"T_faaf4_row4_col3\" class=\"data row4 col3\" >0.347222</td>\n      <td id=\"T_faaf4_row4_col4\" class=\"data row4 col4\" >0.000000</td>\n      <td id=\"T_faaf4_row4_col5\" class=\"data row4 col5\" >0.319444</td>\n      <td id=\"T_faaf4_row4_col6\" class=\"data row4 col6\" >0.222222</td>\n      <td id=\"T_faaf4_row4_col7\" class=\"data row4 col7\" >0.736111</td>\n    </tr>\n    <tr>\n      <th id=\"T_faaf4_level0_row5\" class=\"row_heading level0 row5\" >Ali</th>\n      <td id=\"T_faaf4_row5_col0\" class=\"data row5 col0\" >0.486111</td>\n      <td id=\"T_faaf4_row5_col1\" class=\"data row5 col1\" >0.527778</td>\n      <td id=\"T_faaf4_row5_col2\" class=\"data row5 col2\" >0.638889</td>\n      <td id=\"T_faaf4_row5_col3\" class=\"data row5 col3\" >0.500000</td>\n      <td id=\"T_faaf4_row5_col4\" class=\"data row5 col4\" >0.319444</td>\n      <td id=\"T_faaf4_row5_col5\" class=\"data row5 col5\" >0.000000</td>\n      <td id=\"T_faaf4_row5_col6\" class=\"data row5 col6\" >0.152778</td>\n      <td id=\"T_faaf4_row5_col7\" class=\"data row5 col7\" >0.888889</td>\n    </tr>\n    <tr>\n      <th id=\"T_faaf4_level0_row6\" class=\"row_heading level0 row6\" >John</th>\n      <td id=\"T_faaf4_row6_col0\" class=\"data row6 col0\" >0.388889</td>\n      <td id=\"T_faaf4_row6_col1\" class=\"data row6 col1\" >0.680556</td>\n      <td id=\"T_faaf4_row6_col2\" class=\"data row6 col2\" >0.541667</td>\n      <td id=\"T_faaf4_row6_col3\" class=\"data row6 col3\" >0.402778</td>\n      <td id=\"T_faaf4_row6_col4\" class=\"data row6 col4\" >0.222222</td>\n      <td id=\"T_faaf4_row6_col5\" class=\"data row6 col5\" >0.152778</td>\n      <td id=\"T_faaf4_row6_col6\" class=\"data row6 col6\" >0.000000</td>\n      <td id=\"T_faaf4_row6_col7\" class=\"data row6 col7\" >0.791667</td>\n    </tr>\n    <tr>\n      <th id=\"T_faaf4_level0_row7\" class=\"row_heading level0 row7\" >Katie</th>\n      <td id=\"T_faaf4_row7_col0\" class=\"data row7 col0\" >0.402778</td>\n      <td id=\"T_faaf4_row7_col1\" class=\"data row7 col1\" >0.361111</td>\n      <td id=\"T_faaf4_row7_col2\" class=\"data row7 col2\" >0.250000</td>\n      <td id=\"T_faaf4_row7_col3\" class=\"data row7 col3\" >0.388889</td>\n      <td id=\"T_faaf4_row7_col4\" class=\"data row7 col4\" >0.736111</td>\n      <td id=\"T_faaf4_row7_col5\" class=\"data row7 col5\" >0.888889</td>\n      <td id=\"T_faaf4_row7_col6\" class=\"data row7 col6\" >0.791667</td>\n      <td id=\"T_faaf4_row7_col7\" class=\"data row7 col7\" >0.000000</td>\n    </tr>\n  </tbody>\n</table>\n"
     },
     "metadata": {},
     "output_type": "display_data"
    },
    {
     "data": {
      "text/plain": "<pandas.io.formats.style.Styler at 0x2a5c3cb3880>",
      "text/html": "<style type=\"text/css\">\n#T_5d631 th {\n  font-size: 14px;\n}\n#T_5d631_row0_col0, #T_5d631_row0_col1, #T_5d631_row0_col2, #T_5d631_row0_col3, #T_5d631_row0_col4, #T_5d631_row0_col5, #T_5d631_row0_col6, #T_5d631_row1_col0, #T_5d631_row1_col1, #T_5d631_row1_col2, #T_5d631_row1_col3, #T_5d631_row1_col4, #T_5d631_row1_col5, #T_5d631_row1_col6, #T_5d631_row2_col0, #T_5d631_row2_col1, #T_5d631_row2_col2, #T_5d631_row2_col3, #T_5d631_row2_col4, #T_5d631_row2_col5, #T_5d631_row2_col6, #T_5d631_row3_col0, #T_5d631_row3_col1, #T_5d631_row3_col2, #T_5d631_row3_col3, #T_5d631_row3_col4, #T_5d631_row3_col5, #T_5d631_row3_col6, #T_5d631_row4_col0, #T_5d631_row4_col1, #T_5d631_row4_col2, #T_5d631_row4_col3, #T_5d631_row4_col4, #T_5d631_row4_col5, #T_5d631_row4_col6, #T_5d631_row5_col0, #T_5d631_row5_col1, #T_5d631_row5_col2, #T_5d631_row5_col3, #T_5d631_row5_col4, #T_5d631_row5_col5, #T_5d631_row5_col6, #T_5d631_row6_col0, #T_5d631_row6_col1, #T_5d631_row6_col2, #T_5d631_row6_col3, #T_5d631_row6_col4, #T_5d631_row6_col5, #T_5d631_row6_col6 {\n  text-align: center;\n  font-size: 12px;\n}\n</style>\n<table id=\"T_5d631\" border=\"1\">\n  <caption>My Matrix</caption>\n  <thead>\n    <tr>\n      <th class=\"blank level0\" >&nbsp;</th>\n      <th id=\"T_5d631_level0_col0\" class=\"col_heading level0 col0\" >Sarah</th>\n      <th id=\"T_5d631_level0_col1\" class=\"col_heading level0 col1\" >Dana</th>\n      <th id=\"T_5d631_level0_col2\" class=\"col_heading level0 col2\" >Alex</th>\n      <th id=\"T_5d631_level0_col3\" class=\"col_heading level0 col3\" >Annie</th>\n      <th id=\"T_5d631_level0_col4\" class=\"col_heading level0 col4\" >Emily</th>\n      <th id=\"T_5d631_level0_col5\" class=\"col_heading level0 col5\" >Ali-John</th>\n      <th id=\"T_5d631_level0_col6\" class=\"col_heading level0 col6\" >Katie</th>\n    </tr>\n  </thead>\n  <tbody>\n    <tr>\n      <th id=\"T_5d631_level0_row0\" class=\"row_heading level0 row0\" >Sarah</th>\n      <td id=\"T_5d631_row0_col0\" class=\"data row0 col0\" >0.000000</td>\n      <td id=\"T_5d631_row0_col1\" class=\"data row0 col1\" >0.458333</td>\n      <td id=\"T_5d631_row0_col2\" class=\"data row0 col2\" >0.597222</td>\n      <td id=\"T_5d631_row0_col3\" class=\"data row0 col3\" >0.236111</td>\n      <td id=\"T_5d631_row0_col4\" class=\"data row0 col4\" >0.333333</td>\n      <td id=\"T_5d631_row0_col5\" class=\"data row0 col5\" >0.388889</td>\n      <td id=\"T_5d631_row0_col6\" class=\"data row0 col6\" >0.402778</td>\n    </tr>\n    <tr>\n      <th id=\"T_5d631_level0_row1\" class=\"row_heading level0 row1\" >Dana</th>\n      <td id=\"T_5d631_row1_col0\" class=\"data row1 col0\" >0.458333</td>\n      <td id=\"T_5d631_row1_col1\" class=\"data row1 col1\" >0.000000</td>\n      <td id=\"T_5d631_row1_col2\" class=\"data row1 col2\" >0.444444</td>\n      <td id=\"T_5d631_row1_col3\" class=\"data row1 col3\" >0.527778</td>\n      <td id=\"T_5d631_row1_col4\" class=\"data row1 col4\" >0.625000</td>\n      <td id=\"T_5d631_row1_col5\" class=\"data row1 col5\" >0.527778</td>\n      <td id=\"T_5d631_row1_col6\" class=\"data row1 col6\" >0.361111</td>\n    </tr>\n    <tr>\n      <th id=\"T_5d631_level0_row2\" class=\"row_heading level0 row2\" >Alex</th>\n      <td id=\"T_5d631_row2_col0\" class=\"data row2 col0\" >0.597222</td>\n      <td id=\"T_5d631_row2_col1\" class=\"data row2 col1\" >0.444444</td>\n      <td id=\"T_5d631_row2_col2\" class=\"data row2 col2\" >0.000000</td>\n      <td id=\"T_5d631_row2_col3\" class=\"data row2 col3\" >0.472222</td>\n      <td id=\"T_5d631_row2_col4\" class=\"data row2 col4\" >0.652778</td>\n      <td id=\"T_5d631_row2_col5\" class=\"data row2 col5\" >0.541667</td>\n      <td id=\"T_5d631_row2_col6\" class=\"data row2 col6\" >0.250000</td>\n    </tr>\n    <tr>\n      <th id=\"T_5d631_level0_row3\" class=\"row_heading level0 row3\" >Annie</th>\n      <td id=\"T_5d631_row3_col0\" class=\"data row3 col0\" >0.236111</td>\n      <td id=\"T_5d631_row3_col1\" class=\"data row3 col1\" >0.527778</td>\n      <td id=\"T_5d631_row3_col2\" class=\"data row3 col2\" >0.472222</td>\n      <td id=\"T_5d631_row3_col3\" class=\"data row3 col3\" >0.000000</td>\n      <td id=\"T_5d631_row3_col4\" class=\"data row3 col4\" >0.347222</td>\n      <td id=\"T_5d631_row3_col5\" class=\"data row3 col5\" >0.402778</td>\n      <td id=\"T_5d631_row3_col6\" class=\"data row3 col6\" >0.388889</td>\n    </tr>\n    <tr>\n      <th id=\"T_5d631_level0_row4\" class=\"row_heading level0 row4\" >Emily</th>\n      <td id=\"T_5d631_row4_col0\" class=\"data row4 col0\" >0.333333</td>\n      <td id=\"T_5d631_row4_col1\" class=\"data row4 col1\" >0.625000</td>\n      <td id=\"T_5d631_row4_col2\" class=\"data row4 col2\" >0.652778</td>\n      <td id=\"T_5d631_row4_col3\" class=\"data row4 col3\" >0.347222</td>\n      <td id=\"T_5d631_row4_col4\" class=\"data row4 col4\" >0.000000</td>\n      <td id=\"T_5d631_row4_col5\" class=\"data row4 col5\" >0.222222</td>\n      <td id=\"T_5d631_row4_col6\" class=\"data row4 col6\" >0.736111</td>\n    </tr>\n    <tr>\n      <th id=\"T_5d631_level0_row5\" class=\"row_heading level0 row5\" >Ali-John</th>\n      <td id=\"T_5d631_row5_col0\" class=\"data row5 col0\" >0.388889</td>\n      <td id=\"T_5d631_row5_col1\" class=\"data row5 col1\" >0.527778</td>\n      <td id=\"T_5d631_row5_col2\" class=\"data row5 col2\" >0.541667</td>\n      <td id=\"T_5d631_row5_col3\" class=\"data row5 col3\" >0.402778</td>\n      <td id=\"T_5d631_row5_col4\" class=\"data row5 col4\" >0.222222</td>\n      <td id=\"T_5d631_row5_col5\" class=\"data row5 col5\" >0.000000</td>\n      <td id=\"T_5d631_row5_col6\" class=\"data row5 col6\" >0.791667</td>\n    </tr>\n    <tr>\n      <th id=\"T_5d631_level0_row6\" class=\"row_heading level0 row6\" >Katie</th>\n      <td id=\"T_5d631_row6_col0\" class=\"data row6 col0\" >0.402778</td>\n      <td id=\"T_5d631_row6_col1\" class=\"data row6 col1\" >0.361111</td>\n      <td id=\"T_5d631_row6_col2\" class=\"data row6 col2\" >0.250000</td>\n      <td id=\"T_5d631_row6_col3\" class=\"data row6 col3\" >0.388889</td>\n      <td id=\"T_5d631_row6_col4\" class=\"data row6 col4\" >0.736111</td>\n      <td id=\"T_5d631_row6_col5\" class=\"data row6 col5\" >0.791667</td>\n      <td id=\"T_5d631_row6_col6\" class=\"data row6 col6\" >0.000000</td>\n    </tr>\n  </tbody>\n</table>\n"
     },
     "metadata": {},
     "output_type": "display_data"
    },
    {
     "data": {
      "text/plain": "<pandas.io.formats.style.Styler at 0x2a5c3cb05e0>",
      "text/html": "<style type=\"text/css\">\n#T_dc773 th {\n  font-size: 14px;\n}\n#T_dc773_row0_col0, #T_dc773_row0_col1, #T_dc773_row0_col2, #T_dc773_row0_col3, #T_dc773_row0_col4, #T_dc773_row0_col5, #T_dc773_row1_col0, #T_dc773_row1_col1, #T_dc773_row1_col2, #T_dc773_row1_col3, #T_dc773_row1_col4, #T_dc773_row1_col5, #T_dc773_row2_col0, #T_dc773_row2_col1, #T_dc773_row2_col2, #T_dc773_row2_col3, #T_dc773_row2_col4, #T_dc773_row2_col5, #T_dc773_row3_col0, #T_dc773_row3_col1, #T_dc773_row3_col2, #T_dc773_row3_col3, #T_dc773_row3_col4, #T_dc773_row3_col5, #T_dc773_row4_col0, #T_dc773_row4_col1, #T_dc773_row4_col2, #T_dc773_row4_col3, #T_dc773_row4_col4, #T_dc773_row4_col5, #T_dc773_row5_col0, #T_dc773_row5_col1, #T_dc773_row5_col2, #T_dc773_row5_col3, #T_dc773_row5_col4, #T_dc773_row5_col5 {\n  text-align: center;\n  font-size: 12px;\n}\n</style>\n<table id=\"T_dc773\" border=\"1\">\n  <caption>My Matrix</caption>\n  <thead>\n    <tr>\n      <th class=\"blank level0\" >&nbsp;</th>\n      <th id=\"T_dc773_level0_col0\" class=\"col_heading level0 col0\" >Sarah</th>\n      <th id=\"T_dc773_level0_col1\" class=\"col_heading level0 col1\" >Dana</th>\n      <th id=\"T_dc773_level0_col2\" class=\"col_heading level0 col2\" >Alex</th>\n      <th id=\"T_dc773_level0_col3\" class=\"col_heading level0 col3\" >Annie</th>\n      <th id=\"T_dc773_level0_col4\" class=\"col_heading level0 col4\" >Emily-Ali-John</th>\n      <th id=\"T_dc773_level0_col5\" class=\"col_heading level0 col5\" >Katie</th>\n    </tr>\n  </thead>\n  <tbody>\n    <tr>\n      <th id=\"T_dc773_level0_row0\" class=\"row_heading level0 row0\" >Sarah</th>\n      <td id=\"T_dc773_row0_col0\" class=\"data row0 col0\" >0.000000</td>\n      <td id=\"T_dc773_row0_col1\" class=\"data row0 col1\" >0.458333</td>\n      <td id=\"T_dc773_row0_col2\" class=\"data row0 col2\" >0.597222</td>\n      <td id=\"T_dc773_row0_col3\" class=\"data row0 col3\" >0.236111</td>\n      <td id=\"T_dc773_row0_col4\" class=\"data row0 col4\" >0.333333</td>\n      <td id=\"T_dc773_row0_col5\" class=\"data row0 col5\" >0.402778</td>\n    </tr>\n    <tr>\n      <th id=\"T_dc773_level0_row1\" class=\"row_heading level0 row1\" >Dana</th>\n      <td id=\"T_dc773_row1_col0\" class=\"data row1 col0\" >0.458333</td>\n      <td id=\"T_dc773_row1_col1\" class=\"data row1 col1\" >0.000000</td>\n      <td id=\"T_dc773_row1_col2\" class=\"data row1 col2\" >0.444444</td>\n      <td id=\"T_dc773_row1_col3\" class=\"data row1 col3\" >0.527778</td>\n      <td id=\"T_dc773_row1_col4\" class=\"data row1 col4\" >0.527778</td>\n      <td id=\"T_dc773_row1_col5\" class=\"data row1 col5\" >0.361111</td>\n    </tr>\n    <tr>\n      <th id=\"T_dc773_level0_row2\" class=\"row_heading level0 row2\" >Alex</th>\n      <td id=\"T_dc773_row2_col0\" class=\"data row2 col0\" >0.597222</td>\n      <td id=\"T_dc773_row2_col1\" class=\"data row2 col1\" >0.444444</td>\n      <td id=\"T_dc773_row2_col2\" class=\"data row2 col2\" >0.000000</td>\n      <td id=\"T_dc773_row2_col3\" class=\"data row2 col3\" >0.472222</td>\n      <td id=\"T_dc773_row2_col4\" class=\"data row2 col4\" >0.541667</td>\n      <td id=\"T_dc773_row2_col5\" class=\"data row2 col5\" >0.250000</td>\n    </tr>\n    <tr>\n      <th id=\"T_dc773_level0_row3\" class=\"row_heading level0 row3\" >Annie</th>\n      <td id=\"T_dc773_row3_col0\" class=\"data row3 col0\" >0.236111</td>\n      <td id=\"T_dc773_row3_col1\" class=\"data row3 col1\" >0.527778</td>\n      <td id=\"T_dc773_row3_col2\" class=\"data row3 col2\" >0.472222</td>\n      <td id=\"T_dc773_row3_col3\" class=\"data row3 col3\" >0.000000</td>\n      <td id=\"T_dc773_row3_col4\" class=\"data row3 col4\" >0.347222</td>\n      <td id=\"T_dc773_row3_col5\" class=\"data row3 col5\" >0.388889</td>\n    </tr>\n    <tr>\n      <th id=\"T_dc773_level0_row4\" class=\"row_heading level0 row4\" >Emily-Ali-John</th>\n      <td id=\"T_dc773_row4_col0\" class=\"data row4 col0\" >0.333333</td>\n      <td id=\"T_dc773_row4_col1\" class=\"data row4 col1\" >0.527778</td>\n      <td id=\"T_dc773_row4_col2\" class=\"data row4 col2\" >0.541667</td>\n      <td id=\"T_dc773_row4_col3\" class=\"data row4 col3\" >0.347222</td>\n      <td id=\"T_dc773_row4_col4\" class=\"data row4 col4\" >0.000000</td>\n      <td id=\"T_dc773_row4_col5\" class=\"data row4 col5\" >0.736111</td>\n    </tr>\n    <tr>\n      <th id=\"T_dc773_level0_row5\" class=\"row_heading level0 row5\" >Katie</th>\n      <td id=\"T_dc773_row5_col0\" class=\"data row5 col0\" >0.402778</td>\n      <td id=\"T_dc773_row5_col1\" class=\"data row5 col1\" >0.361111</td>\n      <td id=\"T_dc773_row5_col2\" class=\"data row5 col2\" >0.250000</td>\n      <td id=\"T_dc773_row5_col3\" class=\"data row5 col3\" >0.388889</td>\n      <td id=\"T_dc773_row5_col4\" class=\"data row5 col4\" >0.736111</td>\n      <td id=\"T_dc773_row5_col5\" class=\"data row5 col5\" >0.000000</td>\n    </tr>\n  </tbody>\n</table>\n"
     },
     "metadata": {},
     "output_type": "display_data"
    },
    {
     "data": {
      "text/plain": "<pandas.io.formats.style.Styler at 0x2a5c3cb05e0>",
      "text/html": "<style type=\"text/css\">\n#T_f7cb3 th {\n  font-size: 14px;\n}\n#T_f7cb3_row0_col0, #T_f7cb3_row0_col1, #T_f7cb3_row0_col2, #T_f7cb3_row0_col3, #T_f7cb3_row0_col4, #T_f7cb3_row1_col0, #T_f7cb3_row1_col1, #T_f7cb3_row1_col2, #T_f7cb3_row1_col3, #T_f7cb3_row1_col4, #T_f7cb3_row2_col0, #T_f7cb3_row2_col1, #T_f7cb3_row2_col2, #T_f7cb3_row2_col3, #T_f7cb3_row2_col4, #T_f7cb3_row3_col0, #T_f7cb3_row3_col1, #T_f7cb3_row3_col2, #T_f7cb3_row3_col3, #T_f7cb3_row3_col4, #T_f7cb3_row4_col0, #T_f7cb3_row4_col1, #T_f7cb3_row4_col2, #T_f7cb3_row4_col3, #T_f7cb3_row4_col4 {\n  text-align: center;\n  font-size: 12px;\n}\n</style>\n<table id=\"T_f7cb3\" border=\"1\">\n  <caption>My Matrix</caption>\n  <thead>\n    <tr>\n      <th class=\"blank level0\" >&nbsp;</th>\n      <th id=\"T_f7cb3_level0_col0\" class=\"col_heading level0 col0\" >Sarah-Annie</th>\n      <th id=\"T_f7cb3_level0_col1\" class=\"col_heading level0 col1\" >Dana</th>\n      <th id=\"T_f7cb3_level0_col2\" class=\"col_heading level0 col2\" >Alex</th>\n      <th id=\"T_f7cb3_level0_col3\" class=\"col_heading level0 col3\" >Emily-Ali-John</th>\n      <th id=\"T_f7cb3_level0_col4\" class=\"col_heading level0 col4\" >Katie</th>\n    </tr>\n  </thead>\n  <tbody>\n    <tr>\n      <th id=\"T_f7cb3_level0_row0\" class=\"row_heading level0 row0\" >Sarah-Annie</th>\n      <td id=\"T_f7cb3_row0_col0\" class=\"data row0 col0\" >0.000000</td>\n      <td id=\"T_f7cb3_row0_col1\" class=\"data row0 col1\" >0.458333</td>\n      <td id=\"T_f7cb3_row0_col2\" class=\"data row0 col2\" >0.472222</td>\n      <td id=\"T_f7cb3_row0_col3\" class=\"data row0 col3\" >0.333333</td>\n      <td id=\"T_f7cb3_row0_col4\" class=\"data row0 col4\" >0.388889</td>\n    </tr>\n    <tr>\n      <th id=\"T_f7cb3_level0_row1\" class=\"row_heading level0 row1\" >Dana</th>\n      <td id=\"T_f7cb3_row1_col0\" class=\"data row1 col0\" >0.458333</td>\n      <td id=\"T_f7cb3_row1_col1\" class=\"data row1 col1\" >0.000000</td>\n      <td id=\"T_f7cb3_row1_col2\" class=\"data row1 col2\" >0.444444</td>\n      <td id=\"T_f7cb3_row1_col3\" class=\"data row1 col3\" >0.527778</td>\n      <td id=\"T_f7cb3_row1_col4\" class=\"data row1 col4\" >0.361111</td>\n    </tr>\n    <tr>\n      <th id=\"T_f7cb3_level0_row2\" class=\"row_heading level0 row2\" >Alex</th>\n      <td id=\"T_f7cb3_row2_col0\" class=\"data row2 col0\" >0.472222</td>\n      <td id=\"T_f7cb3_row2_col1\" class=\"data row2 col1\" >0.444444</td>\n      <td id=\"T_f7cb3_row2_col2\" class=\"data row2 col2\" >0.000000</td>\n      <td id=\"T_f7cb3_row2_col3\" class=\"data row2 col3\" >0.541667</td>\n      <td id=\"T_f7cb3_row2_col4\" class=\"data row2 col4\" >0.250000</td>\n    </tr>\n    <tr>\n      <th id=\"T_f7cb3_level0_row3\" class=\"row_heading level0 row3\" >Emily-Ali-John</th>\n      <td id=\"T_f7cb3_row3_col0\" class=\"data row3 col0\" >0.333333</td>\n      <td id=\"T_f7cb3_row3_col1\" class=\"data row3 col1\" >0.527778</td>\n      <td id=\"T_f7cb3_row3_col2\" class=\"data row3 col2\" >0.541667</td>\n      <td id=\"T_f7cb3_row3_col3\" class=\"data row3 col3\" >0.000000</td>\n      <td id=\"T_f7cb3_row3_col4\" class=\"data row3 col4\" >0.736111</td>\n    </tr>\n    <tr>\n      <th id=\"T_f7cb3_level0_row4\" class=\"row_heading level0 row4\" >Katie</th>\n      <td id=\"T_f7cb3_row4_col0\" class=\"data row4 col0\" >0.388889</td>\n      <td id=\"T_f7cb3_row4_col1\" class=\"data row4 col1\" >0.361111</td>\n      <td id=\"T_f7cb3_row4_col2\" class=\"data row4 col2\" >0.250000</td>\n      <td id=\"T_f7cb3_row4_col3\" class=\"data row4 col3\" >0.736111</td>\n      <td id=\"T_f7cb3_row4_col4\" class=\"data row4 col4\" >0.000000</td>\n    </tr>\n  </tbody>\n</table>\n"
     },
     "metadata": {},
     "output_type": "display_data"
    },
    {
     "data": {
      "text/plain": "<pandas.io.formats.style.Styler at 0x2a5c3cb05e0>",
      "text/html": "<style type=\"text/css\">\n#T_64a64 th {\n  font-size: 14px;\n}\n#T_64a64_row0_col0, #T_64a64_row0_col1, #T_64a64_row0_col2, #T_64a64_row0_col3, #T_64a64_row1_col0, #T_64a64_row1_col1, #T_64a64_row1_col2, #T_64a64_row1_col3, #T_64a64_row2_col0, #T_64a64_row2_col1, #T_64a64_row2_col2, #T_64a64_row2_col3, #T_64a64_row3_col0, #T_64a64_row3_col1, #T_64a64_row3_col2, #T_64a64_row3_col3 {\n  text-align: center;\n  font-size: 12px;\n}\n</style>\n<table id=\"T_64a64\" border=\"1\">\n  <caption>My Matrix</caption>\n  <thead>\n    <tr>\n      <th class=\"blank level0\" >&nbsp;</th>\n      <th id=\"T_64a64_level0_col0\" class=\"col_heading level0 col0\" >Sarah-Annie</th>\n      <th id=\"T_64a64_level0_col1\" class=\"col_heading level0 col1\" >Dana</th>\n      <th id=\"T_64a64_level0_col2\" class=\"col_heading level0 col2\" >Alex-Katie</th>\n      <th id=\"T_64a64_level0_col3\" class=\"col_heading level0 col3\" >Emily-Ali-John</th>\n    </tr>\n  </thead>\n  <tbody>\n    <tr>\n      <th id=\"T_64a64_level0_row0\" class=\"row_heading level0 row0\" >Sarah-Annie</th>\n      <td id=\"T_64a64_row0_col0\" class=\"data row0 col0\" >0.000000</td>\n      <td id=\"T_64a64_row0_col1\" class=\"data row0 col1\" >0.458333</td>\n      <td id=\"T_64a64_row0_col2\" class=\"data row0 col2\" >0.388889</td>\n      <td id=\"T_64a64_row0_col3\" class=\"data row0 col3\" >0.333333</td>\n    </tr>\n    <tr>\n      <th id=\"T_64a64_level0_row1\" class=\"row_heading level0 row1\" >Dana</th>\n      <td id=\"T_64a64_row1_col0\" class=\"data row1 col0\" >0.458333</td>\n      <td id=\"T_64a64_row1_col1\" class=\"data row1 col1\" >0.000000</td>\n      <td id=\"T_64a64_row1_col2\" class=\"data row1 col2\" >0.361111</td>\n      <td id=\"T_64a64_row1_col3\" class=\"data row1 col3\" >0.527778</td>\n    </tr>\n    <tr>\n      <th id=\"T_64a64_level0_row2\" class=\"row_heading level0 row2\" >Alex-Katie</th>\n      <td id=\"T_64a64_row2_col0\" class=\"data row2 col0\" >0.388889</td>\n      <td id=\"T_64a64_row2_col1\" class=\"data row2 col1\" >0.361111</td>\n      <td id=\"T_64a64_row2_col2\" class=\"data row2 col2\" >0.000000</td>\n      <td id=\"T_64a64_row2_col3\" class=\"data row2 col3\" >0.541667</td>\n    </tr>\n    <tr>\n      <th id=\"T_64a64_level0_row3\" class=\"row_heading level0 row3\" >Emily-Ali-John</th>\n      <td id=\"T_64a64_row3_col0\" class=\"data row3 col0\" >0.333333</td>\n      <td id=\"T_64a64_row3_col1\" class=\"data row3 col1\" >0.527778</td>\n      <td id=\"T_64a64_row3_col2\" class=\"data row3 col2\" >0.541667</td>\n      <td id=\"T_64a64_row3_col3\" class=\"data row3 col3\" >0.000000</td>\n    </tr>\n  </tbody>\n</table>\n"
     },
     "metadata": {},
     "output_type": "display_data"
    },
    {
     "data": {
      "text/plain": "<pandas.io.formats.style.Styler at 0x2a5c3cb2410>",
      "text/html": "<style type=\"text/css\">\n#T_cfb80 th {\n  font-size: 14px;\n}\n#T_cfb80_row0_col0, #T_cfb80_row0_col1, #T_cfb80_row0_col2, #T_cfb80_row1_col0, #T_cfb80_row1_col1, #T_cfb80_row1_col2, #T_cfb80_row2_col0, #T_cfb80_row2_col1, #T_cfb80_row2_col2 {\n  text-align: center;\n  font-size: 12px;\n}\n</style>\n<table id=\"T_cfb80\" border=\"1\">\n  <caption>My Matrix</caption>\n  <thead>\n    <tr>\n      <th class=\"blank level0\" >&nbsp;</th>\n      <th id=\"T_cfb80_level0_col0\" class=\"col_heading level0 col0\" >Sarah-Annie-Emily-Ali-John</th>\n      <th id=\"T_cfb80_level0_col1\" class=\"col_heading level0 col1\" >Dana</th>\n      <th id=\"T_cfb80_level0_col2\" class=\"col_heading level0 col2\" >Alex-Katie</th>\n    </tr>\n  </thead>\n  <tbody>\n    <tr>\n      <th id=\"T_cfb80_level0_row0\" class=\"row_heading level0 row0\" >Sarah-Annie-Emily-Ali-John</th>\n      <td id=\"T_cfb80_row0_col0\" class=\"data row0 col0\" >0.000000</td>\n      <td id=\"T_cfb80_row0_col1\" class=\"data row0 col1\" >0.458333</td>\n      <td id=\"T_cfb80_row0_col2\" class=\"data row0 col2\" >0.388889</td>\n    </tr>\n    <tr>\n      <th id=\"T_cfb80_level0_row1\" class=\"row_heading level0 row1\" >Dana</th>\n      <td id=\"T_cfb80_row1_col0\" class=\"data row1 col0\" >0.458333</td>\n      <td id=\"T_cfb80_row1_col1\" class=\"data row1 col1\" >0.000000</td>\n      <td id=\"T_cfb80_row1_col2\" class=\"data row1 col2\" >0.361111</td>\n    </tr>\n    <tr>\n      <th id=\"T_cfb80_level0_row2\" class=\"row_heading level0 row2\" >Alex-Katie</th>\n      <td id=\"T_cfb80_row2_col0\" class=\"data row2 col0\" >0.388889</td>\n      <td id=\"T_cfb80_row2_col1\" class=\"data row2 col1\" >0.361111</td>\n      <td id=\"T_cfb80_row2_col2\" class=\"data row2 col2\" >0.000000</td>\n    </tr>\n  </tbody>\n</table>\n"
     },
     "metadata": {},
     "output_type": "display_data"
    },
    {
     "data": {
      "text/plain": "<pandas.io.formats.style.Styler at 0x2a5c3cb0c70>",
      "text/html": "<style type=\"text/css\">\n#T_50019 th {\n  font-size: 14px;\n}\n#T_50019_row0_col0, #T_50019_row0_col1, #T_50019_row1_col0, #T_50019_row1_col1 {\n  text-align: center;\n  font-size: 12px;\n}\n</style>\n<table id=\"T_50019\" border=\"1\">\n  <caption>My Matrix</caption>\n  <thead>\n    <tr>\n      <th class=\"blank level0\" >&nbsp;</th>\n      <th id=\"T_50019_level0_col0\" class=\"col_heading level0 col0\" >Sarah-Annie-Emily-Ali-John</th>\n      <th id=\"T_50019_level0_col1\" class=\"col_heading level0 col1\" >Dana-Alex-Katie</th>\n    </tr>\n  </thead>\n  <tbody>\n    <tr>\n      <th id=\"T_50019_level0_row0\" class=\"row_heading level0 row0\" >Sarah-Annie-Emily-Ali-John</th>\n      <td id=\"T_50019_row0_col0\" class=\"data row0 col0\" >0.000000</td>\n      <td id=\"T_50019_row0_col1\" class=\"data row0 col1\" >0.388889</td>\n    </tr>\n    <tr>\n      <th id=\"T_50019_level0_row1\" class=\"row_heading level0 row1\" >Dana-Alex-Katie</th>\n      <td id=\"T_50019_row1_col0\" class=\"data row1 col0\" >0.388889</td>\n      <td id=\"T_50019_row1_col1\" class=\"data row1 col1\" >0.000000</td>\n    </tr>\n  </tbody>\n</table>\n"
     },
     "metadata": {},
     "output_type": "display_data"
    },
    {
     "name": "stdout",
     "output_type": "stream",
     "text": [
      "      poids    cheveux  taile  vegetarien\n",
      "0  0.111111  [1, 0, 0]    0.5           0\n",
      "1  0.444444  [1, 0, 0]    1.0           1\n",
      "2  0.333333  [0, 1, 0]    0.0           1\n",
      "3  0.555556  [1, 0, 0]    0.0           0\n",
      "4  0.777778  [0, 0, 1]    0.5           0\n",
      "5  0.888889  [0, 1, 0]    1.0           0\n",
      "6  1.000000  [0, 1, 0]    0.5           0\n",
      "7  0.000000  [1, 0, 0]    0.0           1\n"
     ]
    }
   ],
   "source": [
    "data = pd.read_csv('data.csv')\n",
    "labels = data['id'].values\n",
    "\n",
    "hierarchical_clustering_algo_agnes(data)"
   ],
   "metadata": {
    "collapsed": false
   }
  },
  {
   "cell_type": "code",
   "execution_count": 70,
   "outputs": [],
   "source": [],
   "metadata": {
    "collapsed": false
   }
  }
 ],
 "metadata": {
  "kernelspec": {
   "display_name": "Python 3",
   "language": "python",
   "name": "python3"
  },
  "language_info": {
   "codemirror_mode": {
    "name": "ipython",
    "version": 2
   },
   "file_extension": ".py",
   "mimetype": "text/x-python",
   "name": "python",
   "nbconvert_exporter": "python",
   "pygments_lexer": "ipython2",
   "version": "2.7.6"
  }
 },
 "nbformat": 4,
 "nbformat_minor": 0
}
