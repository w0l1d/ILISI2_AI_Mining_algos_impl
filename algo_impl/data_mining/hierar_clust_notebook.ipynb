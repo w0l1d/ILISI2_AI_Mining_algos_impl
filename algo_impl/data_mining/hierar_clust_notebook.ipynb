{
 "cells": [
  {
   "cell_type": "markdown",
   "source": [
    "##### import libraries"
   ],
   "metadata": {
    "collapsed": false
   }
  },
  {
   "cell_type": "code",
   "execution_count": 2,
   "outputs": [],
   "source": [
    "import pandas as pd\n",
    "import numpy as np\n",
    "\n",
    "from my_library import normalize_data, calcul_distances, display_dist_matrix"
   ],
   "metadata": {
    "collapsed": false,
    "ExecuteTime": {
     "start_time": "2023-04-04T20:16:52.197942Z",
     "end_time": "2023-04-04T20:16:52.995751Z"
    }
   }
  },
  {
   "cell_type": "markdown",
   "source": [
    "# Hierarchical clustering algorithm implementation AGNES"
   ],
   "metadata": {
    "collapsed": false
   }
  },
  {
   "cell_type": "markdown",
   "source": [
    "##### Get the index of the minimum value of the matrix"
   ],
   "metadata": {
    "collapsed": false
   }
  },
  {
   "cell_type": "code",
   "execution_count": 3,
   "outputs": [],
   "source": [
    "def np_min_ign_diagonal(z: np.ndarray):\n",
    "    row_index , col_index = 0, 1\n",
    "    for i in range(len(z)):\n",
    "        for j in range(len(z)):\n",
    "            if i == j:\n",
    "                continue\n",
    "            if z[i, j] < z[row_index, col_index]:\n",
    "                row_index = i\n",
    "                col_index = j\n",
    "    return row_index, col_index"
   ],
   "metadata": {
    "collapsed": false,
    "ExecuteTime": {
     "start_time": "2023-04-04T20:16:52.999766Z",
     "end_time": "2023-04-04T20:16:53.000767Z"
    }
   }
  },
  {
   "cell_type": "markdown",
   "source": [
    "# AGNES algorithm"
   ],
   "metadata": {
    "collapsed": false
   }
  },
  {
   "cell_type": "code",
   "execution_count": 4,
   "metadata": {
    "collapsed": true,
    "ExecuteTime": {
     "start_time": "2023-04-04T20:16:53.000767Z",
     "end_time": "2023-04-04T20:16:53.001769Z"
    }
   },
   "outputs": [],
   "source": [
    "def hierarchical_clustering_algo_agnes(df: pd.DataFrame, options: dict={}):\n",
    "    # normalize data\n",
    "    normalize_data(df, None)\n",
    "\n",
    "    print(f'df :')\n",
    "    print(df, end='\\n\\n')\n",
    "    # l = dict['label']\n",
    "    labels = df['id'].values\n",
    "    df = df.drop(columns=['id', 'class'])\n",
    "    Z= calcul_distances(df, labels)\n",
    "\n",
    "    while len(Z) > 1:\n",
    "        display_dist_matrix(labels, Z)\n",
    "        # get the index of the minimum value of the matrix\n",
    "        row_index, col_index = np_min_ign_diagonal(Z)\n",
    "\n",
    "        # update the matrix\n",
    "        for j in range(len(Z)):\n",
    "            if j == col_index:\n",
    "                Z[row_index, j] = 0\n",
    "            elif j != row_index:\n",
    "                Z[row_index, j] = min(Z[row_index, j], Z[col_index, j])\n",
    "                Z[j, row_index] = Z[row_index, j]\n",
    "        Z = np.delete(Z, col_index, 0)\n",
    "        Z = np.delete(Z, col_index, 1)\n",
    "\n",
    "        labels[row_index] = f'{labels[row_index]}-{labels[col_index]}'\n",
    "        labels = np.delete(labels, col_index, 0)\n",
    "\n",
    "    print(df)\n"
   ]
  },
  {
   "cell_type": "markdown",
   "source": [
    "# Test"
   ],
   "metadata": {
    "collapsed": false
   }
  },
  {
   "cell_type": "code",
   "execution_count": 5,
   "outputs": [
    {
     "name": "stdout",
     "output_type": "stream",
     "text": [
      "normilize order of \"cheveux\" :: ['blond' 'brun' 'rousse']\n",
      "df :\n",
      "      id     poids    cheveux  taile  vegetarien  class\n",
      "0  Salim  0.111111  [1, 0, 0]    0.5           0      1\n",
      "1  Ahmed  0.444444  [1, 0, 0]    1.0           1      0\n",
      "2   Alex  0.333333  [0, 1, 0]    0.0           1      0\n",
      "3  Annie  0.555556  [1, 0, 0]    0.0           0      1\n",
      "4  Emily  0.777778  [0, 0, 1]    0.5           0      1\n",
      "5    Ali  0.888889  [0, 1, 0]    1.0           0      0\n",
      "6   John  1.000000  [0, 1, 0]    0.5           0      0\n",
      "7  Katie  0.000000  [1, 0, 0]    0.0           1      0\n",
      "\n",
      "distance of each column ::  {'poids': 0.3333333333333333, 'cheveux': 0.0, 'taile': 0.5, 'vegetarien': 1} / 4 -- result = 0.4583333333333333\n",
      "distance of each column ::  {'poids': 0.2222222222222222, 'cheveux': 0.6666666666666666, 'taile': 0.5, 'vegetarien': 1} / 4 -- result = 0.5972222222222222\n",
      "distance of each column ::  {'poids': 0.4444444444444445, 'cheveux': 0.0, 'taile': 0.5, 'vegetarien': 0} / 4 -- result = 0.2361111111111111\n",
      "distance of each column ::  {'poids': 0.6666666666666667, 'cheveux': 0.6666666666666666, 'taile': 0.0, 'vegetarien': 0} / 4 -- result = 0.33333333333333337\n",
      "distance of each column ::  {'poids': 0.7777777777777777, 'cheveux': 0.6666666666666666, 'taile': 0.5, 'vegetarien': 0} / 4 -- result = 0.48611111111111105\n",
      "distance of each column ::  {'poids': 0.8888888888888888, 'cheveux': 0.6666666666666666, 'taile': 0.0, 'vegetarien': 0} / 4 -- result = 0.38888888888888884\n",
      "distance of each column ::  {'poids': 0.1111111111111111, 'cheveux': 0.0, 'taile': 0.5, 'vegetarien': 1} / 4 -- result = 0.4027777777777778\n",
      "distance of each column ::  {'poids': 0.1111111111111111, 'cheveux': 0.6666666666666666, 'taile': 1.0, 'vegetarien': 0} / 4 -- result = 0.4444444444444444\n",
      "distance of each column ::  {'poids': 0.11111111111111116, 'cheveux': 0.0, 'taile': 1.0, 'vegetarien': 1} / 4 -- result = 0.5277777777777778\n",
      "distance of each column ::  {'poids': 0.33333333333333337, 'cheveux': 0.6666666666666666, 'taile': 0.5, 'vegetarien': 1} / 4 -- result = 0.625\n",
      "distance of each column ::  {'poids': 0.4444444444444444, 'cheveux': 0.6666666666666666, 'taile': 0.0, 'vegetarien': 1} / 4 -- result = 0.5277777777777778\n",
      "distance of each column ::  {'poids': 0.5555555555555556, 'cheveux': 0.6666666666666666, 'taile': 0.5, 'vegetarien': 1} / 4 -- result = 0.6805555555555556\n",
      "distance of each column ::  {'poids': 0.4444444444444444, 'cheveux': 0.0, 'taile': 1.0, 'vegetarien': 0} / 4 -- result = 0.3611111111111111\n",
      "distance of each column ::  {'poids': 0.22222222222222227, 'cheveux': 0.6666666666666666, 'taile': 0.0, 'vegetarien': 1} / 4 -- result = 0.4722222222222222\n",
      "distance of each column ::  {'poids': 0.4444444444444445, 'cheveux': 0.6666666666666666, 'taile': 0.5, 'vegetarien': 1} / 4 -- result = 0.6527777777777778\n",
      "distance of each column ::  {'poids': 0.5555555555555556, 'cheveux': 0.0, 'taile': 1.0, 'vegetarien': 1} / 4 -- result = 0.6388888888888888\n",
      "distance of each column ::  {'poids': 0.6666666666666667, 'cheveux': 0.0, 'taile': 0.5, 'vegetarien': 1} / 4 -- result = 0.5416666666666667\n",
      "distance of each column ::  {'poids': 0.3333333333333333, 'cheveux': 0.6666666666666666, 'taile': 0.0, 'vegetarien': 0} / 4 -- result = 0.25\n",
      "distance of each column ::  {'poids': 0.2222222222222222, 'cheveux': 0.6666666666666666, 'taile': 0.5, 'vegetarien': 0} / 4 -- result = 0.3472222222222222\n",
      "distance of each column ::  {'poids': 0.33333333333333326, 'cheveux': 0.6666666666666666, 'taile': 1.0, 'vegetarien': 0} / 4 -- result = 0.5\n",
      "distance of each column ::  {'poids': 0.4444444444444444, 'cheveux': 0.6666666666666666, 'taile': 0.5, 'vegetarien': 0} / 4 -- result = 0.4027777777777778\n",
      "distance of each column ::  {'poids': 0.5555555555555556, 'cheveux': 0.0, 'taile': 0.0, 'vegetarien': 1} / 4 -- result = 0.3888888888888889\n",
      "distance of each column ::  {'poids': 0.11111111111111105, 'cheveux': 0.6666666666666666, 'taile': 0.5, 'vegetarien': 0} / 4 -- result = 0.3194444444444444\n",
      "distance of each column ::  {'poids': 0.2222222222222222, 'cheveux': 0.6666666666666666, 'taile': 0.0, 'vegetarien': 0} / 4 -- result = 0.2222222222222222\n",
      "distance of each column ::  {'poids': 0.7777777777777778, 'cheveux': 0.6666666666666666, 'taile': 0.5, 'vegetarien': 1} / 4 -- result = 0.7361111111111112\n",
      "distance of each column ::  {'poids': 0.11111111111111116, 'cheveux': 0.0, 'taile': 0.5, 'vegetarien': 0} / 4 -- result = 0.1527777777777778\n",
      "distance of each column ::  {'poids': 0.8888888888888888, 'cheveux': 0.6666666666666666, 'taile': 1.0, 'vegetarien': 1} / 4 -- result = 0.8888888888888888\n",
      "distance of each column ::  {'poids': 1.0, 'cheveux': 0.6666666666666666, 'taile': 0.5, 'vegetarien': 1} / 4 -- result = 0.7916666666666666\n"
     ]
    },
    {
     "data": {
      "text/plain": "<pandas.io.formats.style.Styler at 0x1f9ff415c50>",
      "text/html": "<style type=\"text/css\">\n#T_b8c8e th {\n  font-size: 14px;\n}\n#T_b8c8e_row0_col0, #T_b8c8e_row0_col1, #T_b8c8e_row0_col2, #T_b8c8e_row0_col3, #T_b8c8e_row0_col4, #T_b8c8e_row0_col5, #T_b8c8e_row0_col6, #T_b8c8e_row0_col7, #T_b8c8e_row1_col0, #T_b8c8e_row1_col1, #T_b8c8e_row1_col2, #T_b8c8e_row1_col3, #T_b8c8e_row1_col4, #T_b8c8e_row1_col5, #T_b8c8e_row1_col6, #T_b8c8e_row1_col7, #T_b8c8e_row2_col0, #T_b8c8e_row2_col1, #T_b8c8e_row2_col2, #T_b8c8e_row2_col3, #T_b8c8e_row2_col4, #T_b8c8e_row2_col5, #T_b8c8e_row2_col6, #T_b8c8e_row2_col7, #T_b8c8e_row3_col0, #T_b8c8e_row3_col1, #T_b8c8e_row3_col2, #T_b8c8e_row3_col3, #T_b8c8e_row3_col4, #T_b8c8e_row3_col5, #T_b8c8e_row3_col6, #T_b8c8e_row3_col7, #T_b8c8e_row4_col0, #T_b8c8e_row4_col1, #T_b8c8e_row4_col2, #T_b8c8e_row4_col3, #T_b8c8e_row4_col4, #T_b8c8e_row4_col5, #T_b8c8e_row4_col6, #T_b8c8e_row4_col7, #T_b8c8e_row5_col0, #T_b8c8e_row5_col1, #T_b8c8e_row5_col2, #T_b8c8e_row5_col3, #T_b8c8e_row5_col4, #T_b8c8e_row5_col5, #T_b8c8e_row5_col6, #T_b8c8e_row5_col7, #T_b8c8e_row6_col0, #T_b8c8e_row6_col1, #T_b8c8e_row6_col2, #T_b8c8e_row6_col3, #T_b8c8e_row6_col4, #T_b8c8e_row6_col5, #T_b8c8e_row6_col6, #T_b8c8e_row6_col7, #T_b8c8e_row7_col0, #T_b8c8e_row7_col1, #T_b8c8e_row7_col2, #T_b8c8e_row7_col3, #T_b8c8e_row7_col4, #T_b8c8e_row7_col5, #T_b8c8e_row7_col6, #T_b8c8e_row7_col7 {\n  text-align: center;\n  font-size: 12px;\n}\n</style>\n<table id=\"T_b8c8e\" border=\"1\">\n  <caption>My Matrix</caption>\n  <thead>\n    <tr>\n      <th class=\"blank level0\" >&nbsp;</th>\n      <th id=\"T_b8c8e_level0_col0\" class=\"col_heading level0 col0\" >Salim</th>\n      <th id=\"T_b8c8e_level0_col1\" class=\"col_heading level0 col1\" >Ahmed</th>\n      <th id=\"T_b8c8e_level0_col2\" class=\"col_heading level0 col2\" >Alex</th>\n      <th id=\"T_b8c8e_level0_col3\" class=\"col_heading level0 col3\" >Annie</th>\n      <th id=\"T_b8c8e_level0_col4\" class=\"col_heading level0 col4\" >Emily</th>\n      <th id=\"T_b8c8e_level0_col5\" class=\"col_heading level0 col5\" >Ali</th>\n      <th id=\"T_b8c8e_level0_col6\" class=\"col_heading level0 col6\" >John</th>\n      <th id=\"T_b8c8e_level0_col7\" class=\"col_heading level0 col7\" >Katie</th>\n    </tr>\n  </thead>\n  <tbody>\n    <tr>\n      <th id=\"T_b8c8e_level0_row0\" class=\"row_heading level0 row0\" >Salim</th>\n      <td id=\"T_b8c8e_row0_col0\" class=\"data row0 col0\" >0.000000</td>\n      <td id=\"T_b8c8e_row0_col1\" class=\"data row0 col1\" >0.458333</td>\n      <td id=\"T_b8c8e_row0_col2\" class=\"data row0 col2\" >0.597222</td>\n      <td id=\"T_b8c8e_row0_col3\" class=\"data row0 col3\" >0.236111</td>\n      <td id=\"T_b8c8e_row0_col4\" class=\"data row0 col4\" >0.333333</td>\n      <td id=\"T_b8c8e_row0_col5\" class=\"data row0 col5\" >0.486111</td>\n      <td id=\"T_b8c8e_row0_col6\" class=\"data row0 col6\" >0.388889</td>\n      <td id=\"T_b8c8e_row0_col7\" class=\"data row0 col7\" >0.402778</td>\n    </tr>\n    <tr>\n      <th id=\"T_b8c8e_level0_row1\" class=\"row_heading level0 row1\" >Ahmed</th>\n      <td id=\"T_b8c8e_row1_col0\" class=\"data row1 col0\" >0.458333</td>\n      <td id=\"T_b8c8e_row1_col1\" class=\"data row1 col1\" >0.000000</td>\n      <td id=\"T_b8c8e_row1_col2\" class=\"data row1 col2\" >0.444444</td>\n      <td id=\"T_b8c8e_row1_col3\" class=\"data row1 col3\" >0.527778</td>\n      <td id=\"T_b8c8e_row1_col4\" class=\"data row1 col4\" >0.625000</td>\n      <td id=\"T_b8c8e_row1_col5\" class=\"data row1 col5\" >0.527778</td>\n      <td id=\"T_b8c8e_row1_col6\" class=\"data row1 col6\" >0.680556</td>\n      <td id=\"T_b8c8e_row1_col7\" class=\"data row1 col7\" >0.361111</td>\n    </tr>\n    <tr>\n      <th id=\"T_b8c8e_level0_row2\" class=\"row_heading level0 row2\" >Alex</th>\n      <td id=\"T_b8c8e_row2_col0\" class=\"data row2 col0\" >0.597222</td>\n      <td id=\"T_b8c8e_row2_col1\" class=\"data row2 col1\" >0.444444</td>\n      <td id=\"T_b8c8e_row2_col2\" class=\"data row2 col2\" >0.000000</td>\n      <td id=\"T_b8c8e_row2_col3\" class=\"data row2 col3\" >0.472222</td>\n      <td id=\"T_b8c8e_row2_col4\" class=\"data row2 col4\" >0.652778</td>\n      <td id=\"T_b8c8e_row2_col5\" class=\"data row2 col5\" >0.638889</td>\n      <td id=\"T_b8c8e_row2_col6\" class=\"data row2 col6\" >0.541667</td>\n      <td id=\"T_b8c8e_row2_col7\" class=\"data row2 col7\" >0.250000</td>\n    </tr>\n    <tr>\n      <th id=\"T_b8c8e_level0_row3\" class=\"row_heading level0 row3\" >Annie</th>\n      <td id=\"T_b8c8e_row3_col0\" class=\"data row3 col0\" >0.236111</td>\n      <td id=\"T_b8c8e_row3_col1\" class=\"data row3 col1\" >0.527778</td>\n      <td id=\"T_b8c8e_row3_col2\" class=\"data row3 col2\" >0.472222</td>\n      <td id=\"T_b8c8e_row3_col3\" class=\"data row3 col3\" >0.000000</td>\n      <td id=\"T_b8c8e_row3_col4\" class=\"data row3 col4\" >0.347222</td>\n      <td id=\"T_b8c8e_row3_col5\" class=\"data row3 col5\" >0.500000</td>\n      <td id=\"T_b8c8e_row3_col6\" class=\"data row3 col6\" >0.402778</td>\n      <td id=\"T_b8c8e_row3_col7\" class=\"data row3 col7\" >0.388889</td>\n    </tr>\n    <tr>\n      <th id=\"T_b8c8e_level0_row4\" class=\"row_heading level0 row4\" >Emily</th>\n      <td id=\"T_b8c8e_row4_col0\" class=\"data row4 col0\" >0.333333</td>\n      <td id=\"T_b8c8e_row4_col1\" class=\"data row4 col1\" >0.625000</td>\n      <td id=\"T_b8c8e_row4_col2\" class=\"data row4 col2\" >0.652778</td>\n      <td id=\"T_b8c8e_row4_col3\" class=\"data row4 col3\" >0.347222</td>\n      <td id=\"T_b8c8e_row4_col4\" class=\"data row4 col4\" >0.000000</td>\n      <td id=\"T_b8c8e_row4_col5\" class=\"data row4 col5\" >0.319444</td>\n      <td id=\"T_b8c8e_row4_col6\" class=\"data row4 col6\" >0.222222</td>\n      <td id=\"T_b8c8e_row4_col7\" class=\"data row4 col7\" >0.736111</td>\n    </tr>\n    <tr>\n      <th id=\"T_b8c8e_level0_row5\" class=\"row_heading level0 row5\" >Ali</th>\n      <td id=\"T_b8c8e_row5_col0\" class=\"data row5 col0\" >0.486111</td>\n      <td id=\"T_b8c8e_row5_col1\" class=\"data row5 col1\" >0.527778</td>\n      <td id=\"T_b8c8e_row5_col2\" class=\"data row5 col2\" >0.638889</td>\n      <td id=\"T_b8c8e_row5_col3\" class=\"data row5 col3\" >0.500000</td>\n      <td id=\"T_b8c8e_row5_col4\" class=\"data row5 col4\" >0.319444</td>\n      <td id=\"T_b8c8e_row5_col5\" class=\"data row5 col5\" >0.000000</td>\n      <td id=\"T_b8c8e_row5_col6\" class=\"data row5 col6\" >0.152778</td>\n      <td id=\"T_b8c8e_row5_col7\" class=\"data row5 col7\" >0.888889</td>\n    </tr>\n    <tr>\n      <th id=\"T_b8c8e_level0_row6\" class=\"row_heading level0 row6\" >John</th>\n      <td id=\"T_b8c8e_row6_col0\" class=\"data row6 col0\" >0.388889</td>\n      <td id=\"T_b8c8e_row6_col1\" class=\"data row6 col1\" >0.680556</td>\n      <td id=\"T_b8c8e_row6_col2\" class=\"data row6 col2\" >0.541667</td>\n      <td id=\"T_b8c8e_row6_col3\" class=\"data row6 col3\" >0.402778</td>\n      <td id=\"T_b8c8e_row6_col4\" class=\"data row6 col4\" >0.222222</td>\n      <td id=\"T_b8c8e_row6_col5\" class=\"data row6 col5\" >0.152778</td>\n      <td id=\"T_b8c8e_row6_col6\" class=\"data row6 col6\" >0.000000</td>\n      <td id=\"T_b8c8e_row6_col7\" class=\"data row6 col7\" >0.791667</td>\n    </tr>\n    <tr>\n      <th id=\"T_b8c8e_level0_row7\" class=\"row_heading level0 row7\" >Katie</th>\n      <td id=\"T_b8c8e_row7_col0\" class=\"data row7 col0\" >0.402778</td>\n      <td id=\"T_b8c8e_row7_col1\" class=\"data row7 col1\" >0.361111</td>\n      <td id=\"T_b8c8e_row7_col2\" class=\"data row7 col2\" >0.250000</td>\n      <td id=\"T_b8c8e_row7_col3\" class=\"data row7 col3\" >0.388889</td>\n      <td id=\"T_b8c8e_row7_col4\" class=\"data row7 col4\" >0.736111</td>\n      <td id=\"T_b8c8e_row7_col5\" class=\"data row7 col5\" >0.888889</td>\n      <td id=\"T_b8c8e_row7_col6\" class=\"data row7 col6\" >0.791667</td>\n      <td id=\"T_b8c8e_row7_col7\" class=\"data row7 col7\" >0.000000</td>\n    </tr>\n  </tbody>\n</table>\n"
     },
     "metadata": {},
     "output_type": "display_data"
    },
    {
     "data": {
      "text/plain": "<pandas.io.formats.style.Styler at 0x1f988289cd0>",
      "text/html": "<style type=\"text/css\">\n#T_57cfe th {\n  font-size: 14px;\n}\n#T_57cfe_row0_col0, #T_57cfe_row0_col1, #T_57cfe_row0_col2, #T_57cfe_row0_col3, #T_57cfe_row0_col4, #T_57cfe_row0_col5, #T_57cfe_row0_col6, #T_57cfe_row1_col0, #T_57cfe_row1_col1, #T_57cfe_row1_col2, #T_57cfe_row1_col3, #T_57cfe_row1_col4, #T_57cfe_row1_col5, #T_57cfe_row1_col6, #T_57cfe_row2_col0, #T_57cfe_row2_col1, #T_57cfe_row2_col2, #T_57cfe_row2_col3, #T_57cfe_row2_col4, #T_57cfe_row2_col5, #T_57cfe_row2_col6, #T_57cfe_row3_col0, #T_57cfe_row3_col1, #T_57cfe_row3_col2, #T_57cfe_row3_col3, #T_57cfe_row3_col4, #T_57cfe_row3_col5, #T_57cfe_row3_col6, #T_57cfe_row4_col0, #T_57cfe_row4_col1, #T_57cfe_row4_col2, #T_57cfe_row4_col3, #T_57cfe_row4_col4, #T_57cfe_row4_col5, #T_57cfe_row4_col6, #T_57cfe_row5_col0, #T_57cfe_row5_col1, #T_57cfe_row5_col2, #T_57cfe_row5_col3, #T_57cfe_row5_col4, #T_57cfe_row5_col5, #T_57cfe_row5_col6, #T_57cfe_row6_col0, #T_57cfe_row6_col1, #T_57cfe_row6_col2, #T_57cfe_row6_col3, #T_57cfe_row6_col4, #T_57cfe_row6_col5, #T_57cfe_row6_col6 {\n  text-align: center;\n  font-size: 12px;\n}\n</style>\n<table id=\"T_57cfe\" border=\"1\">\n  <caption>My Matrix</caption>\n  <thead>\n    <tr>\n      <th class=\"blank level0\" >&nbsp;</th>\n      <th id=\"T_57cfe_level0_col0\" class=\"col_heading level0 col0\" >Salim</th>\n      <th id=\"T_57cfe_level0_col1\" class=\"col_heading level0 col1\" >Ahmed</th>\n      <th id=\"T_57cfe_level0_col2\" class=\"col_heading level0 col2\" >Alex</th>\n      <th id=\"T_57cfe_level0_col3\" class=\"col_heading level0 col3\" >Annie</th>\n      <th id=\"T_57cfe_level0_col4\" class=\"col_heading level0 col4\" >Emily</th>\n      <th id=\"T_57cfe_level0_col5\" class=\"col_heading level0 col5\" >Ali-John</th>\n      <th id=\"T_57cfe_level0_col6\" class=\"col_heading level0 col6\" >Katie</th>\n    </tr>\n  </thead>\n  <tbody>\n    <tr>\n      <th id=\"T_57cfe_level0_row0\" class=\"row_heading level0 row0\" >Salim</th>\n      <td id=\"T_57cfe_row0_col0\" class=\"data row0 col0\" >0.000000</td>\n      <td id=\"T_57cfe_row0_col1\" class=\"data row0 col1\" >0.458333</td>\n      <td id=\"T_57cfe_row0_col2\" class=\"data row0 col2\" >0.597222</td>\n      <td id=\"T_57cfe_row0_col3\" class=\"data row0 col3\" >0.236111</td>\n      <td id=\"T_57cfe_row0_col4\" class=\"data row0 col4\" >0.333333</td>\n      <td id=\"T_57cfe_row0_col5\" class=\"data row0 col5\" >0.388889</td>\n      <td id=\"T_57cfe_row0_col6\" class=\"data row0 col6\" >0.402778</td>\n    </tr>\n    <tr>\n      <th id=\"T_57cfe_level0_row1\" class=\"row_heading level0 row1\" >Ahmed</th>\n      <td id=\"T_57cfe_row1_col0\" class=\"data row1 col0\" >0.458333</td>\n      <td id=\"T_57cfe_row1_col1\" class=\"data row1 col1\" >0.000000</td>\n      <td id=\"T_57cfe_row1_col2\" class=\"data row1 col2\" >0.444444</td>\n      <td id=\"T_57cfe_row1_col3\" class=\"data row1 col3\" >0.527778</td>\n      <td id=\"T_57cfe_row1_col4\" class=\"data row1 col4\" >0.625000</td>\n      <td id=\"T_57cfe_row1_col5\" class=\"data row1 col5\" >0.527778</td>\n      <td id=\"T_57cfe_row1_col6\" class=\"data row1 col6\" >0.361111</td>\n    </tr>\n    <tr>\n      <th id=\"T_57cfe_level0_row2\" class=\"row_heading level0 row2\" >Alex</th>\n      <td id=\"T_57cfe_row2_col0\" class=\"data row2 col0\" >0.597222</td>\n      <td id=\"T_57cfe_row2_col1\" class=\"data row2 col1\" >0.444444</td>\n      <td id=\"T_57cfe_row2_col2\" class=\"data row2 col2\" >0.000000</td>\n      <td id=\"T_57cfe_row2_col3\" class=\"data row2 col3\" >0.472222</td>\n      <td id=\"T_57cfe_row2_col4\" class=\"data row2 col4\" >0.652778</td>\n      <td id=\"T_57cfe_row2_col5\" class=\"data row2 col5\" >0.541667</td>\n      <td id=\"T_57cfe_row2_col6\" class=\"data row2 col6\" >0.250000</td>\n    </tr>\n    <tr>\n      <th id=\"T_57cfe_level0_row3\" class=\"row_heading level0 row3\" >Annie</th>\n      <td id=\"T_57cfe_row3_col0\" class=\"data row3 col0\" >0.236111</td>\n      <td id=\"T_57cfe_row3_col1\" class=\"data row3 col1\" >0.527778</td>\n      <td id=\"T_57cfe_row3_col2\" class=\"data row3 col2\" >0.472222</td>\n      <td id=\"T_57cfe_row3_col3\" class=\"data row3 col3\" >0.000000</td>\n      <td id=\"T_57cfe_row3_col4\" class=\"data row3 col4\" >0.347222</td>\n      <td id=\"T_57cfe_row3_col5\" class=\"data row3 col5\" >0.402778</td>\n      <td id=\"T_57cfe_row3_col6\" class=\"data row3 col6\" >0.388889</td>\n    </tr>\n    <tr>\n      <th id=\"T_57cfe_level0_row4\" class=\"row_heading level0 row4\" >Emily</th>\n      <td id=\"T_57cfe_row4_col0\" class=\"data row4 col0\" >0.333333</td>\n      <td id=\"T_57cfe_row4_col1\" class=\"data row4 col1\" >0.625000</td>\n      <td id=\"T_57cfe_row4_col2\" class=\"data row4 col2\" >0.652778</td>\n      <td id=\"T_57cfe_row4_col3\" class=\"data row4 col3\" >0.347222</td>\n      <td id=\"T_57cfe_row4_col4\" class=\"data row4 col4\" >0.000000</td>\n      <td id=\"T_57cfe_row4_col5\" class=\"data row4 col5\" >0.222222</td>\n      <td id=\"T_57cfe_row4_col6\" class=\"data row4 col6\" >0.736111</td>\n    </tr>\n    <tr>\n      <th id=\"T_57cfe_level0_row5\" class=\"row_heading level0 row5\" >Ali-John</th>\n      <td id=\"T_57cfe_row5_col0\" class=\"data row5 col0\" >0.388889</td>\n      <td id=\"T_57cfe_row5_col1\" class=\"data row5 col1\" >0.527778</td>\n      <td id=\"T_57cfe_row5_col2\" class=\"data row5 col2\" >0.541667</td>\n      <td id=\"T_57cfe_row5_col3\" class=\"data row5 col3\" >0.402778</td>\n      <td id=\"T_57cfe_row5_col4\" class=\"data row5 col4\" >0.222222</td>\n      <td id=\"T_57cfe_row5_col5\" class=\"data row5 col5\" >0.000000</td>\n      <td id=\"T_57cfe_row5_col6\" class=\"data row5 col6\" >0.791667</td>\n    </tr>\n    <tr>\n      <th id=\"T_57cfe_level0_row6\" class=\"row_heading level0 row6\" >Katie</th>\n      <td id=\"T_57cfe_row6_col0\" class=\"data row6 col0\" >0.402778</td>\n      <td id=\"T_57cfe_row6_col1\" class=\"data row6 col1\" >0.361111</td>\n      <td id=\"T_57cfe_row6_col2\" class=\"data row6 col2\" >0.250000</td>\n      <td id=\"T_57cfe_row6_col3\" class=\"data row6 col3\" >0.388889</td>\n      <td id=\"T_57cfe_row6_col4\" class=\"data row6 col4\" >0.736111</td>\n      <td id=\"T_57cfe_row6_col5\" class=\"data row6 col5\" >0.791667</td>\n      <td id=\"T_57cfe_row6_col6\" class=\"data row6 col6\" >0.000000</td>\n    </tr>\n  </tbody>\n</table>\n"
     },
     "metadata": {},
     "output_type": "display_data"
    },
    {
     "data": {
      "text/plain": "<pandas.io.formats.style.Styler at 0x1f988289050>",
      "text/html": "<style type=\"text/css\">\n#T_b63c5 th {\n  font-size: 14px;\n}\n#T_b63c5_row0_col0, #T_b63c5_row0_col1, #T_b63c5_row0_col2, #T_b63c5_row0_col3, #T_b63c5_row0_col4, #T_b63c5_row0_col5, #T_b63c5_row1_col0, #T_b63c5_row1_col1, #T_b63c5_row1_col2, #T_b63c5_row1_col3, #T_b63c5_row1_col4, #T_b63c5_row1_col5, #T_b63c5_row2_col0, #T_b63c5_row2_col1, #T_b63c5_row2_col2, #T_b63c5_row2_col3, #T_b63c5_row2_col4, #T_b63c5_row2_col5, #T_b63c5_row3_col0, #T_b63c5_row3_col1, #T_b63c5_row3_col2, #T_b63c5_row3_col3, #T_b63c5_row3_col4, #T_b63c5_row3_col5, #T_b63c5_row4_col0, #T_b63c5_row4_col1, #T_b63c5_row4_col2, #T_b63c5_row4_col3, #T_b63c5_row4_col4, #T_b63c5_row4_col5, #T_b63c5_row5_col0, #T_b63c5_row5_col1, #T_b63c5_row5_col2, #T_b63c5_row5_col3, #T_b63c5_row5_col4, #T_b63c5_row5_col5 {\n  text-align: center;\n  font-size: 12px;\n}\n</style>\n<table id=\"T_b63c5\" border=\"1\">\n  <caption>My Matrix</caption>\n  <thead>\n    <tr>\n      <th class=\"blank level0\" >&nbsp;</th>\n      <th id=\"T_b63c5_level0_col0\" class=\"col_heading level0 col0\" >Salim</th>\n      <th id=\"T_b63c5_level0_col1\" class=\"col_heading level0 col1\" >Ahmed</th>\n      <th id=\"T_b63c5_level0_col2\" class=\"col_heading level0 col2\" >Alex</th>\n      <th id=\"T_b63c5_level0_col3\" class=\"col_heading level0 col3\" >Annie</th>\n      <th id=\"T_b63c5_level0_col4\" class=\"col_heading level0 col4\" >Emily-Ali-John</th>\n      <th id=\"T_b63c5_level0_col5\" class=\"col_heading level0 col5\" >Katie</th>\n    </tr>\n  </thead>\n  <tbody>\n    <tr>\n      <th id=\"T_b63c5_level0_row0\" class=\"row_heading level0 row0\" >Salim</th>\n      <td id=\"T_b63c5_row0_col0\" class=\"data row0 col0\" >0.000000</td>\n      <td id=\"T_b63c5_row0_col1\" class=\"data row0 col1\" >0.458333</td>\n      <td id=\"T_b63c5_row0_col2\" class=\"data row0 col2\" >0.597222</td>\n      <td id=\"T_b63c5_row0_col3\" class=\"data row0 col3\" >0.236111</td>\n      <td id=\"T_b63c5_row0_col4\" class=\"data row0 col4\" >0.333333</td>\n      <td id=\"T_b63c5_row0_col5\" class=\"data row0 col5\" >0.402778</td>\n    </tr>\n    <tr>\n      <th id=\"T_b63c5_level0_row1\" class=\"row_heading level0 row1\" >Ahmed</th>\n      <td id=\"T_b63c5_row1_col0\" class=\"data row1 col0\" >0.458333</td>\n      <td id=\"T_b63c5_row1_col1\" class=\"data row1 col1\" >0.000000</td>\n      <td id=\"T_b63c5_row1_col2\" class=\"data row1 col2\" >0.444444</td>\n      <td id=\"T_b63c5_row1_col3\" class=\"data row1 col3\" >0.527778</td>\n      <td id=\"T_b63c5_row1_col4\" class=\"data row1 col4\" >0.527778</td>\n      <td id=\"T_b63c5_row1_col5\" class=\"data row1 col5\" >0.361111</td>\n    </tr>\n    <tr>\n      <th id=\"T_b63c5_level0_row2\" class=\"row_heading level0 row2\" >Alex</th>\n      <td id=\"T_b63c5_row2_col0\" class=\"data row2 col0\" >0.597222</td>\n      <td id=\"T_b63c5_row2_col1\" class=\"data row2 col1\" >0.444444</td>\n      <td id=\"T_b63c5_row2_col2\" class=\"data row2 col2\" >0.000000</td>\n      <td id=\"T_b63c5_row2_col3\" class=\"data row2 col3\" >0.472222</td>\n      <td id=\"T_b63c5_row2_col4\" class=\"data row2 col4\" >0.541667</td>\n      <td id=\"T_b63c5_row2_col5\" class=\"data row2 col5\" >0.250000</td>\n    </tr>\n    <tr>\n      <th id=\"T_b63c5_level0_row3\" class=\"row_heading level0 row3\" >Annie</th>\n      <td id=\"T_b63c5_row3_col0\" class=\"data row3 col0\" >0.236111</td>\n      <td id=\"T_b63c5_row3_col1\" class=\"data row3 col1\" >0.527778</td>\n      <td id=\"T_b63c5_row3_col2\" class=\"data row3 col2\" >0.472222</td>\n      <td id=\"T_b63c5_row3_col3\" class=\"data row3 col3\" >0.000000</td>\n      <td id=\"T_b63c5_row3_col4\" class=\"data row3 col4\" >0.347222</td>\n      <td id=\"T_b63c5_row3_col5\" class=\"data row3 col5\" >0.388889</td>\n    </tr>\n    <tr>\n      <th id=\"T_b63c5_level0_row4\" class=\"row_heading level0 row4\" >Emily-Ali-John</th>\n      <td id=\"T_b63c5_row4_col0\" class=\"data row4 col0\" >0.333333</td>\n      <td id=\"T_b63c5_row4_col1\" class=\"data row4 col1\" >0.527778</td>\n      <td id=\"T_b63c5_row4_col2\" class=\"data row4 col2\" >0.541667</td>\n      <td id=\"T_b63c5_row4_col3\" class=\"data row4 col3\" >0.347222</td>\n      <td id=\"T_b63c5_row4_col4\" class=\"data row4 col4\" >0.000000</td>\n      <td id=\"T_b63c5_row4_col5\" class=\"data row4 col5\" >0.736111</td>\n    </tr>\n    <tr>\n      <th id=\"T_b63c5_level0_row5\" class=\"row_heading level0 row5\" >Katie</th>\n      <td id=\"T_b63c5_row5_col0\" class=\"data row5 col0\" >0.402778</td>\n      <td id=\"T_b63c5_row5_col1\" class=\"data row5 col1\" >0.361111</td>\n      <td id=\"T_b63c5_row5_col2\" class=\"data row5 col2\" >0.250000</td>\n      <td id=\"T_b63c5_row5_col3\" class=\"data row5 col3\" >0.388889</td>\n      <td id=\"T_b63c5_row5_col4\" class=\"data row5 col4\" >0.736111</td>\n      <td id=\"T_b63c5_row5_col5\" class=\"data row5 col5\" >0.000000</td>\n    </tr>\n  </tbody>\n</table>\n"
     },
     "metadata": {},
     "output_type": "display_data"
    },
    {
     "data": {
      "text/plain": "<pandas.io.formats.style.Styler at 0x1f98841b110>",
      "text/html": "<style type=\"text/css\">\n#T_6596e th {\n  font-size: 14px;\n}\n#T_6596e_row0_col0, #T_6596e_row0_col1, #T_6596e_row0_col2, #T_6596e_row0_col3, #T_6596e_row0_col4, #T_6596e_row1_col0, #T_6596e_row1_col1, #T_6596e_row1_col2, #T_6596e_row1_col3, #T_6596e_row1_col4, #T_6596e_row2_col0, #T_6596e_row2_col1, #T_6596e_row2_col2, #T_6596e_row2_col3, #T_6596e_row2_col4, #T_6596e_row3_col0, #T_6596e_row3_col1, #T_6596e_row3_col2, #T_6596e_row3_col3, #T_6596e_row3_col4, #T_6596e_row4_col0, #T_6596e_row4_col1, #T_6596e_row4_col2, #T_6596e_row4_col3, #T_6596e_row4_col4 {\n  text-align: center;\n  font-size: 12px;\n}\n</style>\n<table id=\"T_6596e\" border=\"1\">\n  <caption>My Matrix</caption>\n  <thead>\n    <tr>\n      <th class=\"blank level0\" >&nbsp;</th>\n      <th id=\"T_6596e_level0_col0\" class=\"col_heading level0 col0\" >Salim-Annie</th>\n      <th id=\"T_6596e_level0_col1\" class=\"col_heading level0 col1\" >Ahmed</th>\n      <th id=\"T_6596e_level0_col2\" class=\"col_heading level0 col2\" >Alex</th>\n      <th id=\"T_6596e_level0_col3\" class=\"col_heading level0 col3\" >Emily-Ali-John</th>\n      <th id=\"T_6596e_level0_col4\" class=\"col_heading level0 col4\" >Katie</th>\n    </tr>\n  </thead>\n  <tbody>\n    <tr>\n      <th id=\"T_6596e_level0_row0\" class=\"row_heading level0 row0\" >Salim-Annie</th>\n      <td id=\"T_6596e_row0_col0\" class=\"data row0 col0\" >0.000000</td>\n      <td id=\"T_6596e_row0_col1\" class=\"data row0 col1\" >0.458333</td>\n      <td id=\"T_6596e_row0_col2\" class=\"data row0 col2\" >0.472222</td>\n      <td id=\"T_6596e_row0_col3\" class=\"data row0 col3\" >0.333333</td>\n      <td id=\"T_6596e_row0_col4\" class=\"data row0 col4\" >0.388889</td>\n    </tr>\n    <tr>\n      <th id=\"T_6596e_level0_row1\" class=\"row_heading level0 row1\" >Ahmed</th>\n      <td id=\"T_6596e_row1_col0\" class=\"data row1 col0\" >0.458333</td>\n      <td id=\"T_6596e_row1_col1\" class=\"data row1 col1\" >0.000000</td>\n      <td id=\"T_6596e_row1_col2\" class=\"data row1 col2\" >0.444444</td>\n      <td id=\"T_6596e_row1_col3\" class=\"data row1 col3\" >0.527778</td>\n      <td id=\"T_6596e_row1_col4\" class=\"data row1 col4\" >0.361111</td>\n    </tr>\n    <tr>\n      <th id=\"T_6596e_level0_row2\" class=\"row_heading level0 row2\" >Alex</th>\n      <td id=\"T_6596e_row2_col0\" class=\"data row2 col0\" >0.472222</td>\n      <td id=\"T_6596e_row2_col1\" class=\"data row2 col1\" >0.444444</td>\n      <td id=\"T_6596e_row2_col2\" class=\"data row2 col2\" >0.000000</td>\n      <td id=\"T_6596e_row2_col3\" class=\"data row2 col3\" >0.541667</td>\n      <td id=\"T_6596e_row2_col4\" class=\"data row2 col4\" >0.250000</td>\n    </tr>\n    <tr>\n      <th id=\"T_6596e_level0_row3\" class=\"row_heading level0 row3\" >Emily-Ali-John</th>\n      <td id=\"T_6596e_row3_col0\" class=\"data row3 col0\" >0.333333</td>\n      <td id=\"T_6596e_row3_col1\" class=\"data row3 col1\" >0.527778</td>\n      <td id=\"T_6596e_row3_col2\" class=\"data row3 col2\" >0.541667</td>\n      <td id=\"T_6596e_row3_col3\" class=\"data row3 col3\" >0.000000</td>\n      <td id=\"T_6596e_row3_col4\" class=\"data row3 col4\" >0.736111</td>\n    </tr>\n    <tr>\n      <th id=\"T_6596e_level0_row4\" class=\"row_heading level0 row4\" >Katie</th>\n      <td id=\"T_6596e_row4_col0\" class=\"data row4 col0\" >0.388889</td>\n      <td id=\"T_6596e_row4_col1\" class=\"data row4 col1\" >0.361111</td>\n      <td id=\"T_6596e_row4_col2\" class=\"data row4 col2\" >0.250000</td>\n      <td id=\"T_6596e_row4_col3\" class=\"data row4 col3\" >0.736111</td>\n      <td id=\"T_6596e_row4_col4\" class=\"data row4 col4\" >0.000000</td>\n    </tr>\n  </tbody>\n</table>\n"
     },
     "metadata": {},
     "output_type": "display_data"
    },
    {
     "data": {
      "text/plain": "<pandas.io.formats.style.Styler at 0x1f9882ec090>",
      "text/html": "<style type=\"text/css\">\n#T_35883 th {\n  font-size: 14px;\n}\n#T_35883_row0_col0, #T_35883_row0_col1, #T_35883_row0_col2, #T_35883_row0_col3, #T_35883_row1_col0, #T_35883_row1_col1, #T_35883_row1_col2, #T_35883_row1_col3, #T_35883_row2_col0, #T_35883_row2_col1, #T_35883_row2_col2, #T_35883_row2_col3, #T_35883_row3_col0, #T_35883_row3_col1, #T_35883_row3_col2, #T_35883_row3_col3 {\n  text-align: center;\n  font-size: 12px;\n}\n</style>\n<table id=\"T_35883\" border=\"1\">\n  <caption>My Matrix</caption>\n  <thead>\n    <tr>\n      <th class=\"blank level0\" >&nbsp;</th>\n      <th id=\"T_35883_level0_col0\" class=\"col_heading level0 col0\" >Salim-Annie</th>\n      <th id=\"T_35883_level0_col1\" class=\"col_heading level0 col1\" >Ahmed</th>\n      <th id=\"T_35883_level0_col2\" class=\"col_heading level0 col2\" >Alex-Katie</th>\n      <th id=\"T_35883_level0_col3\" class=\"col_heading level0 col3\" >Emily-Ali-John</th>\n    </tr>\n  </thead>\n  <tbody>\n    <tr>\n      <th id=\"T_35883_level0_row0\" class=\"row_heading level0 row0\" >Salim-Annie</th>\n      <td id=\"T_35883_row0_col0\" class=\"data row0 col0\" >0.000000</td>\n      <td id=\"T_35883_row0_col1\" class=\"data row0 col1\" >0.458333</td>\n      <td id=\"T_35883_row0_col2\" class=\"data row0 col2\" >0.388889</td>\n      <td id=\"T_35883_row0_col3\" class=\"data row0 col3\" >0.333333</td>\n    </tr>\n    <tr>\n      <th id=\"T_35883_level0_row1\" class=\"row_heading level0 row1\" >Ahmed</th>\n      <td id=\"T_35883_row1_col0\" class=\"data row1 col0\" >0.458333</td>\n      <td id=\"T_35883_row1_col1\" class=\"data row1 col1\" >0.000000</td>\n      <td id=\"T_35883_row1_col2\" class=\"data row1 col2\" >0.361111</td>\n      <td id=\"T_35883_row1_col3\" class=\"data row1 col3\" >0.527778</td>\n    </tr>\n    <tr>\n      <th id=\"T_35883_level0_row2\" class=\"row_heading level0 row2\" >Alex-Katie</th>\n      <td id=\"T_35883_row2_col0\" class=\"data row2 col0\" >0.388889</td>\n      <td id=\"T_35883_row2_col1\" class=\"data row2 col1\" >0.361111</td>\n      <td id=\"T_35883_row2_col2\" class=\"data row2 col2\" >0.000000</td>\n      <td id=\"T_35883_row2_col3\" class=\"data row2 col3\" >0.541667</td>\n    </tr>\n    <tr>\n      <th id=\"T_35883_level0_row3\" class=\"row_heading level0 row3\" >Emily-Ali-John</th>\n      <td id=\"T_35883_row3_col0\" class=\"data row3 col0\" >0.333333</td>\n      <td id=\"T_35883_row3_col1\" class=\"data row3 col1\" >0.527778</td>\n      <td id=\"T_35883_row3_col2\" class=\"data row3 col2\" >0.541667</td>\n      <td id=\"T_35883_row3_col3\" class=\"data row3 col3\" >0.000000</td>\n    </tr>\n  </tbody>\n</table>\n"
     },
     "metadata": {},
     "output_type": "display_data"
    },
    {
     "data": {
      "text/plain": "<pandas.io.formats.style.Styler at 0x1f9882ec090>",
      "text/html": "<style type=\"text/css\">\n#T_918eb th {\n  font-size: 14px;\n}\n#T_918eb_row0_col0, #T_918eb_row0_col1, #T_918eb_row0_col2, #T_918eb_row1_col0, #T_918eb_row1_col1, #T_918eb_row1_col2, #T_918eb_row2_col0, #T_918eb_row2_col1, #T_918eb_row2_col2 {\n  text-align: center;\n  font-size: 12px;\n}\n</style>\n<table id=\"T_918eb\" border=\"1\">\n  <caption>My Matrix</caption>\n  <thead>\n    <tr>\n      <th class=\"blank level0\" >&nbsp;</th>\n      <th id=\"T_918eb_level0_col0\" class=\"col_heading level0 col0\" >Salim-Annie-Emily-Ali-John</th>\n      <th id=\"T_918eb_level0_col1\" class=\"col_heading level0 col1\" >Ahmed</th>\n      <th id=\"T_918eb_level0_col2\" class=\"col_heading level0 col2\" >Alex-Katie</th>\n    </tr>\n  </thead>\n  <tbody>\n    <tr>\n      <th id=\"T_918eb_level0_row0\" class=\"row_heading level0 row0\" >Salim-Annie-Emily-Ali-John</th>\n      <td id=\"T_918eb_row0_col0\" class=\"data row0 col0\" >0.000000</td>\n      <td id=\"T_918eb_row0_col1\" class=\"data row0 col1\" >0.458333</td>\n      <td id=\"T_918eb_row0_col2\" class=\"data row0 col2\" >0.388889</td>\n    </tr>\n    <tr>\n      <th id=\"T_918eb_level0_row1\" class=\"row_heading level0 row1\" >Ahmed</th>\n      <td id=\"T_918eb_row1_col0\" class=\"data row1 col0\" >0.458333</td>\n      <td id=\"T_918eb_row1_col1\" class=\"data row1 col1\" >0.000000</td>\n      <td id=\"T_918eb_row1_col2\" class=\"data row1 col2\" >0.361111</td>\n    </tr>\n    <tr>\n      <th id=\"T_918eb_level0_row2\" class=\"row_heading level0 row2\" >Alex-Katie</th>\n      <td id=\"T_918eb_row2_col0\" class=\"data row2 col0\" >0.388889</td>\n      <td id=\"T_918eb_row2_col1\" class=\"data row2 col1\" >0.361111</td>\n      <td id=\"T_918eb_row2_col2\" class=\"data row2 col2\" >0.000000</td>\n    </tr>\n  </tbody>\n</table>\n"
     },
     "metadata": {},
     "output_type": "display_data"
    },
    {
     "data": {
      "text/plain": "<pandas.io.formats.style.Styler at 0x1f9882ec090>",
      "text/html": "<style type=\"text/css\">\n#T_818e3 th {\n  font-size: 14px;\n}\n#T_818e3_row0_col0, #T_818e3_row0_col1, #T_818e3_row1_col0, #T_818e3_row1_col1 {\n  text-align: center;\n  font-size: 12px;\n}\n</style>\n<table id=\"T_818e3\" border=\"1\">\n  <caption>My Matrix</caption>\n  <thead>\n    <tr>\n      <th class=\"blank level0\" >&nbsp;</th>\n      <th id=\"T_818e3_level0_col0\" class=\"col_heading level0 col0\" >Salim-Annie-Emily-Ali-John</th>\n      <th id=\"T_818e3_level0_col1\" class=\"col_heading level0 col1\" >Ahmed-Alex-Katie</th>\n    </tr>\n  </thead>\n  <tbody>\n    <tr>\n      <th id=\"T_818e3_level0_row0\" class=\"row_heading level0 row0\" >Salim-Annie-Emily-Ali-John</th>\n      <td id=\"T_818e3_row0_col0\" class=\"data row0 col0\" >0.000000</td>\n      <td id=\"T_818e3_row0_col1\" class=\"data row0 col1\" >0.388889</td>\n    </tr>\n    <tr>\n      <th id=\"T_818e3_level0_row1\" class=\"row_heading level0 row1\" >Ahmed-Alex-Katie</th>\n      <td id=\"T_818e3_row1_col0\" class=\"data row1 col0\" >0.388889</td>\n      <td id=\"T_818e3_row1_col1\" class=\"data row1 col1\" >0.000000</td>\n    </tr>\n  </tbody>\n</table>\n"
     },
     "metadata": {},
     "output_type": "display_data"
    },
    {
     "name": "stdout",
     "output_type": "stream",
     "text": [
      "      poids    cheveux  taile  vegetarien\n",
      "0  0.111111  [1, 0, 0]    0.5           0\n",
      "1  0.444444  [1, 0, 0]    1.0           1\n",
      "2  0.333333  [0, 1, 0]    0.0           1\n",
      "3  0.555556  [1, 0, 0]    0.0           0\n",
      "4  0.777778  [0, 0, 1]    0.5           0\n",
      "5  0.888889  [0, 1, 0]    1.0           0\n",
      "6  1.000000  [0, 1, 0]    0.5           0\n",
      "7  0.000000  [1, 0, 0]    0.0           1\n"
     ]
    }
   ],
   "source": [
    "data = pd.read_csv('data.csv')\n",
    "labels = data['id'].values\n",
    "\n",
    "hierarchical_clustering_algo_agnes(data)"
   ],
   "metadata": {
    "collapsed": false,
    "ExecuteTime": {
     "start_time": "2023-04-04T20:16:53.000767Z",
     "end_time": "2023-04-04T20:16:53.143956Z"
    }
   }
  }
 ],
 "metadata": {
  "kernelspec": {
   "display_name": "Python 3",
   "language": "python",
   "name": "python3"
  },
  "language_info": {
   "codemirror_mode": {
    "name": "ipython",
    "version": 2
   },
   "file_extension": ".py",
   "mimetype": "text/x-python",
   "name": "python",
   "nbconvert_exporter": "python",
   "pygments_lexer": "ipython2",
   "version": "2.7.6"
  }
 },
 "nbformat": 4,
 "nbformat_minor": 0
}
